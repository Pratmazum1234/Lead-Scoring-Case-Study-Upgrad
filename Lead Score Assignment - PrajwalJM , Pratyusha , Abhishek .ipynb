{
 "cells": [
  {
   "cell_type": "code",
   "execution_count": 1,
   "id": "2114b247",
   "metadata": {},
   "outputs": [],
   "source": [
    "#importing all required libraries\n",
    "\n",
    "import numpy as np\n",
    "import pandas as pd\n",
    "import matplotlib.pyplot as plt\n",
    "import seaborn as sns\n",
    "import statsmodels.api as sm\n",
    "from statsmodels.stats.outliers_influence import variance_inflation_factor\n",
    "import warnings\n",
    "warnings.filterwarnings('ignore')"
   ]
  },
  {
   "cell_type": "code",
   "execution_count": 8,
   "id": "0b3d34ff",
   "metadata": {},
   "outputs": [
    {
     "data": {
      "text/html": [
       "<div>\n",
       "<style scoped>\n",
       "    .dataframe tbody tr th:only-of-type {\n",
       "        vertical-align: middle;\n",
       "    }\n",
       "\n",
       "    .dataframe tbody tr th {\n",
       "        vertical-align: top;\n",
       "    }\n",
       "\n",
       "    .dataframe thead th {\n",
       "        text-align: right;\n",
       "    }\n",
       "</style>\n",
       "<table border=\"1\" class=\"dataframe\">\n",
       "  <thead>\n",
       "    <tr style=\"text-align: right;\">\n",
       "      <th></th>\n",
       "      <th>Prospect ID</th>\n",
       "      <th>Lead Number</th>\n",
       "      <th>Lead Origin</th>\n",
       "      <th>Lead Source</th>\n",
       "      <th>Do Not Email</th>\n",
       "      <th>Do Not Call</th>\n",
       "      <th>Converted</th>\n",
       "      <th>TotalVisits</th>\n",
       "      <th>Total Time Spent on Website</th>\n",
       "      <th>Page Views Per Visit</th>\n",
       "      <th>...</th>\n",
       "      <th>Get updates on DM Content</th>\n",
       "      <th>Lead Profile</th>\n",
       "      <th>City</th>\n",
       "      <th>Asymmetrique Activity Index</th>\n",
       "      <th>Asymmetrique Profile Index</th>\n",
       "      <th>Asymmetrique Activity Score</th>\n",
       "      <th>Asymmetrique Profile Score</th>\n",
       "      <th>I agree to pay the amount through cheque</th>\n",
       "      <th>A free copy of Mastering The Interview</th>\n",
       "      <th>Last Notable Activity</th>\n",
       "    </tr>\n",
       "  </thead>\n",
       "  <tbody>\n",
       "    <tr>\n",
       "      <th>0</th>\n",
       "      <td>7927b2df-8bba-4d29-b9a2-b6e0beafe620</td>\n",
       "      <td>660737</td>\n",
       "      <td>API</td>\n",
       "      <td>Olark Chat</td>\n",
       "      <td>No</td>\n",
       "      <td>No</td>\n",
       "      <td>0</td>\n",
       "      <td>0.0</td>\n",
       "      <td>0</td>\n",
       "      <td>0.0</td>\n",
       "      <td>...</td>\n",
       "      <td>No</td>\n",
       "      <td>Select</td>\n",
       "      <td>Select</td>\n",
       "      <td>02.Medium</td>\n",
       "      <td>02.Medium</td>\n",
       "      <td>15.0</td>\n",
       "      <td>15.0</td>\n",
       "      <td>No</td>\n",
       "      <td>No</td>\n",
       "      <td>Modified</td>\n",
       "    </tr>\n",
       "    <tr>\n",
       "      <th>1</th>\n",
       "      <td>2a272436-5132-4136-86fa-dcc88c88f482</td>\n",
       "      <td>660728</td>\n",
       "      <td>API</td>\n",
       "      <td>Organic Search</td>\n",
       "      <td>No</td>\n",
       "      <td>No</td>\n",
       "      <td>0</td>\n",
       "      <td>5.0</td>\n",
       "      <td>674</td>\n",
       "      <td>2.5</td>\n",
       "      <td>...</td>\n",
       "      <td>No</td>\n",
       "      <td>Select</td>\n",
       "      <td>Select</td>\n",
       "      <td>02.Medium</td>\n",
       "      <td>02.Medium</td>\n",
       "      <td>15.0</td>\n",
       "      <td>15.0</td>\n",
       "      <td>No</td>\n",
       "      <td>No</td>\n",
       "      <td>Email Opened</td>\n",
       "    </tr>\n",
       "    <tr>\n",
       "      <th>2</th>\n",
       "      <td>8cc8c611-a219-4f35-ad23-fdfd2656bd8a</td>\n",
       "      <td>660727</td>\n",
       "      <td>Landing Page Submission</td>\n",
       "      <td>Direct Traffic</td>\n",
       "      <td>No</td>\n",
       "      <td>No</td>\n",
       "      <td>1</td>\n",
       "      <td>2.0</td>\n",
       "      <td>1532</td>\n",
       "      <td>2.0</td>\n",
       "      <td>...</td>\n",
       "      <td>No</td>\n",
       "      <td>Potential Lead</td>\n",
       "      <td>Mumbai</td>\n",
       "      <td>02.Medium</td>\n",
       "      <td>01.High</td>\n",
       "      <td>14.0</td>\n",
       "      <td>20.0</td>\n",
       "      <td>No</td>\n",
       "      <td>Yes</td>\n",
       "      <td>Email Opened</td>\n",
       "    </tr>\n",
       "    <tr>\n",
       "      <th>3</th>\n",
       "      <td>0cc2df48-7cf4-4e39-9de9-19797f9b38cc</td>\n",
       "      <td>660719</td>\n",
       "      <td>Landing Page Submission</td>\n",
       "      <td>Direct Traffic</td>\n",
       "      <td>No</td>\n",
       "      <td>No</td>\n",
       "      <td>0</td>\n",
       "      <td>1.0</td>\n",
       "      <td>305</td>\n",
       "      <td>1.0</td>\n",
       "      <td>...</td>\n",
       "      <td>No</td>\n",
       "      <td>Select</td>\n",
       "      <td>Mumbai</td>\n",
       "      <td>02.Medium</td>\n",
       "      <td>01.High</td>\n",
       "      <td>13.0</td>\n",
       "      <td>17.0</td>\n",
       "      <td>No</td>\n",
       "      <td>No</td>\n",
       "      <td>Modified</td>\n",
       "    </tr>\n",
       "    <tr>\n",
       "      <th>4</th>\n",
       "      <td>3256f628-e534-4826-9d63-4a8b88782852</td>\n",
       "      <td>660681</td>\n",
       "      <td>Landing Page Submission</td>\n",
       "      <td>Google</td>\n",
       "      <td>No</td>\n",
       "      <td>No</td>\n",
       "      <td>1</td>\n",
       "      <td>2.0</td>\n",
       "      <td>1428</td>\n",
       "      <td>1.0</td>\n",
       "      <td>...</td>\n",
       "      <td>No</td>\n",
       "      <td>Select</td>\n",
       "      <td>Mumbai</td>\n",
       "      <td>02.Medium</td>\n",
       "      <td>01.High</td>\n",
       "      <td>15.0</td>\n",
       "      <td>18.0</td>\n",
       "      <td>No</td>\n",
       "      <td>No</td>\n",
       "      <td>Modified</td>\n",
       "    </tr>\n",
       "  </tbody>\n",
       "</table>\n",
       "<p>5 rows × 37 columns</p>\n",
       "</div>"
      ],
      "text/plain": [
       "                            Prospect ID  Lead Number              Lead Origin  \\\n",
       "0  7927b2df-8bba-4d29-b9a2-b6e0beafe620       660737                      API   \n",
       "1  2a272436-5132-4136-86fa-dcc88c88f482       660728                      API   \n",
       "2  8cc8c611-a219-4f35-ad23-fdfd2656bd8a       660727  Landing Page Submission   \n",
       "3  0cc2df48-7cf4-4e39-9de9-19797f9b38cc       660719  Landing Page Submission   \n",
       "4  3256f628-e534-4826-9d63-4a8b88782852       660681  Landing Page Submission   \n",
       "\n",
       "      Lead Source Do Not Email Do Not Call  Converted  TotalVisits  \\\n",
       "0      Olark Chat           No          No          0          0.0   \n",
       "1  Organic Search           No          No          0          5.0   \n",
       "2  Direct Traffic           No          No          1          2.0   \n",
       "3  Direct Traffic           No          No          0          1.0   \n",
       "4          Google           No          No          1          2.0   \n",
       "\n",
       "   Total Time Spent on Website  Page Views Per Visit  ...  \\\n",
       "0                            0                   0.0  ...   \n",
       "1                          674                   2.5  ...   \n",
       "2                         1532                   2.0  ...   \n",
       "3                          305                   1.0  ...   \n",
       "4                         1428                   1.0  ...   \n",
       "\n",
       "  Get updates on DM Content    Lead Profile    City  \\\n",
       "0                        No          Select  Select   \n",
       "1                        No          Select  Select   \n",
       "2                        No  Potential Lead  Mumbai   \n",
       "3                        No          Select  Mumbai   \n",
       "4                        No          Select  Mumbai   \n",
       "\n",
       "  Asymmetrique Activity Index Asymmetrique Profile Index  \\\n",
       "0                   02.Medium                  02.Medium   \n",
       "1                   02.Medium                  02.Medium   \n",
       "2                   02.Medium                    01.High   \n",
       "3                   02.Medium                    01.High   \n",
       "4                   02.Medium                    01.High   \n",
       "\n",
       "  Asymmetrique Activity Score Asymmetrique Profile Score  \\\n",
       "0                        15.0                       15.0   \n",
       "1                        15.0                       15.0   \n",
       "2                        14.0                       20.0   \n",
       "3                        13.0                       17.0   \n",
       "4                        15.0                       18.0   \n",
       "\n",
       "  I agree to pay the amount through cheque  \\\n",
       "0                                       No   \n",
       "1                                       No   \n",
       "2                                       No   \n",
       "3                                       No   \n",
       "4                                       No   \n",
       "\n",
       "  A free copy of Mastering The Interview Last Notable Activity  \n",
       "0                                     No              Modified  \n",
       "1                                     No          Email Opened  \n",
       "2                                    Yes          Email Opened  \n",
       "3                                     No              Modified  \n",
       "4                                     No              Modified  \n",
       "\n",
       "[5 rows x 37 columns]"
      ]
     },
     "execution_count": 8,
     "metadata": {},
     "output_type": "execute_result"
    }
   ],
   "source": [
    "# Importing the data\n",
    "\n",
    "file1 = pd.read_csv(\"..\\Downloads\\Leads.csv\")\n",
    "file1.head()"
   ]
  },
  {
   "cell_type": "code",
   "execution_count": 10,
   "id": "69496c2d",
   "metadata": {},
   "outputs": [
    {
     "name": "stdout",
     "output_type": "stream",
     "text": [
      "<class 'pandas.core.frame.DataFrame'>\n",
      "RangeIndex: 9240 entries, 0 to 9239\n",
      "Data columns (total 37 columns):\n",
      " #   Column                                         Non-Null Count  Dtype  \n",
      "---  ------                                         --------------  -----  \n",
      " 0   Prospect ID                                    9240 non-null   object \n",
      " 1   Lead Number                                    9240 non-null   int64  \n",
      " 2   Lead Origin                                    9240 non-null   object \n",
      " 3   Lead Source                                    9204 non-null   object \n",
      " 4   Do Not Email                                   9240 non-null   object \n",
      " 5   Do Not Call                                    9240 non-null   object \n",
      " 6   Converted                                      9240 non-null   int64  \n",
      " 7   TotalVisits                                    9103 non-null   float64\n",
      " 8   Total Time Spent on Website                    9240 non-null   int64  \n",
      " 9   Page Views Per Visit                           9103 non-null   float64\n",
      " 10  Last Activity                                  9137 non-null   object \n",
      " 11  Country                                        6779 non-null   object \n",
      " 12  Specialization                                 7802 non-null   object \n",
      " 13  How did you hear about X Education             7033 non-null   object \n",
      " 14  What is your current occupation                6550 non-null   object \n",
      " 15  What matters most to you in choosing a course  6531 non-null   object \n",
      " 16  Search                                         9240 non-null   object \n",
      " 17  Magazine                                       9240 non-null   object \n",
      " 18  Newspaper Article                              9240 non-null   object \n",
      " 19  X Education Forums                             9240 non-null   object \n",
      " 20  Newspaper                                      9240 non-null   object \n",
      " 21  Digital Advertisement                          9240 non-null   object \n",
      " 22  Through Recommendations                        9240 non-null   object \n",
      " 23  Receive More Updates About Our Courses         9240 non-null   object \n",
      " 24  Tags                                           5887 non-null   object \n",
      " 25  Lead Quality                                   4473 non-null   object \n",
      " 26  Update me on Supply Chain Content              9240 non-null   object \n",
      " 27  Get updates on DM Content                      9240 non-null   object \n",
      " 28  Lead Profile                                   6531 non-null   object \n",
      " 29  City                                           7820 non-null   object \n",
      " 30  Asymmetrique Activity Index                    5022 non-null   object \n",
      " 31  Asymmetrique Profile Index                     5022 non-null   object \n",
      " 32  Asymmetrique Activity Score                    5022 non-null   float64\n",
      " 33  Asymmetrique Profile Score                     5022 non-null   float64\n",
      " 34  I agree to pay the amount through cheque       9240 non-null   object \n",
      " 35  A free copy of Mastering The Interview         9240 non-null   object \n",
      " 36  Last Notable Activity                          9240 non-null   object \n",
      "dtypes: float64(4), int64(3), object(30)\n",
      "memory usage: 2.6+ MB\n"
     ]
    }
   ],
   "source": [
    "# checking the Data Types distribution\n",
    "\n",
    "file1.info()"
   ]
  },
  {
   "cell_type": "markdown",
   "id": "4947a7f0",
   "metadata": {},
   "source": [
    "From above ,it can be seen above there are around 7 Numeric Column and 30 Categorical Value"
   ]
  },
  {
   "cell_type": "code",
   "execution_count": 11,
   "id": "b4b826cd",
   "metadata": {},
   "outputs": [
    {
     "data": {
      "text/html": [
       "<div>\n",
       "<style scoped>\n",
       "    .dataframe tbody tr th:only-of-type {\n",
       "        vertical-align: middle;\n",
       "    }\n",
       "\n",
       "    .dataframe tbody tr th {\n",
       "        vertical-align: top;\n",
       "    }\n",
       "\n",
       "    .dataframe thead th {\n",
       "        text-align: right;\n",
       "    }\n",
       "</style>\n",
       "<table border=\"1\" class=\"dataframe\">\n",
       "  <thead>\n",
       "    <tr style=\"text-align: right;\">\n",
       "      <th></th>\n",
       "      <th>Lead Number</th>\n",
       "      <th>Converted</th>\n",
       "      <th>TotalVisits</th>\n",
       "      <th>Total Time Spent on Website</th>\n",
       "      <th>Page Views Per Visit</th>\n",
       "      <th>Asymmetrique Activity Score</th>\n",
       "      <th>Asymmetrique Profile Score</th>\n",
       "    </tr>\n",
       "  </thead>\n",
       "  <tbody>\n",
       "    <tr>\n",
       "      <th>count</th>\n",
       "      <td>9240.000000</td>\n",
       "      <td>9240.000000</td>\n",
       "      <td>9103.000000</td>\n",
       "      <td>9240.000000</td>\n",
       "      <td>9103.000000</td>\n",
       "      <td>5022.000000</td>\n",
       "      <td>5022.000000</td>\n",
       "    </tr>\n",
       "    <tr>\n",
       "      <th>mean</th>\n",
       "      <td>617188.435606</td>\n",
       "      <td>0.385390</td>\n",
       "      <td>3.445238</td>\n",
       "      <td>487.698268</td>\n",
       "      <td>2.362820</td>\n",
       "      <td>14.306252</td>\n",
       "      <td>16.344883</td>\n",
       "    </tr>\n",
       "    <tr>\n",
       "      <th>std</th>\n",
       "      <td>23405.995698</td>\n",
       "      <td>0.486714</td>\n",
       "      <td>4.854853</td>\n",
       "      <td>548.021466</td>\n",
       "      <td>2.161418</td>\n",
       "      <td>1.386694</td>\n",
       "      <td>1.811395</td>\n",
       "    </tr>\n",
       "    <tr>\n",
       "      <th>min</th>\n",
       "      <td>579533.000000</td>\n",
       "      <td>0.000000</td>\n",
       "      <td>0.000000</td>\n",
       "      <td>0.000000</td>\n",
       "      <td>0.000000</td>\n",
       "      <td>7.000000</td>\n",
       "      <td>11.000000</td>\n",
       "    </tr>\n",
       "    <tr>\n",
       "      <th>25%</th>\n",
       "      <td>596484.500000</td>\n",
       "      <td>0.000000</td>\n",
       "      <td>1.000000</td>\n",
       "      <td>12.000000</td>\n",
       "      <td>1.000000</td>\n",
       "      <td>14.000000</td>\n",
       "      <td>15.000000</td>\n",
       "    </tr>\n",
       "    <tr>\n",
       "      <th>50%</th>\n",
       "      <td>615479.000000</td>\n",
       "      <td>0.000000</td>\n",
       "      <td>3.000000</td>\n",
       "      <td>248.000000</td>\n",
       "      <td>2.000000</td>\n",
       "      <td>14.000000</td>\n",
       "      <td>16.000000</td>\n",
       "    </tr>\n",
       "    <tr>\n",
       "      <th>75%</th>\n",
       "      <td>637387.250000</td>\n",
       "      <td>1.000000</td>\n",
       "      <td>5.000000</td>\n",
       "      <td>936.000000</td>\n",
       "      <td>3.000000</td>\n",
       "      <td>15.000000</td>\n",
       "      <td>18.000000</td>\n",
       "    </tr>\n",
       "    <tr>\n",
       "      <th>max</th>\n",
       "      <td>660737.000000</td>\n",
       "      <td>1.000000</td>\n",
       "      <td>251.000000</td>\n",
       "      <td>2272.000000</td>\n",
       "      <td>55.000000</td>\n",
       "      <td>18.000000</td>\n",
       "      <td>20.000000</td>\n",
       "    </tr>\n",
       "  </tbody>\n",
       "</table>\n",
       "</div>"
      ],
      "text/plain": [
       "         Lead Number    Converted  TotalVisits  Total Time Spent on Website  \\\n",
       "count    9240.000000  9240.000000  9103.000000                  9240.000000   \n",
       "mean   617188.435606     0.385390     3.445238                   487.698268   \n",
       "std     23405.995698     0.486714     4.854853                   548.021466   \n",
       "min    579533.000000     0.000000     0.000000                     0.000000   \n",
       "25%    596484.500000     0.000000     1.000000                    12.000000   \n",
       "50%    615479.000000     0.000000     3.000000                   248.000000   \n",
       "75%    637387.250000     1.000000     5.000000                   936.000000   \n",
       "max    660737.000000     1.000000   251.000000                  2272.000000   \n",
       "\n",
       "       Page Views Per Visit  Asymmetrique Activity Score  \\\n",
       "count           9103.000000                  5022.000000   \n",
       "mean               2.362820                    14.306252   \n",
       "std                2.161418                     1.386694   \n",
       "min                0.000000                     7.000000   \n",
       "25%                1.000000                    14.000000   \n",
       "50%                2.000000                    14.000000   \n",
       "75%                3.000000                    15.000000   \n",
       "max               55.000000                    18.000000   \n",
       "\n",
       "       Asymmetrique Profile Score  \n",
       "count                 5022.000000  \n",
       "mean                    16.344883  \n",
       "std                      1.811395  \n",
       "min                     11.000000  \n",
       "25%                     15.000000  \n",
       "50%                     16.000000  \n",
       "75%                     18.000000  \n",
       "max                     20.000000  "
      ]
     },
     "execution_count": 11,
     "metadata": {},
     "output_type": "execute_result"
    }
   ],
   "source": [
    "# To check the statistic information of the Data\n",
    "\n",
    "file1.describe()"
   ]
  },
  {
   "cell_type": "code",
   "execution_count": 13,
   "id": "371c23be",
   "metadata": {},
   "outputs": [
    {
     "data": {
      "text/plain": [
       "(9240, 37)"
      ]
     },
     "execution_count": 13,
     "metadata": {},
     "output_type": "execute_result"
    }
   ],
   "source": [
    "# To check the Dimensions\n",
    "\n",
    "file1.shape"
   ]
  },
  {
   "cell_type": "code",
   "execution_count": 17,
   "id": "ea8d109a",
   "metadata": {},
   "outputs": [
    {
     "data": {
      "text/plain": [
       "Prospect ID                                         0\n",
       "Lead Number                                         0\n",
       "Lead Origin                                         0\n",
       "Lead Source                                        36\n",
       "Do Not Email                                        0\n",
       "Do Not Call                                         0\n",
       "Converted                                           0\n",
       "TotalVisits                                       137\n",
       "Total Time Spent on Website                         0\n",
       "Page Views Per Visit                              137\n",
       "Last Activity                                     103\n",
       "Country                                          2461\n",
       "Specialization                                   1438\n",
       "How did you hear about X Education               2207\n",
       "What is your current occupation                  2690\n",
       "What matters most to you in choosing a course    2709\n",
       "Search                                              0\n",
       "Magazine                                            0\n",
       "Newspaper Article                                   0\n",
       "X Education Forums                                  0\n",
       "Newspaper                                           0\n",
       "Digital Advertisement                               0\n",
       "Through Recommendations                             0\n",
       "Receive More Updates About Our Courses              0\n",
       "Tags                                             3353\n",
       "Lead Quality                                     4767\n",
       "Update me on Supply Chain Content                   0\n",
       "Get updates on DM Content                           0\n",
       "Lead Profile                                     2709\n",
       "City                                             1420\n",
       "Asymmetrique Activity Index                      4218\n",
       "Asymmetrique Profile Index                       4218\n",
       "Asymmetrique Activity Score                      4218\n",
       "Asymmetrique Profile Score                       4218\n",
       "I agree to pay the amount through cheque            0\n",
       "A free copy of Mastering The Interview              0\n",
       "Last Notable Activity                               0\n",
       "dtype: int64"
      ]
     },
     "execution_count": 17,
     "metadata": {},
     "output_type": "execute_result"
    }
   ],
   "source": [
    "# checking missing values\n",
    "\n",
    "file1.isnull().sum()\n",
    "\n",
    "#Result: No Missing Value"
   ]
  },
  {
   "cell_type": "code",
   "execution_count": 18,
   "id": "76793904",
   "metadata": {},
   "outputs": [
    {
     "data": {
      "text/plain": [
       "Lead Quality                                     51.59\n",
       "Asymmetrique Activity Index                      45.65\n",
       "Asymmetrique Profile Score                       45.65\n",
       "Asymmetrique Activity Score                      45.65\n",
       "Asymmetrique Profile Index                       45.65\n",
       "Tags                                             36.29\n",
       "Lead Profile                                     29.32\n",
       "What matters most to you in choosing a course    29.32\n",
       "What is your current occupation                  29.11\n",
       "Country                                          26.63\n",
       "How did you hear about X Education               23.89\n",
       "Specialization                                   15.56\n",
       "City                                             15.37\n",
       "Page Views Per Visit                              1.48\n",
       "TotalVisits                                       1.48\n",
       "Last Activity                                     1.11\n",
       "Lead Source                                       0.39\n",
       "Receive More Updates About Our Courses            0.00\n",
       "I agree to pay the amount through cheque          0.00\n",
       "Get updates on DM Content                         0.00\n",
       "Update me on Supply Chain Content                 0.00\n",
       "A free copy of Mastering The Interview            0.00\n",
       "Prospect ID                                       0.00\n",
       "Newspaper Article                                 0.00\n",
       "Through Recommendations                           0.00\n",
       "Digital Advertisement                             0.00\n",
       "Newspaper                                         0.00\n",
       "X Education Forums                                0.00\n",
       "Lead Number                                       0.00\n",
       "Magazine                                          0.00\n",
       "Search                                            0.00\n",
       "Total Time Spent on Website                       0.00\n",
       "Converted                                         0.00\n",
       "Do Not Call                                       0.00\n",
       "Do Not Email                                      0.00\n",
       "Lead Origin                                       0.00\n",
       "Last Notable Activity                             0.00\n",
       "dtype: float64"
      ]
     },
     "execution_count": 18,
     "metadata": {},
     "output_type": "execute_result"
    }
   ],
   "source": [
    "#checking null values percentage\n",
    "\n",
    "round((100*file1.isnull().sum()/file1.shape[0]),2).sort_values(ascending=False)"
   ]
  },
  {
   "cell_type": "markdown",
   "id": "77b2747c",
   "metadata": {},
   "source": [
    "### Data understanding and Preparation"
   ]
  },
  {
   "cell_type": "code",
   "execution_count": 20,
   "id": "62a83506",
   "metadata": {},
   "outputs": [
    {
     "name": "stdout",
     "output_type": "stream",
     "text": [
      "['Specialization', 'How did you hear about X Education', 'Lead Profile', 'City']\n"
     ]
    }
   ],
   "source": [
    "# Replacing \"Select\" value with null values\n",
    "\n",
    "file1_obj = file1.select_dtypes(include='object')\n",
    "\n",
    "# Finding columns that have \"Select\"\n",
    "\n",
    "c = lambda x: x.str.contains('Select', na=False)\n",
    "l = file1_obj.columns[file1_obj.apply(c).any()].tolist()\n",
    "print (l)"
   ]
  },
  {
   "cell_type": "code",
   "execution_count": 21,
   "id": "fb13e8cc",
   "metadata": {},
   "outputs": [],
   "source": [
    "# All the columns that have a Select Value\n",
    "\n",
    "select_columns = ['Specialization', 'How did you hear about X Education', 'Lead Profile', 'City']\n",
    "\n",
    "# replace values\n",
    "\n",
    "file1[select_columns] = file1[select_columns].replace('Select', np.NaN)"
   ]
  },
  {
   "cell_type": "code",
   "execution_count": 22,
   "id": "f960f8a0",
   "metadata": {},
   "outputs": [
    {
     "data": {
      "text/plain": [
       "How did you hear about X Education               78.46\n",
       "Lead Profile                                     74.19\n",
       "Lead Quality                                     51.59\n",
       "Asymmetrique Profile Score                       45.65\n",
       "Asymmetrique Activity Score                      45.65\n",
       "Asymmetrique Activity Index                      45.65\n",
       "Asymmetrique Profile Index                       45.65\n",
       "City                                             39.71\n",
       "Specialization                                   36.58\n",
       "Tags                                             36.29\n",
       "What matters most to you in choosing a course    29.32\n",
       "What is your current occupation                  29.11\n",
       "Country                                          26.63\n",
       "Page Views Per Visit                              1.48\n",
       "TotalVisits                                       1.48\n",
       "Last Activity                                     1.11\n",
       "Lead Source                                       0.39\n",
       "Receive More Updates About Our Courses            0.00\n",
       "I agree to pay the amount through cheque          0.00\n",
       "Get updates on DM Content                         0.00\n",
       "Update me on Supply Chain Content                 0.00\n",
       "A free copy of Mastering The Interview            0.00\n",
       "Prospect ID                                       0.00\n",
       "Newspaper Article                                 0.00\n",
       "Through Recommendations                           0.00\n",
       "Digital Advertisement                             0.00\n",
       "Newspaper                                         0.00\n",
       "X Education Forums                                0.00\n",
       "Lead Number                                       0.00\n",
       "Magazine                                          0.00\n",
       "Search                                            0.00\n",
       "Total Time Spent on Website                       0.00\n",
       "Converted                                         0.00\n",
       "Do Not Call                                       0.00\n",
       "Do Not Email                                      0.00\n",
       "Lead Origin                                       0.00\n",
       "Last Notable Activity                             0.00\n",
       "dtype: float64"
      ]
     },
     "execution_count": 22,
     "metadata": {},
     "output_type": "execute_result"
    }
   ],
   "source": [
    "#checking null values percentage now\n",
    "\n",
    "round((100*file1.isnull().sum()/file1.shape[0]),2).sort_values(ascending=False)"
   ]
  },
  {
   "cell_type": "code",
   "execution_count": 23,
   "id": "95cee4f3",
   "metadata": {},
   "outputs": [],
   "source": [
    "#dropping columns with more than 45% missing values\n",
    "\n",
    "col=file1.columns\n",
    "\n",
    "for i in col:\n",
    "    if((100*(file1[i].isnull().sum()/len(file1.index))) >= 45):\n",
    "        file1.drop(i, 1, inplace = True)\n"
   ]
  },
  {
   "cell_type": "code",
   "execution_count": 24,
   "id": "0121e4b9",
   "metadata": {},
   "outputs": [
    {
     "data": {
      "text/plain": [
       "(9240, 30)"
      ]
     },
     "execution_count": 24,
     "metadata": {},
     "output_type": "execute_result"
    }
   ],
   "source": [
    "# checking now\n",
    "\n",
    "file1.shape"
   ]
  },
  {
   "cell_type": "code",
   "execution_count": 25,
   "id": "bb4a228a",
   "metadata": {},
   "outputs": [
    {
     "data": {
      "text/plain": [
       "City                                             39.71\n",
       "Specialization                                   36.58\n",
       "Tags                                             36.29\n",
       "What matters most to you in choosing a course    29.32\n",
       "What is your current occupation                  29.11\n",
       "Country                                          26.63\n",
       "Page Views Per Visit                              1.48\n",
       "TotalVisits                                       1.48\n",
       "Last Activity                                     1.11\n",
       "Lead Source                                       0.39\n",
       "Through Recommendations                           0.00\n",
       "Receive More Updates About Our Courses            0.00\n",
       "Prospect ID                                       0.00\n",
       "Newspaper                                         0.00\n",
       "Update me on Supply Chain Content                 0.00\n",
       "Get updates on DM Content                         0.00\n",
       "I agree to pay the amount through cheque          0.00\n",
       "A free copy of Mastering The Interview            0.00\n",
       "Digital Advertisement                             0.00\n",
       "Search                                            0.00\n",
       "X Education Forums                                0.00\n",
       "Newspaper Article                                 0.00\n",
       "Magazine                                          0.00\n",
       "Lead Number                                       0.00\n",
       "Total Time Spent on Website                       0.00\n",
       "Converted                                         0.00\n",
       "Do Not Call                                       0.00\n",
       "Do Not Email                                      0.00\n",
       "Lead Origin                                       0.00\n",
       "Last Notable Activity                             0.00\n",
       "dtype: float64"
      ]
     },
     "execution_count": 25,
     "metadata": {},
     "output_type": "execute_result"
    }
   ],
   "source": [
    "# Verifying Data now\n",
    "\n",
    "round((100*file1.isnull().sum()/file1.shape[0]),2).sort_values(ascending=False)"
   ]
  },
  {
   "cell_type": "markdown",
   "id": "bd80b506",
   "metadata": {},
   "source": [
    "#### Observation from above : There are still huge null value in (We will analysis them individually )"
   ]
  },
  {
   "cell_type": "markdown",
   "id": "08655835",
   "metadata": {},
   "source": [
    "1. City 39.71\n",
    "2. Specialization 36.58\n",
    "3. Tags 36.29\n",
    "4. What matters most to you in choosing a course 29.32\n",
    "5. What is your current occupation 29.11\n",
    "6. Country 26.63"
   ]
  },
  {
   "cell_type": "code",
   "execution_count": 26,
   "id": "847e8a01",
   "metadata": {},
   "outputs": [
    {
     "data": {
      "text/plain": [
       "NaN                            39.707792\n",
       "Mumbai                         34.870130\n",
       "Thane & Outskirts               8.138528\n",
       "Other Cities                    7.424242\n",
       "Other Cities of Maharashtra     4.945887\n",
       "Other Metro Cities              4.112554\n",
       "Tier II Cities                  0.800866\n",
       "Name: City, dtype: float64"
      ]
     },
     "execution_count": 26,
     "metadata": {},
     "output_type": "execute_result"
    }
   ],
   "source": [
    "# 1. City Column\n",
    "\n",
    "file1.City.value_counts(normalize = True, dropna = False) * 100"
   ]
  },
  {
   "cell_type": "code",
   "execution_count": 27,
   "id": "f63fedd2",
   "metadata": {},
   "outputs": [
    {
     "data": {
      "image/png": "[encoded data removed]",
      "text/plain": [
       "<Figure size 432x288 with 1 Axes>"
      ]
     },
     "metadata": {
      "needs_background": "light"
     },
     "output_type": "display_data"
    }
   ],
   "source": [
    "sns.countplot(file1.City)\n",
    "plt.xticks(rotation = 90)\n",
    "plt.show()"
   ]
  },
  {
   "cell_type": "markdown",
   "id": "b2913be0",
   "metadata": {},
   "source": [
    "We will categorize the cities based on logical decisions.."
   ]
  },
  {
   "cell_type": "code",
   "execution_count": 28,
   "id": "8b4e056b",
   "metadata": {},
   "outputs": [],
   "source": [
    "# Imputing Null with 'Others'\n",
    "\n",
    "file1['City'] = file1['City'].replace(np.nan, 'Others')\n",
    "\n",
    "# Merge Cities name which are low in numbers to 'Others'\n",
    "\n",
    "file1['City'] = file1['City'].replace(['Tier II Cities','Other Metro Cities','Other Cities of Maharashtra','Other Cities'], 'Others')"
   ]
  },
  {
   "cell_type": "code",
   "execution_count": 29,
   "id": "e2ec57d8",
   "metadata": {},
   "outputs": [
    {
     "data": {
      "text/plain": [
       "Others               5266\n",
       "Mumbai               3222\n",
       "Thane & Outskirts     752\n",
       "Name: City, dtype: int64"
      ]
     },
     "execution_count": 29,
     "metadata": {},
     "output_type": "execute_result"
    }
   ],
   "source": [
    "file1['City'].value_counts()"
   ]
  },
  {
   "cell_type": "code",
   "execution_count": 30,
   "id": "ea0c7710",
   "metadata": {},
   "outputs": [
    {
     "data": {
      "image/png": "[encoded data removed]",
      "text/plain": [
       "<Figure size 432x288 with 1 Axes>"
      ]
     },
     "metadata": {
      "needs_background": "light"
     },
     "output_type": "display_data"
    }
   ],
   "source": [
    "sns.countplot(file1.City)\n",
    "plt.xticks(rotation = 90)\n",
    "plt.show()"
   ]
  },
  {
   "cell_type": "code",
   "execution_count": 31,
   "id": "3cd9f12c",
   "metadata": {},
   "outputs": [
    {
     "data": {
      "text/plain": [
       "Others               56.991342\n",
       "Mumbai               34.870130\n",
       "Thane & Outskirts     8.138528\n",
       "Name: City, dtype: float64"
      ]
     },
     "execution_count": 31,
     "metadata": {},
     "output_type": "execute_result"
    }
   ],
   "source": [
    "file1.City.value_counts(normalize = True) * 100"
   ]
  },
  {
   "cell_type": "code",
   "execution_count": 32,
   "id": "b7319d5f",
   "metadata": {},
   "outputs": [
    {
     "data": {
      "image/png": "[encoded data removed]",
      "text/plain": [
       "<Figure size 432x288 with 1 Axes>"
      ]
     },
     "metadata": {
      "needs_background": "light"
     },
     "output_type": "display_data"
    }
   ],
   "source": [
    "# 2. Specialization Column\n",
    "\n",
    "sns.countplot(file1.Specialization)\n",
    "plt.xticks(rotation = 90)\n",
    "plt.show()"
   ]
  },
  {
   "cell_type": "code",
   "execution_count": 33,
   "id": "514bfd7c",
   "metadata": {},
   "outputs": [
    {
     "data": {
      "text/plain": [
       "Finance Management                   976\n",
       "Human Resource Management            848\n",
       "Marketing Management                 838\n",
       "Operations Management                503\n",
       "Business Administration              403\n",
       "IT Projects Management               366\n",
       "Supply Chain Management              349\n",
       "Banking, Investment And Insurance    338\n",
       "Travel and Tourism                   203\n",
       "Media and Advertising                203\n",
       "International Business               178\n",
       "Healthcare Management                159\n",
       "Hospitality Management               114\n",
       "E-COMMERCE                           112\n",
       "Retail Management                    100\n",
       "Rural and Agribusiness                73\n",
       "E-Business                            57\n",
       "Services Excellence                   40\n",
       "Name: Specialization, dtype: int64"
      ]
     },
     "execution_count": 33,
     "metadata": {},
     "output_type": "execute_result"
    }
   ],
   "source": [
    "file1.Specialization.value_counts()"
   ]
  },
  {
   "cell_type": "code",
   "execution_count": 34,
   "id": "39ff0a9a",
   "metadata": {},
   "outputs": [],
   "source": [
    "# Imputing Null with 'Others'\n",
    "\n",
    "file1['Specialization'] = file1['Specialization'].replace(np.nan, 'Others')\n",
    "\n",
    "# Merge Specialization fieldswhich are low in numbers to 'Others'\n",
    "\n",
    "file1['Specialization'] = file1['Specialization'].replace(['Rural and Agribusiness','E-Business','Services Excellence'], 'Others')\n"
   ]
  },
  {
   "cell_type": "code",
   "execution_count": 35,
   "id": "2e4f018e",
   "metadata": {},
   "outputs": [
    {
     "data": {
      "text/plain": [
       "Others                               3550\n",
       "Finance Management                    976\n",
       "Human Resource Management             848\n",
       "Marketing Management                  838\n",
       "Operations Management                 503\n",
       "Business Administration               403\n",
       "IT Projects Management                366\n",
       "Supply Chain Management               349\n",
       "Banking, Investment And Insurance     338\n",
       "Media and Advertising                 203\n",
       "Travel and Tourism                    203\n",
       "International Business                178\n",
       "Healthcare Management                 159\n",
       "Hospitality Management                114\n",
       "E-COMMERCE                            112\n",
       "Retail Management                     100\n",
       "Name: Specialization, dtype: int64"
      ]
     },
     "execution_count": 35,
     "metadata": {},
     "output_type": "execute_result"
    }
   ],
   "source": [
    "file1.Specialization.value_counts()"
   ]
  },
  {
   "cell_type": "code",
   "execution_count": 36,
   "id": "88c8b98e",
   "metadata": {},
   "outputs": [
    {
     "data": {
      "image/png": "[encoded data removed]",
      "text/plain": [
       "<Figure size 432x288 with 1 Axes>"
      ]
     },
     "metadata": {
      "needs_background": "light"
     },
     "output_type": "display_data"
    }
   ],
   "source": [
    "# 3. Tag Column\n",
    "\n",
    "sns.countplot(file1.Tags)\n",
    "plt.xticks(rotation = 90)\n",
    "plt.show()"
   ]
  },
  {
   "cell_type": "code",
   "execution_count": 37,
   "id": "4ae43949",
   "metadata": {},
   "outputs": [
    {
     "data": {
      "text/plain": [
       "Will revert after reading the email                  2072\n",
       "Ringing                                              1203\n",
       "Interested in other courses                           513\n",
       "Already a student                                     465\n",
       "Closed by Horizzon                                    358\n",
       "switched off                                          240\n",
       "Busy                                                  186\n",
       "Lost to EINS                                          175\n",
       "Not doing further education                           145\n",
       "Interested  in full time MBA                          117\n",
       "Graduation in progress                                111\n",
       "invalid number                                         83\n",
       "Diploma holder (Not Eligible)                          63\n",
       "wrong number given                                     47\n",
       "opp hangup                                             33\n",
       "number not provided                                    27\n",
       "in touch with EINS                                     12\n",
       "Lost to Others                                          7\n",
       "Still Thinking                                          6\n",
       "Want to take admission but has financial problems       6\n",
       "In confusion whether part time or DLP                   5\n",
       "Interested in Next batch                                5\n",
       "Lateral student                                         3\n",
       "Shall take in the next coming month                     2\n",
       "University not recognized                               2\n",
       "Recognition issue (DEC approval)                        1\n",
       "Name: Tags, dtype: int64"
      ]
     },
     "execution_count": 37,
     "metadata": {},
     "output_type": "execute_result"
    }
   ],
   "source": [
    "file1.Tags.value_counts()"
   ]
  },
  {
   "cell_type": "code",
   "execution_count": 38,
   "id": "50b98b00",
   "metadata": {},
   "outputs": [
    {
     "data": {
      "text/plain": [
       "NaN                                                  36.287879\n",
       "Will revert after reading the email                  22.424242\n",
       "Ringing                                              13.019481\n",
       "Interested in other courses                           5.551948\n",
       "Already a student                                     5.032468\n",
       "Closed by Horizzon                                    3.874459\n",
       "switched off                                          2.597403\n",
       "Busy                                                  2.012987\n",
       "Lost to EINS                                          1.893939\n",
       "Not doing further education                           1.569264\n",
       "Interested  in full time MBA                          1.266234\n",
       "Graduation in progress                                1.201299\n",
       "invalid number                                        0.898268\n",
       "Diploma holder (Not Eligible)                         0.681818\n",
       "wrong number given                                    0.508658\n",
       "opp hangup                                            0.357143\n",
       "number not provided                                   0.292208\n",
       "in touch with EINS                                    0.129870\n",
       "Lost to Others                                        0.075758\n",
       "Still Thinking                                        0.064935\n",
       "Want to take admission but has financial problems     0.064935\n",
       "In confusion whether part time or DLP                 0.054113\n",
       "Interested in Next batch                              0.054113\n",
       "Lateral student                                       0.032468\n",
       "Shall take in the next coming month                   0.021645\n",
       "University not recognized                             0.021645\n",
       "Recognition issue (DEC approval)                      0.010823\n",
       "Name: Tags, dtype: float64"
      ]
     },
     "execution_count": 38,
     "metadata": {},
     "output_type": "execute_result"
    }
   ],
   "source": [
    "file1.Tags.value_counts(normalize = True, dropna = False) * 100"
   ]
  },
  {
   "cell_type": "code",
   "execution_count": 39,
   "id": "3f330e34",
   "metadata": {},
   "outputs": [],
   "source": [
    "# Imputing Null with Others\n",
    "\n",
    "file1['Tags'] = file1['Tags'].replace(np.nan, 'Others')\n",
    "\n",
    "# Merging \"Tag\" value  which has low items count to Others - We select value which are below 5%.\n",
    "\n",
    "file1['Tags'] = file1['Tags'].replace(['Closed by Horizzon','switched off', 'Busy', 'Lost to EINS', 'Not doing further education', 'Interested  in full time MBA',\n",
    "                                     'Graduation in progress', 'invalid number', 'Diploma holder (Not Eligible)', 'wrong number given', 'opp hangup',\n",
    "                                     'number not provided', 'in touch with EINS', 'Lost to Others', 'Want to take admission but has financial problems',\n",
    "                                     'Still Thinking', 'Interested in Next batch', 'In confusion whether part time or DLP', 'Lateral student',\n",
    "                                     'Shall take in the next coming month', 'University not recognized', 'Recognition issue (DEC approval)'                                     ], 'Others')\n"
   ]
  },
  {
   "cell_type": "code",
   "execution_count": 40,
   "id": "a538709c",
   "metadata": {},
   "outputs": [
    {
     "data": {
      "image/png": "[encoded data removed]",
      "text/plain": [
       "<Figure size 432x288 with 1 Axes>"
      ]
     },
     "metadata": {
      "needs_background": "light"
     },
     "output_type": "display_data"
    }
   ],
   "source": [
    "# 4.What matters most to you in choosing a course\n",
    "\n",
    "sns.countplot(file1['What matters most to you in choosing a course'])\n",
    "plt.xticks(rotation = 90)\n",
    "plt.show()"
   ]
  },
  {
   "cell_type": "code",
   "execution_count": 41,
   "id": "e003f948",
   "metadata": {},
   "outputs": [
    {
     "data": {
      "text/plain": [
       "Better Career Prospects      70.649351\n",
       "NaN                          29.318182\n",
       "Flexibility & Convenience     0.021645\n",
       "Other                         0.010823\n",
       "Name: What matters most to you in choosing a course, dtype: float64"
      ]
     },
     "execution_count": 41,
     "metadata": {},
     "output_type": "execute_result"
    }
   ],
   "source": [
    "file1['What matters most to you in choosing a course'].value_counts(normalize = True, dropna = False) * 100"
   ]
  },
  {
   "cell_type": "markdown",
   "id": "e149c3cc",
   "metadata": {},
   "source": [
    "Observation : The combine value of \"Better Career Prospects\" and NaN is close to 100 % (Highly Skewed). so we will drop this column."
   ]
  },
  {
   "cell_type": "code",
   "execution_count": 42,
   "id": "2e89834c",
   "metadata": {},
   "outputs": [],
   "source": [
    "file1.drop('What matters most to you in choosing a course',axis=1, inplace = True)"
   ]
  },
  {
   "cell_type": "code",
   "execution_count": 44,
   "id": "090c4e27",
   "metadata": {},
   "outputs": [
    {
     "data": {
      "text/plain": [
       "(9240, 29)"
      ]
     },
     "execution_count": 44,
     "metadata": {},
     "output_type": "execute_result"
    }
   ],
   "source": [
    "file1.shape"
   ]
  },
  {
   "cell_type": "code",
   "execution_count": 45,
   "id": "d16f4de4",
   "metadata": {},
   "outputs": [
    {
     "data": {
      "image/png": "[encoded data removed]",
      "text/plain": [
       "<Figure size 432x288 with 1 Axes>"
      ]
     },
     "metadata": {
      "needs_background": "light"
     },
     "output_type": "display_data"
    }
   ],
   "source": [
    "# 5. \"What is your current occupation\" Column\n",
    "\n",
    "sns.countplot(file1['What is your current occupation'])\n",
    "plt.xticks(rotation = 90)\n",
    "plt.show()"
   ]
  },
  {
   "cell_type": "code",
   "execution_count": 46,
   "id": "37d0ee6c",
   "metadata": {},
   "outputs": [
    {
     "data": {
      "text/plain": [
       "Unemployed              60.606061\n",
       "NaN                     29.112554\n",
       "Working Professional     7.640693\n",
       "Student                  2.272727\n",
       "Other                    0.173160\n",
       "Housewife                0.108225\n",
       "Businessman              0.086580\n",
       "Name: What is your current occupation, dtype: float64"
      ]
     },
     "execution_count": 46,
     "metadata": {},
     "output_type": "execute_result"
    }
   ],
   "source": [
    "file1['What is your current occupation'].value_counts(normalize = True, dropna = False) * 100"
   ]
  },
  {
   "cell_type": "code",
   "execution_count": 47,
   "id": "f7a03bfa",
   "metadata": {},
   "outputs": [],
   "source": [
    "# Imputing Null with Others\n",
    "\n",
    "file1['What is your current occupation'] = file1['What is your current occupation'].replace(np.nan, 'Other')\n",
    "\n",
    "\n",
    "# Merge \"What is your current occupation\" value  which has low items count to Others - We select value which are below 5%.\n",
    "\n",
    "file1['What is your current occupation'] = file1['What is your current occupation'].replace(['Student','Student and Others','Housewife','Businessman'], 'Other')"
   ]
  },
  {
   "cell_type": "code",
   "execution_count": 48,
   "id": "29bfb8f3",
   "metadata": {},
   "outputs": [
    {
     "data": {
      "text/plain": [
       "Unemployed              5600\n",
       "Other                   2934\n",
       "Working Professional     706\n",
       "Name: What is your current occupation, dtype: int64"
      ]
     },
     "execution_count": 48,
     "metadata": {},
     "output_type": "execute_result"
    }
   ],
   "source": [
    "file1['What is your current occupation'].value_counts()"
   ]
  },
  {
   "cell_type": "code",
   "execution_count": 49,
   "id": "b10784c5",
   "metadata": {},
   "outputs": [
    {
     "data": {
      "text/plain": [
       "Unemployed              60.606061\n",
       "Other                   31.753247\n",
       "Working Professional     7.640693\n",
       "Name: What is your current occupation, dtype: float64"
      ]
     },
     "execution_count": 49,
     "metadata": {},
     "output_type": "execute_result"
    }
   ],
   "source": [
    "file1['What is your current occupation'].value_counts(normalize = True) * 100"
   ]
  },
  {
   "cell_type": "code",
   "execution_count": 50,
   "id": "e9a814af",
   "metadata": {},
   "outputs": [
    {
     "data": {
      "image/png": "[encoded data removed]",
      "text/plain": [
       "<Figure size 432x288 with 1 Axes>"
      ]
     },
     "metadata": {
      "needs_background": "light"
     },
     "output_type": "display_data"
    }
   ],
   "source": [
    "# 6. Country Column\n",
    "\n",
    "sns.countplot(file1['Country'])\n",
    "plt.xticks(rotation = 90)\n",
    "plt.show()"
   ]
  },
  {
   "cell_type": "code",
   "execution_count": 51,
   "id": "9d36429f",
   "metadata": {},
   "outputs": [
    {
     "data": {
      "text/plain": [
       "India                   70.259740\n",
       "NaN                     26.634199\n",
       "United States            0.746753\n",
       "United Arab Emirates     0.573593\n",
       "Singapore                0.259740\n",
       "Saudi Arabia             0.227273\n",
       "United Kingdom           0.162338\n",
       "Australia                0.140693\n",
       "Qatar                    0.108225\n",
       "Bahrain                  0.075758\n",
       "Hong Kong                0.075758\n",
       "Oman                     0.064935\n",
       "France                   0.064935\n",
       "unknown                  0.054113\n",
       "Kuwait                   0.043290\n",
       "South Africa             0.043290\n",
       "Canada                   0.043290\n",
       "Nigeria                  0.043290\n",
       "Germany                  0.043290\n",
       "Sweden                   0.032468\n",
       "Philippines              0.021645\n",
       "Uganda                   0.021645\n",
       "Italy                    0.021645\n",
       "Bangladesh               0.021645\n",
       "Netherlands              0.021645\n",
       "Asia/Pacific Region      0.021645\n",
       "China                    0.021645\n",
       "Belgium                  0.021645\n",
       "Ghana                    0.021645\n",
       "Kenya                    0.010823\n",
       "Sri Lanka                0.010823\n",
       "Tanzania                 0.010823\n",
       "Malaysia                 0.010823\n",
       "Liberia                  0.010823\n",
       "Switzerland              0.010823\n",
       "Denmark                  0.010823\n",
       "Russia                   0.010823\n",
       "Vietnam                  0.010823\n",
       "Indonesia                0.010823\n",
       "Name: Country, dtype: float64"
      ]
     },
     "execution_count": 51,
     "metadata": {},
     "output_type": "execute_result"
    }
   ],
   "source": [
    "file1.Country.value_counts(normalize = True, dropna = False) * 100"
   ]
  },
  {
   "cell_type": "markdown",
   "id": "ef48e87e",
   "metadata": {},
   "source": [
    "Observation : The combined value of \"India\" and NaN is close to 97% (Highly Skewed). so we will drop this column."
   ]
  },
  {
   "cell_type": "code",
   "execution_count": 53,
   "id": "cbe31d12",
   "metadata": {},
   "outputs": [],
   "source": [
    "file1.drop('Country', axis = 1, inplace = True)"
   ]
  },
  {
   "cell_type": "code",
   "execution_count": 54,
   "id": "f5f6e8b8",
   "metadata": {},
   "outputs": [
    {
     "data": {
      "text/plain": [
       "TotalVisits                                 1.48\n",
       "Page Views Per Visit                        1.48\n",
       "Last Activity                               1.11\n",
       "Lead Source                                 0.39\n",
       "Prospect ID                                 0.00\n",
       "X Education Forums                          0.00\n",
       "A free copy of Mastering The Interview      0.00\n",
       "I agree to pay the amount through cheque    0.00\n",
       "City                                        0.00\n",
       "Get updates on DM Content                   0.00\n",
       "Update me on Supply Chain Content           0.00\n",
       "Tags                                        0.00\n",
       "Receive More Updates About Our Courses      0.00\n",
       "Through Recommendations                     0.00\n",
       "Digital Advertisement                       0.00\n",
       "Newspaper                                   0.00\n",
       "Magazine                                    0.00\n",
       "Newspaper Article                           0.00\n",
       "Lead Number                                 0.00\n",
       "Search                                      0.00\n",
       "What is your current occupation             0.00\n",
       "Specialization                              0.00\n",
       "Total Time Spent on Website                 0.00\n",
       "Converted                                   0.00\n",
       "Do Not Call                                 0.00\n",
       "Do Not Email                                0.00\n",
       "Lead Origin                                 0.00\n",
       "Last Notable Activity                       0.00\n",
       "dtype: float64"
      ]
     },
     "execution_count": 54,
     "metadata": {},
     "output_type": "execute_result"
    }
   ],
   "source": [
    "#Verifying Data\n",
    "\n",
    "round((100*file1.isnull().sum()/file1.shape[0]),2).sort_values(ascending=False)"
   ]
  },
  {
   "cell_type": "code",
   "execution_count": 55,
   "id": "f74d9e71",
   "metadata": {},
   "outputs": [
    {
     "data": {
      "text/plain": [
       "0.0      2189\n",
       "2.0      1680\n",
       "3.0      1306\n",
       "4.0      1120\n",
       "5.0       783\n",
       "6.0       466\n",
       "1.0       395\n",
       "7.0       309\n",
       "8.0       224\n",
       "9.0       164\n",
       "10.0      114\n",
       "11.0       86\n",
       "13.0       48\n",
       "12.0       45\n",
       "14.0       36\n",
       "16.0       21\n",
       "15.0       18\n",
       "17.0       16\n",
       "18.0       15\n",
       "20.0       12\n",
       "19.0        9\n",
       "21.0        6\n",
       "23.0        6\n",
       "24.0        5\n",
       "25.0        5\n",
       "27.0        5\n",
       "22.0        3\n",
       "29.0        2\n",
       "28.0        2\n",
       "26.0        2\n",
       "141.0       1\n",
       "55.0        1\n",
       "30.0        1\n",
       "43.0        1\n",
       "74.0        1\n",
       "41.0        1\n",
       "54.0        1\n",
       "115.0       1\n",
       "251.0       1\n",
       "32.0        1\n",
       "42.0        1\n",
       "Name: TotalVisits, dtype: int64"
      ]
     },
     "execution_count": 55,
     "metadata": {},
     "output_type": "execute_result"
    }
   ],
   "source": [
    "# 7. 'TotalVisits' Column\n",
    "\n",
    "file1['TotalVisits'].value_counts()"
   ]
  },
  {
   "cell_type": "code",
   "execution_count": 56,
   "id": "e6102a4f",
   "metadata": {},
   "outputs": [
    {
     "data": {
      "text/plain": [
       "count    9103.000000\n",
       "mean        3.445238\n",
       "std         4.854853\n",
       "min         0.000000\n",
       "25%         1.000000\n",
       "50%         3.000000\n",
       "75%         5.000000\n",
       "max       251.000000\n",
       "Name: TotalVisits, dtype: float64"
      ]
     },
     "execution_count": 56,
     "metadata": {},
     "output_type": "execute_result"
    }
   ],
   "source": [
    "file1['TotalVisits'].describe()"
   ]
  },
  {
   "cell_type": "code",
   "execution_count": 57,
   "id": "eb5882e5",
   "metadata": {},
   "outputs": [],
   "source": [
    "file1['TotalVisits'].fillna(file1['TotalVisits'].median(), inplace=True)\n",
    "\n",
    "file1['TotalVisits'] = file1['TotalVisits'].astype('int')"
   ]
  },
  {
   "cell_type": "code",
   "execution_count": 58,
   "id": "2b249d5f",
   "metadata": {},
   "outputs": [
    {
     "data": {
      "text/plain": [
       "count    9103.000000\n",
       "mean        2.362820\n",
       "std         2.161418\n",
       "min         0.000000\n",
       "25%         1.000000\n",
       "50%         2.000000\n",
       "75%         3.000000\n",
       "max        55.000000\n",
       "Name: Page Views Per Visit, dtype: float64"
      ]
     },
     "execution_count": 58,
     "metadata": {},
     "output_type": "execute_result"
    }
   ],
   "source": [
    "# 8. 'Page Views Per Visit' Column\n",
    "\n",
    "file1['Page Views Per Visit'].describe()"
   ]
  },
  {
   "cell_type": "code",
   "execution_count": 59,
   "id": "e73c0938",
   "metadata": {},
   "outputs": [],
   "source": [
    "file1['Page Views Per Visit'].fillna(file1['Page Views Per Visit'].median(), inplace=True)"
   ]
  },
  {
   "cell_type": "code",
   "execution_count": 60,
   "id": "38011fdd",
   "metadata": {},
   "outputs": [
    {
     "data": {
      "text/plain": [
       "Last Activity                               1.11\n",
       "Lead Source                                 0.39\n",
       "Prospect ID                                 0.00\n",
       "Newspaper Article                           0.00\n",
       "A free copy of Mastering The Interview      0.00\n",
       "I agree to pay the amount through cheque    0.00\n",
       "City                                        0.00\n",
       "Get updates on DM Content                   0.00\n",
       "Update me on Supply Chain Content           0.00\n",
       "Tags                                        0.00\n",
       "Receive More Updates About Our Courses      0.00\n",
       "Through Recommendations                     0.00\n",
       "Digital Advertisement                       0.00\n",
       "Newspaper                                   0.00\n",
       "X Education Forums                          0.00\n",
       "Magazine                                    0.00\n",
       "Lead Number                                 0.00\n",
       "Search                                      0.00\n",
       "What is your current occupation             0.00\n",
       "Specialization                              0.00\n",
       "Page Views Per Visit                        0.00\n",
       "Total Time Spent on Website                 0.00\n",
       "TotalVisits                                 0.00\n",
       "Converted                                   0.00\n",
       "Do Not Call                                 0.00\n",
       "Do Not Email                                0.00\n",
       "Lead Origin                                 0.00\n",
       "Last Notable Activity                       0.00\n",
       "dtype: float64"
      ]
     },
     "execution_count": 60,
     "metadata": {},
     "output_type": "execute_result"
    }
   ],
   "source": [
    "round((100*file1.isnull().sum()/file1.shape[0]),2).sort_values(ascending=False)"
   ]
  },
  {
   "cell_type": "code",
   "execution_count": 61,
   "id": "83182745",
   "metadata": {},
   "outputs": [
    {
     "data": {
      "text/plain": [
       "Email Opened                    37.616285\n",
       "SMS Sent                        30.042684\n",
       "Olark Chat Conversation         10.649010\n",
       "Page Visited on Website          7.004487\n",
       "Converted to Lead                4.684251\n",
       "Email Bounced                    3.567911\n",
       "Email Link Clicked               2.922185\n",
       "Form Submitted on Website        1.269563\n",
       "Unreachable                      1.017840\n",
       "Unsubscribed                     0.667615\n",
       "Had a Phone Conversation         0.328335\n",
       "Approached upfront               0.098501\n",
       "View in browser link Clicked     0.065667\n",
       "Email Received                   0.021889\n",
       "Email Marked Spam                0.021889\n",
       "Visited Booth in Tradeshow       0.010945\n",
       "Resubscribed to emails           0.010945\n",
       "Name: Last Activity, dtype: float64"
      ]
     },
     "execution_count": 61,
     "metadata": {},
     "output_type": "execute_result"
    }
   ],
   "source": [
    "# 9. 'Last Activity' Column\n",
    "\n",
    "file1['Last Activity'].value_counts(normalize = True) * 100"
   ]
  },
  {
   "cell_type": "code",
   "execution_count": 62,
   "id": "1400222c",
   "metadata": {},
   "outputs": [],
   "source": [
    "# Imputing Null with Others\n",
    "\n",
    "file1['Last Activity'] = file1['Last Activity'].replace(np.nan, 'Others')\n",
    "\n",
    "# Merge low frequency field to Others - Below 2 %\n",
    "\n",
    "file1['Last Activity'] = file1['Last Activity'].replace(['Form Submitted on Website','Unreachable','Unsubscribed','Had a Phone Conversation','Approached upfront',\n",
    "                                                   'View in browser link Clicked','Email Received','Email Marked Spam','Resubscribed to emails',\n",
    "                                                  'Visited Booth in Tradeshow'], 'Others')"
   ]
  },
  {
   "cell_type": "code",
   "execution_count": 63,
   "id": "0f0b2796",
   "metadata": {},
   "outputs": [
    {
     "data": {
      "text/plain": [
       "Email Opened               37.196970\n",
       "SMS Sent                   29.707792\n",
       "Olark Chat Conversation    10.530303\n",
       "Page Visited on Website     6.926407\n",
       "Converted to Lead           4.632035\n",
       "Others                      4.588745\n",
       "Email Bounced               3.528139\n",
       "Email Link Clicked          2.889610\n",
       "Name: Last Activity, dtype: float64"
      ]
     },
     "execution_count": 63,
     "metadata": {},
     "output_type": "execute_result"
    }
   ],
   "source": [
    "file1['Last Activity'].value_counts(normalize = True) * 100"
   ]
  },
  {
   "cell_type": "code",
   "execution_count": 64,
   "id": "8a9bd17b",
   "metadata": {},
   "outputs": [
    {
     "data": {
      "text/plain": [
       "Google               31.160365\n",
       "Direct Traffic       27.629292\n",
       "Olark Chat           19.067797\n",
       "Organic Search       12.538027\n",
       "Reference             5.801825\n",
       "Welingak Website      1.542807\n",
       "Referral Sites        1.358105\n",
       "Facebook              0.597566\n",
       "bing                  0.065189\n",
       "google                0.054324\n",
       "Click2call            0.043459\n",
       "Press_Release         0.021730\n",
       "Social Media          0.021730\n",
       "Live Chat             0.021730\n",
       "youtubechannel        0.010865\n",
       "testone               0.010865\n",
       "Pay per Click Ads     0.010865\n",
       "welearnblog_Home      0.010865\n",
       "WeLearn               0.010865\n",
       "blog                  0.010865\n",
       "NC_EDM                0.010865\n",
       "Name: Lead Source, dtype: float64"
      ]
     },
     "execution_count": 64,
     "metadata": {},
     "output_type": "execute_result"
    }
   ],
   "source": [
    "# 'Lead Source' Column\n",
    "\n",
    "file1['Lead Source'].value_counts(normalize = True) * 100"
   ]
  },
  {
   "cell_type": "code",
   "execution_count": 65,
   "id": "52c53af2",
   "metadata": {},
   "outputs": [],
   "source": [
    "# Imputing Null with Others\n",
    "\n",
    "file1['Lead Source'] = file1['Lead Source'].replace(np.nan, 'Others')\n",
    "\n",
    "# Merge low frequency field to Others\n",
    "\n",
    "file1['Lead Source'] = file1['Lead Source'].replace(['Facebook','bing','google','Click2call','Press_Release','Social Media','Live Chat','welearnblog_Home','Pay per Click Ads','NC_EDM','youtubechannel','testone','blog','WeLearn'], 'Others')"
   ]
  },
  {
   "cell_type": "code",
   "execution_count": 66,
   "id": "1e552037",
   "metadata": {},
   "outputs": [
    {
     "data": {
      "text/plain": [
       "Google              31.038961\n",
       "Direct Traffic      27.521645\n",
       "Olark Chat          18.993506\n",
       "Organic Search      12.489177\n",
       "Reference            5.779221\n",
       "Welingak Website     1.536797\n",
       "Referral Sites       1.352814\n",
       "Others               1.287879\n",
       "Name: Lead Source, dtype: float64"
      ]
     },
     "execution_count": 66,
     "metadata": {},
     "output_type": "execute_result"
    }
   ],
   "source": [
    "file1['Lead Source'].value_counts(normalize = True) * 100"
   ]
  },
  {
   "cell_type": "code",
   "execution_count": 67,
   "id": "4d63d5f8",
   "metadata": {},
   "outputs": [],
   "source": [
    "# merge google with Google\n",
    "\n",
    "file1['Lead Source'] = file1['Lead Source'].replace('google', 'Google')"
   ]
  },
  {
   "cell_type": "markdown",
   "id": "63b1a557",
   "metadata": {},
   "source": [
    "### Final Checking for Null Value"
   ]
  },
  {
   "cell_type": "code",
   "execution_count": 68,
   "id": "4f07292b",
   "metadata": {},
   "outputs": [
    {
     "data": {
      "text/plain": [
       "Prospect ID                                 0.0\n",
       "Lead Number                                 0.0\n",
       "A free copy of Mastering The Interview      0.0\n",
       "I agree to pay the amount through cheque    0.0\n",
       "City                                        0.0\n",
       "Get updates on DM Content                   0.0\n",
       "Update me on Supply Chain Content           0.0\n",
       "Tags                                        0.0\n",
       "Receive More Updates About Our Courses      0.0\n",
       "Through Recommendations                     0.0\n",
       "Digital Advertisement                       0.0\n",
       "Newspaper                                   0.0\n",
       "X Education Forums                          0.0\n",
       "Newspaper Article                           0.0\n",
       "Magazine                                    0.0\n",
       "Search                                      0.0\n",
       "What is your current occupation             0.0\n",
       "Specialization                              0.0\n",
       "Last Activity                               0.0\n",
       "Page Views Per Visit                        0.0\n",
       "Total Time Spent on Website                 0.0\n",
       "TotalVisits                                 0.0\n",
       "Converted                                   0.0\n",
       "Do Not Call                                 0.0\n",
       "Do Not Email                                0.0\n",
       "Lead Source                                 0.0\n",
       "Lead Origin                                 0.0\n",
       "Last Notable Activity                       0.0\n",
       "dtype: float64"
      ]
     },
     "execution_count": 68,
     "metadata": {},
     "output_type": "execute_result"
    }
   ],
   "source": [
    "# Null Value Check\n",
    "\n",
    "round((100*file1.isnull().sum()/file1.shape[0]),2).sort_values(ascending=False)"
   ]
  },
  {
   "cell_type": "markdown",
   "id": "9fec36e5",
   "metadata": {},
   "source": [
    "### Verify data distribution in categorical columns"
   ]
  },
  {
   "cell_type": "code",
   "execution_count": 71,
   "id": "5f1dd222",
   "metadata": {},
   "outputs": [
    {
     "name": "stdout",
     "output_type": "stream",
     "text": [
      "000104b9-23e4-4ddc-8caa-8629fe8ad7f4    1\n",
      "a7a319ea-b6ae-4c6b-afc5-183b933d10b5    1\n",
      "aa27a0af-eeab-4007-a770-fa8a93fa53c8    1\n",
      "aa30ebb2-8476-41ce-9258-37cc025110d3    1\n",
      "aa405742-17ac-4c65-b19e-ab91c241cc53    1\n",
      "                                       ..\n",
      "539eb309-df36-4a89-ac58-6d3651393910    1\n",
      "539ffa32-1be7-4fe1-b04c-faf1bab763cf    1\n",
      "53aabd84-5dcc-4299-bbe3-62f3764b07b1    1\n",
      "53ac14bd-2bb2-4315-a21c-94562d1b6b2d    1\n",
      "fffb0e5e-9f92-4017-9f42-781a69da4154    1\n",
      "Name: Prospect ID, Length: 9240, dtype: int64\n",
      "___________________________________________\n",
      "Landing Page Submission    4886\n",
      "API                        3580\n",
      "Lead Add Form               718\n",
      "Lead Import                  55\n",
      "Quick Add Form                1\n",
      "Name: Lead Origin, dtype: int64\n",
      "___________________________________________\n",
      "Google              2868\n",
      "Direct Traffic      2543\n",
      "Olark Chat          1755\n",
      "Organic Search      1154\n",
      "Reference            534\n",
      "Welingak Website     142\n",
      "Referral Sites       125\n",
      "Others               119\n",
      "Name: Lead Source, dtype: int64\n",
      "___________________________________________\n",
      "No     8506\n",
      "Yes     734\n",
      "Name: Do Not Email, dtype: int64\n",
      "___________________________________________\n",
      "No     9238\n",
      "Yes       2\n",
      "Name: Do Not Call, dtype: int64\n",
      "___________________________________________\n",
      "Email Opened               3437\n",
      "SMS Sent                   2745\n",
      "Olark Chat Conversation     973\n",
      "Page Visited on Website     640\n",
      "Converted to Lead           428\n",
      "Others                      424\n",
      "Email Bounced               326\n",
      "Email Link Clicked          267\n",
      "Name: Last Activity, dtype: int64\n",
      "___________________________________________\n",
      "Others                               3550\n",
      "Finance Management                    976\n",
      "Human Resource Management             848\n",
      "Marketing Management                  838\n",
      "Operations Management                 503\n",
      "Business Administration               403\n",
      "IT Projects Management                366\n",
      "Supply Chain Management               349\n",
      "Banking, Investment And Insurance     338\n",
      "Media and Advertising                 203\n",
      "Travel and Tourism                    203\n",
      "International Business                178\n",
      "Healthcare Management                 159\n",
      "Hospitality Management                114\n",
      "E-COMMERCE                            112\n",
      "Retail Management                     100\n",
      "Name: Specialization, dtype: int64\n",
      "___________________________________________\n",
      "Unemployed              5600\n",
      "Other                   2934\n",
      "Working Professional     706\n",
      "Name: What is your current occupation, dtype: int64\n",
      "___________________________________________\n",
      "No     9226\n",
      "Yes      14\n",
      "Name: Search, dtype: int64\n",
      "___________________________________________\n",
      "No    9240\n",
      "Name: Magazine, dtype: int64\n",
      "___________________________________________\n",
      "No     9238\n",
      "Yes       2\n",
      "Name: Newspaper Article, dtype: int64\n",
      "___________________________________________\n",
      "No     9239\n",
      "Yes       1\n",
      "Name: X Education Forums, dtype: int64\n",
      "___________________________________________\n",
      "No     9239\n",
      "Yes       1\n",
      "Name: Newspaper, dtype: int64\n",
      "___________________________________________\n",
      "No     9236\n",
      "Yes       4\n",
      "Name: Digital Advertisement, dtype: int64\n",
      "___________________________________________\n",
      "No     9233\n",
      "Yes       7\n",
      "Name: Through Recommendations, dtype: int64\n",
      "___________________________________________\n",
      "No    9240\n",
      "Name: Receive More Updates About Our Courses, dtype: int64\n",
      "___________________________________________\n",
      "Others                                 4987\n",
      "Will revert after reading the email    2072\n",
      "Ringing                                1203\n",
      "Interested in other courses             513\n",
      "Already a student                       465\n",
      "Name: Tags, dtype: int64\n",
      "___________________________________________\n",
      "No    9240\n",
      "Name: Update me on Supply Chain Content, dtype: int64\n",
      "___________________________________________\n",
      "No    9240\n",
      "Name: Get updates on DM Content, dtype: int64\n",
      "___________________________________________\n",
      "Others               5266\n",
      "Mumbai               3222\n",
      "Thane & Outskirts     752\n",
      "Name: City, dtype: int64\n",
      "___________________________________________\n",
      "No    9240\n",
      "Name: I agree to pay the amount through cheque, dtype: int64\n",
      "___________________________________________\n",
      "No     6352\n",
      "Yes    2888\n",
      "Name: A free copy of Mastering The Interview, dtype: int64\n",
      "___________________________________________\n",
      "Modified                        3407\n",
      "Email Opened                    2827\n",
      "SMS Sent                        2172\n",
      "Page Visited on Website          318\n",
      "Olark Chat Conversation          183\n",
      "Email Link Clicked               173\n",
      "Email Bounced                     60\n",
      "Unsubscribed                      47\n",
      "Unreachable                       32\n",
      "Had a Phone Conversation          14\n",
      "Email Marked Spam                  2\n",
      "Approached upfront                 1\n",
      "Email Received                     1\n",
      "Form Submitted on Website          1\n",
      "Resubscribed to emails             1\n",
      "View in browser link Clicked       1\n",
      "Name: Last Notable Activity, dtype: int64\n",
      "___________________________________________\n"
     ]
    }
   ],
   "source": [
    "\n",
    "file1_Column_Category = file1.loc[:, file1.dtypes == 'object']\n",
    "for i in file1_Column_Category:\n",
    "    print(file1[i].astype('category').value_counts())\n",
    "    print('___________________________________________')"
   ]
  },
  {
   "cell_type": "markdown",
   "id": "0cfcc5d8",
   "metadata": {},
   "source": [
    "Observation : Drop Column Due to\n",
    "There is a high degree of skew in the columns below:\n",
    "\n",
    "1. Do Not Call, Do Not Email , Search ,Newspaper Article ,X Education Forums ,Newspaper, Digital Advertisement,Through Recommendations\n",
    "\n",
    "2. Single Category in column :\n",
    "\n",
    "Magazine , 'Receive More Updates About Our Courses' , 'Update me on Supply Chain Content','Get updates on DM Content','I agree to pay the amount through cheque'"
   ]
  },
  {
   "cell_type": "code",
   "execution_count": 72,
   "id": "4cb047ab",
   "metadata": {},
   "outputs": [
    {
     "data": {
      "text/plain": [
       "(9240, 28)"
      ]
     },
     "execution_count": 72,
     "metadata": {},
     "output_type": "execute_result"
    }
   ],
   "source": [
    "#Before Drop Value\n",
    "\n",
    "file1.shape"
   ]
  },
  {
   "cell_type": "code",
   "execution_count": 74,
   "id": "acbcdd8b",
   "metadata": {},
   "outputs": [],
   "source": [
    "droping_Col = ['Do Not Call', 'Do Not Email', 'Search', 'Newspaper Article', 'X Education Forums', 'Newspaper', 'Digital Advertisement', \n",
    "                'Through Recommendations', 'Magazine', 'Receive More Updates About Our Courses', 'Update me on Supply Chain Content', \n",
    "                'Get updates on DM Content', 'I agree to pay the amount through cheque']\n",
    "file1.drop(droping_Col, axis=1, inplace=True)"
   ]
  },
  {
   "cell_type": "code",
   "execution_count": 75,
   "id": "6af6f58c",
   "metadata": {},
   "outputs": [
    {
     "data": {
      "text/plain": [
       "(9240, 15)"
      ]
     },
     "execution_count": 75,
     "metadata": {},
     "output_type": "execute_result"
    }
   ],
   "source": [
    "#After Drop Value\n",
    "\n",
    "file1.shape"
   ]
  },
  {
   "cell_type": "code",
   "execution_count": 76,
   "id": "624895a0",
   "metadata": {},
   "outputs": [
    {
     "data": {
      "text/html": [
       "<div>\n",
       "<style scoped>\n",
       "    .dataframe tbody tr th:only-of-type {\n",
       "        vertical-align: middle;\n",
       "    }\n",
       "\n",
       "    .dataframe tbody tr th {\n",
       "        vertical-align: top;\n",
       "    }\n",
       "\n",
       "    .dataframe thead th {\n",
       "        text-align: right;\n",
       "    }\n",
       "</style>\n",
       "<table border=\"1\" class=\"dataframe\">\n",
       "  <thead>\n",
       "    <tr style=\"text-align: right;\">\n",
       "      <th></th>\n",
       "      <th>Prospect ID</th>\n",
       "      <th>Lead Number</th>\n",
       "      <th>Lead Origin</th>\n",
       "      <th>Lead Source</th>\n",
       "      <th>Converted</th>\n",
       "      <th>TotalVisits</th>\n",
       "      <th>Total Time Spent on Website</th>\n",
       "      <th>Page Views Per Visit</th>\n",
       "      <th>Last Activity</th>\n",
       "      <th>Specialization</th>\n",
       "      <th>What is your current occupation</th>\n",
       "      <th>Tags</th>\n",
       "      <th>City</th>\n",
       "      <th>A free copy of Mastering The Interview</th>\n",
       "      <th>Last Notable Activity</th>\n",
       "    </tr>\n",
       "  </thead>\n",
       "  <tbody>\n",
       "    <tr>\n",
       "      <th>0</th>\n",
       "      <td>7927b2df-8bba-4d29-b9a2-b6e0beafe620</td>\n",
       "      <td>660737</td>\n",
       "      <td>API</td>\n",
       "      <td>Olark Chat</td>\n",
       "      <td>0</td>\n",
       "      <td>0</td>\n",
       "      <td>0</td>\n",
       "      <td>0.0</td>\n",
       "      <td>Page Visited on Website</td>\n",
       "      <td>Others</td>\n",
       "      <td>Unemployed</td>\n",
       "      <td>Interested in other courses</td>\n",
       "      <td>Others</td>\n",
       "      <td>No</td>\n",
       "      <td>Modified</td>\n",
       "    </tr>\n",
       "    <tr>\n",
       "      <th>1</th>\n",
       "      <td>2a272436-5132-4136-86fa-dcc88c88f482</td>\n",
       "      <td>660728</td>\n",
       "      <td>API</td>\n",
       "      <td>Organic Search</td>\n",
       "      <td>0</td>\n",
       "      <td>5</td>\n",
       "      <td>674</td>\n",
       "      <td>2.5</td>\n",
       "      <td>Email Opened</td>\n",
       "      <td>Others</td>\n",
       "      <td>Unemployed</td>\n",
       "      <td>Ringing</td>\n",
       "      <td>Others</td>\n",
       "      <td>No</td>\n",
       "      <td>Email Opened</td>\n",
       "    </tr>\n",
       "    <tr>\n",
       "      <th>2</th>\n",
       "      <td>8cc8c611-a219-4f35-ad23-fdfd2656bd8a</td>\n",
       "      <td>660727</td>\n",
       "      <td>Landing Page Submission</td>\n",
       "      <td>Direct Traffic</td>\n",
       "      <td>1</td>\n",
       "      <td>2</td>\n",
       "      <td>1532</td>\n",
       "      <td>2.0</td>\n",
       "      <td>Email Opened</td>\n",
       "      <td>Business Administration</td>\n",
       "      <td>Other</td>\n",
       "      <td>Will revert after reading the email</td>\n",
       "      <td>Mumbai</td>\n",
       "      <td>Yes</td>\n",
       "      <td>Email Opened</td>\n",
       "    </tr>\n",
       "    <tr>\n",
       "      <th>3</th>\n",
       "      <td>0cc2df48-7cf4-4e39-9de9-19797f9b38cc</td>\n",
       "      <td>660719</td>\n",
       "      <td>Landing Page Submission</td>\n",
       "      <td>Direct Traffic</td>\n",
       "      <td>0</td>\n",
       "      <td>1</td>\n",
       "      <td>305</td>\n",
       "      <td>1.0</td>\n",
       "      <td>Others</td>\n",
       "      <td>Media and Advertising</td>\n",
       "      <td>Unemployed</td>\n",
       "      <td>Ringing</td>\n",
       "      <td>Mumbai</td>\n",
       "      <td>No</td>\n",
       "      <td>Modified</td>\n",
       "    </tr>\n",
       "    <tr>\n",
       "      <th>4</th>\n",
       "      <td>3256f628-e534-4826-9d63-4a8b88782852</td>\n",
       "      <td>660681</td>\n",
       "      <td>Landing Page Submission</td>\n",
       "      <td>Google</td>\n",
       "      <td>1</td>\n",
       "      <td>2</td>\n",
       "      <td>1428</td>\n",
       "      <td>1.0</td>\n",
       "      <td>Converted to Lead</td>\n",
       "      <td>Others</td>\n",
       "      <td>Unemployed</td>\n",
       "      <td>Will revert after reading the email</td>\n",
       "      <td>Mumbai</td>\n",
       "      <td>No</td>\n",
       "      <td>Modified</td>\n",
       "    </tr>\n",
       "  </tbody>\n",
       "</table>\n",
       "</div>"
      ],
      "text/plain": [
       "                            Prospect ID  Lead Number              Lead Origin  \\\n",
       "0  7927b2df-8bba-4d29-b9a2-b6e0beafe620       660737                      API   \n",
       "1  2a272436-5132-4136-86fa-dcc88c88f482       660728                      API   \n",
       "2  8cc8c611-a219-4f35-ad23-fdfd2656bd8a       660727  Landing Page Submission   \n",
       "3  0cc2df48-7cf4-4e39-9de9-19797f9b38cc       660719  Landing Page Submission   \n",
       "4  3256f628-e534-4826-9d63-4a8b88782852       660681  Landing Page Submission   \n",
       "\n",
       "      Lead Source  Converted  TotalVisits  Total Time Spent on Website  \\\n",
       "0      Olark Chat          0            0                            0   \n",
       "1  Organic Search          0            5                          674   \n",
       "2  Direct Traffic          1            2                         1532   \n",
       "3  Direct Traffic          0            1                          305   \n",
       "4          Google          1            2                         1428   \n",
       "\n",
       "   Page Views Per Visit            Last Activity           Specialization  \\\n",
       "0                   0.0  Page Visited on Website                   Others   \n",
       "1                   2.5             Email Opened                   Others   \n",
       "2                   2.0             Email Opened  Business Administration   \n",
       "3                   1.0                   Others    Media and Advertising   \n",
       "4                   1.0        Converted to Lead                   Others   \n",
       "\n",
       "  What is your current occupation                                 Tags  \\\n",
       "0                      Unemployed          Interested in other courses   \n",
       "1                      Unemployed                              Ringing   \n",
       "2                           Other  Will revert after reading the email   \n",
       "3                      Unemployed                              Ringing   \n",
       "4                      Unemployed  Will revert after reading the email   \n",
       "\n",
       "     City A free copy of Mastering The Interview Last Notable Activity  \n",
       "0  Others                                     No              Modified  \n",
       "1  Others                                     No          Email Opened  \n",
       "2  Mumbai                                    Yes          Email Opened  \n",
       "3  Mumbai                                     No              Modified  \n",
       "4  Mumbai                                     No              Modified  "
      ]
     },
     "execution_count": 76,
     "metadata": {},
     "output_type": "execute_result"
    }
   ],
   "source": [
    "file1.head()"
   ]
  },
  {
   "cell_type": "code",
   "execution_count": 77,
   "id": "0804c540",
   "metadata": {},
   "outputs": [],
   "source": [
    "## Dropping 'Prospect ID' (Unique ID) and 'Lead Number' is Numerical Id which is of no use \n",
    "\n",
    "file1.drop(['Prospect ID', 'Lead Number'], axis=1, inplace=True)"
   ]
  },
  {
   "cell_type": "code",
   "execution_count": 78,
   "id": "5817302e",
   "metadata": {},
   "outputs": [
    {
     "data": {
      "text/plain": [
       "(9240, 13)"
      ]
     },
     "execution_count": 78,
     "metadata": {},
     "output_type": "execute_result"
    }
   ],
   "source": [
    "file1.shape"
   ]
  },
  {
   "cell_type": "markdown",
   "id": "5390ea4f",
   "metadata": {},
   "source": [
    "### Performing EDA - Exploratory Data Analysis"
   ]
  },
  {
   "cell_type": "code",
   "execution_count": 80,
   "id": "951c17a7",
   "metadata": {},
   "outputs": [
    {
     "name": "stdout",
     "output_type": "stream",
     "text": [
      "<class 'pandas.core.frame.DataFrame'>\n",
      "RangeIndex: 9240 entries, 0 to 9239\n",
      "Data columns (total 13 columns):\n",
      " #   Column                                  Non-Null Count  Dtype  \n",
      "---  ------                                  --------------  -----  \n",
      " 0   Lead Origin                             9240 non-null   object \n",
      " 1   Lead Source                             9240 non-null   object \n",
      " 2   Converted                               9240 non-null   int64  \n",
      " 3   TotalVisits                             9240 non-null   int32  \n",
      " 4   Total Time Spent on Website             9240 non-null   int64  \n",
      " 5   Page Views Per Visit                    9240 non-null   float64\n",
      " 6   Last Activity                           9240 non-null   object \n",
      " 7   Specialization                          9240 non-null   object \n",
      " 8   What is your current occupation         9240 non-null   object \n",
      " 9   Tags                                    9240 non-null   object \n",
      " 10  City                                    9240 non-null   object \n",
      " 11  A free copy of Mastering The Interview  9240 non-null   object \n",
      " 12  Last Notable Activity                   9240 non-null   object \n",
      "dtypes: float64(1), int32(1), int64(2), object(9)\n",
      "memory usage: 902.5+ KB\n"
     ]
    }
   ],
   "source": [
    "file1.info()"
   ]
  },
  {
   "cell_type": "code",
   "execution_count": 81,
   "id": "8939f79f",
   "metadata": {},
   "outputs": [],
   "source": [
    "# Copy of Original Data frame\n",
    "\n",
    "leads_file1 = file1"
   ]
  },
  {
   "cell_type": "code",
   "execution_count": 88,
   "id": "c64cc3da",
   "metadata": {},
   "outputs": [
    {
     "data": {
      "image/png": "[encoded data removed]",
      "text/plain": [
       "<Figure size 360x216 with 2 Axes>"
      ]
     },
     "metadata": {
      "needs_background": "light"
     },
     "output_type": "display_data"
    }
   ],
   "source": [
    "# visualizing correlation by heatmap\n",
    "\n",
    "plt.figure(figsize=(5, 3))\n",
    "sns.heatmap(leads_file1.corr(),annot=True)\n",
    "plt.show()"
   ]
  },
  {
   "cell_type": "markdown",
   "id": "a691dd25",
   "metadata": {},
   "source": [
    "Observation: \n",
    "    \n",
    "1. Total Visits and Page Views Per Visits have a strong association.\n",
    "2. Converted has good correlation with Total time spent on Website"
   ]
  },
  {
   "cell_type": "code",
   "execution_count": 89,
   "id": "0a068fe5",
   "metadata": {},
   "outputs": [
    {
     "data": {
      "image/png": "[encoded data removed]",
      "text/plain": [
       "<Figure size 864x288 with 2 Axes>"
      ]
     },
     "metadata": {
      "needs_background": "light"
     },
     "output_type": "display_data"
    }
   ],
   "source": [
    "# Plotting Histogram\n",
    "\n",
    "def plot_bars():\n",
    "    plt.figure(figsize=(12, 4))\n",
    "    plt.subplot(121)\n",
    "    sns.distplot(leads_file1['Total Time Spent on Website'])\n",
    "\n",
    "    plt.subplot(122)\n",
    "    sns.distplot(leads_file1['TotalVisits'])\n",
    "\n",
    "    plt.tight_layout()\n",
    "    plt.show()\n",
    "    \n",
    "plot_bars()"
   ]
  },
  {
   "cell_type": "code",
   "execution_count": 92,
   "id": "98beddfc",
   "metadata": {},
   "outputs": [
    {
     "data": {
      "image/png": "[encoded data removed]",
      "text/plain": [
       "<Figure size 720x216 with 2 Axes>"
      ]
     },
     "metadata": {
      "needs_background": "light"
     },
     "output_type": "display_data"
    },
    {
     "data": {
      "image/png": "[encoded data removed]",
      "text/plain": [
       "<Figure size 288x288 with 1 Axes>"
      ]
     },
     "metadata": {
      "needs_background": "light"
     },
     "output_type": "display_data"
    }
   ],
   "source": [
    "# Boxplots before outlier removal\n",
    "\n",
    "num_file1 =  leads_file1[['TotalVisits', 'Total Time Spent on Website', 'Page Views Per Visit','Converted']]\n",
    "\n",
    "\n",
    "def plot_boxes():\n",
    "    plt.figure(figsize=(10, 3))\n",
    "    plt.subplot(121)\n",
    "    sns.boxplot(data=leads_file1, x='Total Time Spent on Website')\n",
    "\n",
    "    plt.subplot(122)\n",
    "    sns.boxplot(data=leads_file1, x='TotalVisits')\n",
    "\n",
    "    plt.tight_layout()\n",
    "    plt.show()\n",
    "\n",
    "    plt.figure(figsize=(4, 4))\n",
    "    box_long = pd.melt(num_file1.drop('Total Time Spent on Website', axis=1), id_vars='Converted')\n",
    "    sns.boxplot(x='Converted', y='value', hue='variable', data=box_long)\n",
    "    plt.show()\n",
    "    \n",
    "plot_boxes()"
   ]
  },
  {
   "cell_type": "markdown",
   "id": "b1218d1e",
   "metadata": {},
   "source": [
    "Observations: \n",
    "    \n",
    "There are upper limit outliers in both the total visits and page views per visit columns, as shown in both the box plots."
   ]
  },
  {
   "cell_type": "code",
   "execution_count": 93,
   "id": "2a5914f2",
   "metadata": {},
   "outputs": [
    {
     "name": "stdout",
     "output_type": "stream",
     "text": [
      "After outliers were removed, 90.51% the data was retained.\n"
     ]
    }
   ],
   "source": [
    "# Removing outliers\n",
    "\n",
    "out_file1 = num_file1.drop('Converted', axis=1)\n",
    "q = out_file1.quantile(0.97)\n",
    "out_file1 = out_file1[out_file1 < q]\n",
    "out_file1 = out_file1.dropna()\n",
    "\n",
    "leads_file1 = leads_file1.loc[out_file1.index].reset_index(drop=True)\n",
    "num_file1 = num_file1.loc[out_file1.index].reset_index(drop=True)\n",
    "\n",
    "print(\"After outliers were removed, \"+f\"{round(len(leads_file1)/9239*100,2)}% the data was retained.\")"
   ]
  },
  {
   "cell_type": "code",
   "execution_count": 94,
   "id": "0eca07a3",
   "metadata": {},
   "outputs": [
    {
     "data": {
      "image/png": "[encoded data removed]",
      "text/plain": [
       "<Figure size 864x288 with 2 Axes>"
      ]
     },
     "metadata": {
      "needs_background": "light"
     },
     "output_type": "display_data"
    },
    {
     "data": {
      "image/png": "[encoded data removed]",
      "text/plain": [
       "<Figure size 720x216 with 2 Axes>"
      ]
     },
     "metadata": {
      "needs_background": "light"
     },
     "output_type": "display_data"
    },
    {
     "data": {
      "image/png": "[encoded data removed]",
      "text/plain": [
       "<Figure size 288x288 with 1 Axes>"
      ]
     },
     "metadata": {
      "needs_background": "light"
     },
     "output_type": "display_data"
    }
   ],
   "source": [
    "# After Outlier removal\n",
    "\n",
    "plot_bars()\n",
    "plot_boxes()"
   ]
  },
  {
   "cell_type": "code",
   "execution_count": 96,
   "id": "c2670cd7",
   "metadata": {},
   "outputs": [
    {
     "data": {
      "image/png": "[encoded data removed]",
      "text/plain": [
       "<Figure size 1800x720 with 2 Axes>"
      ]
     },
     "metadata": {
      "needs_background": "light"
     },
     "output_type": "display_data"
    }
   ],
   "source": [
    "# Plotting bar Graph\n",
    "\n",
    "plt.figure(figsize=(25, 10))\n",
    "\n",
    "# Lead Origin \n",
    "plt.subplot(2,6,1)\n",
    "sns.countplot(x = \"Lead Origin\", hue = \"Converted\", data = leads_file1)\n",
    "plt.xticks(rotation = 90)\n",
    "\n",
    "# Lead Source\n",
    "plt.subplot(2,4,2)\n",
    "sns.countplot(x = \"Lead Source\", hue = \"Converted\", data = leads_file1)\n",
    "plt.xticks(rotation = 90)\n",
    "\n",
    "\n",
    "plt.show()"
   ]
  },
  {
   "cell_type": "markdown",
   "id": "50cbb2e5",
   "metadata": {},
   "source": [
    "#### Observations: \n",
    "    \n",
    "1.Lead Origin Graph\n",
    "a.API and Landing Page Submission have around 40-50% conversion rate\n",
    "b.Lead Add Form has more than 90% conversion rate but count of lead are not very high.\n",
    "c.Lead Import are very less in count.\n",
    "\n",
    "2. Lead Source Graph\n",
    "a.Google and Direct traffic generate high number of leads.\n",
    "b.Refrences and wellingak website has high conversion rate. Should be more focused on."
   ]
  },
  {
   "cell_type": "code",
   "execution_count": 97,
   "id": "2e74ca34",
   "metadata": {},
   "outputs": [
    {
     "data": {
      "image/png": "[encoded data removed]",
      "text/plain": [
       "<Figure size 1800x720 with 2 Axes>"
      ]
     },
     "metadata": {
      "needs_background": "light"
     },
     "output_type": "display_data"
    }
   ],
   "source": [
    "\n",
    "plt.figure(figsize=(25, 10))\n",
    "\n",
    "# Specialization\n",
    "plt.subplot(2,2,1)\n",
    "sns.countplot(x = \"Specialization\", hue = \"Converted\", data = leads_file1)\n",
    "plt.xticks(rotation = 90)\n",
    "\n",
    "# Tags\n",
    "plt.subplot(2,4,3)\n",
    "sns.countplot(x = \"Tags\", hue = \"Converted\", data = leads_file1)\n",
    "plt.xticks(rotation = 90)\n",
    "\n",
    "\n",
    "plt.show()"
   ]
  },
  {
   "cell_type": "markdown",
   "id": "9c0a781a",
   "metadata": {},
   "source": [
    "Observations:\n",
    "    \n",
    "1. Specialization Graph\n",
    "    a. The emphasis should be on diverse specialities with low lead generation but high conversion rates.\n",
    "    b. The conversion rate from other sources is below average.\n",
    "\n",
    "2. Tag Graph\n",
    "    a.The conversion rate is high for revert after reading mail .Which is justify."
   ]
  },
  {
   "cell_type": "markdown",
   "id": "28d8c801",
   "metadata": {},
   "source": [
    "### Modelling"
   ]
  },
  {
   "cell_type": "code",
   "execution_count": 99,
   "id": "b446c502",
   "metadata": {},
   "outputs": [
    {
     "name": "stdout",
     "output_type": "stream",
     "text": [
      "<class 'pandas.core.frame.DataFrame'>\n",
      "RangeIndex: 8362 entries, 0 to 8361\n",
      "Data columns (total 13 columns):\n",
      " #   Column                                  Non-Null Count  Dtype  \n",
      "---  ------                                  --------------  -----  \n",
      " 0   Lead Origin                             8362 non-null   object \n",
      " 1   Lead Source                             8362 non-null   object \n",
      " 2   Converted                               8362 non-null   int64  \n",
      " 3   TotalVisits                             8362 non-null   int32  \n",
      " 4   Total Time Spent on Website             8362 non-null   int64  \n",
      " 5   Page Views Per Visit                    8362 non-null   float64\n",
      " 6   Last Activity                           8362 non-null   object \n",
      " 7   Specialization                          8362 non-null   object \n",
      " 8   What is your current occupation         8362 non-null   object \n",
      " 9   Tags                                    8362 non-null   object \n",
      " 10  City                                    8362 non-null   object \n",
      " 11  A free copy of Mastering The Interview  8362 non-null   object \n",
      " 12  Last Notable Activity                   8362 non-null   object \n",
      "dtypes: float64(1), int32(1), int64(2), object(9)\n",
      "memory usage: 816.7+ KB\n"
     ]
    }
   ],
   "source": [
    "leads_file1.info()"
   ]
  },
  {
   "cell_type": "code",
   "execution_count": 100,
   "id": "d886b99d",
   "metadata": {},
   "outputs": [
    {
     "data": {
      "text/html": [
       "<div>\n",
       "<style scoped>\n",
       "    .dataframe tbody tr th:only-of-type {\n",
       "        vertical-align: middle;\n",
       "    }\n",
       "\n",
       "    .dataframe tbody tr th {\n",
       "        vertical-align: top;\n",
       "    }\n",
       "\n",
       "    .dataframe thead th {\n",
       "        text-align: right;\n",
       "    }\n",
       "</style>\n",
       "<table border=\"1\" class=\"dataframe\">\n",
       "  <thead>\n",
       "    <tr style=\"text-align: right;\">\n",
       "      <th></th>\n",
       "      <th>Lead Origin</th>\n",
       "      <th>Lead Source</th>\n",
       "      <th>Converted</th>\n",
       "      <th>TotalVisits</th>\n",
       "      <th>Total Time Spent on Website</th>\n",
       "      <th>Page Views Per Visit</th>\n",
       "      <th>Last Activity</th>\n",
       "      <th>Specialization</th>\n",
       "      <th>What is your current occupation</th>\n",
       "      <th>Tags</th>\n",
       "      <th>City</th>\n",
       "      <th>A free copy of Mastering The Interview</th>\n",
       "      <th>Last Notable Activity</th>\n",
       "    </tr>\n",
       "  </thead>\n",
       "  <tbody>\n",
       "    <tr>\n",
       "      <th>0</th>\n",
       "      <td>API</td>\n",
       "      <td>Olark Chat</td>\n",
       "      <td>0</td>\n",
       "      <td>0</td>\n",
       "      <td>0</td>\n",
       "      <td>0.0</td>\n",
       "      <td>Page Visited on Website</td>\n",
       "      <td>Others</td>\n",
       "      <td>Unemployed</td>\n",
       "      <td>Interested in other courses</td>\n",
       "      <td>Others</td>\n",
       "      <td>No</td>\n",
       "      <td>Modified</td>\n",
       "    </tr>\n",
       "    <tr>\n",
       "      <th>1</th>\n",
       "      <td>API</td>\n",
       "      <td>Organic Search</td>\n",
       "      <td>0</td>\n",
       "      <td>5</td>\n",
       "      <td>674</td>\n",
       "      <td>2.5</td>\n",
       "      <td>Email Opened</td>\n",
       "      <td>Others</td>\n",
       "      <td>Unemployed</td>\n",
       "      <td>Ringing</td>\n",
       "      <td>Others</td>\n",
       "      <td>No</td>\n",
       "      <td>Email Opened</td>\n",
       "    </tr>\n",
       "    <tr>\n",
       "      <th>2</th>\n",
       "      <td>Landing Page Submission</td>\n",
       "      <td>Direct Traffic</td>\n",
       "      <td>1</td>\n",
       "      <td>2</td>\n",
       "      <td>1532</td>\n",
       "      <td>2.0</td>\n",
       "      <td>Email Opened</td>\n",
       "      <td>Business Administration</td>\n",
       "      <td>Other</td>\n",
       "      <td>Will revert after reading the email</td>\n",
       "      <td>Mumbai</td>\n",
       "      <td>Yes</td>\n",
       "      <td>Email Opened</td>\n",
       "    </tr>\n",
       "    <tr>\n",
       "      <th>3</th>\n",
       "      <td>Landing Page Submission</td>\n",
       "      <td>Direct Traffic</td>\n",
       "      <td>0</td>\n",
       "      <td>1</td>\n",
       "      <td>305</td>\n",
       "      <td>1.0</td>\n",
       "      <td>Others</td>\n",
       "      <td>Media and Advertising</td>\n",
       "      <td>Unemployed</td>\n",
       "      <td>Ringing</td>\n",
       "      <td>Mumbai</td>\n",
       "      <td>No</td>\n",
       "      <td>Modified</td>\n",
       "    </tr>\n",
       "    <tr>\n",
       "      <th>4</th>\n",
       "      <td>Landing Page Submission</td>\n",
       "      <td>Google</td>\n",
       "      <td>1</td>\n",
       "      <td>2</td>\n",
       "      <td>1428</td>\n",
       "      <td>1.0</td>\n",
       "      <td>Converted to Lead</td>\n",
       "      <td>Others</td>\n",
       "      <td>Unemployed</td>\n",
       "      <td>Will revert after reading the email</td>\n",
       "      <td>Mumbai</td>\n",
       "      <td>No</td>\n",
       "      <td>Modified</td>\n",
       "    </tr>\n",
       "  </tbody>\n",
       "</table>\n",
       "</div>"
      ],
      "text/plain": [
       "               Lead Origin     Lead Source  Converted  TotalVisits  \\\n",
       "0                      API      Olark Chat          0            0   \n",
       "1                      API  Organic Search          0            5   \n",
       "2  Landing Page Submission  Direct Traffic          1            2   \n",
       "3  Landing Page Submission  Direct Traffic          0            1   \n",
       "4  Landing Page Submission          Google          1            2   \n",
       "\n",
       "   Total Time Spent on Website  Page Views Per Visit            Last Activity  \\\n",
       "0                            0                   0.0  Page Visited on Website   \n",
       "1                          674                   2.5             Email Opened   \n",
       "2                         1532                   2.0             Email Opened   \n",
       "3                          305                   1.0                   Others   \n",
       "4                         1428                   1.0        Converted to Lead   \n",
       "\n",
       "            Specialization What is your current occupation  \\\n",
       "0                   Others                      Unemployed   \n",
       "1                   Others                      Unemployed   \n",
       "2  Business Administration                           Other   \n",
       "3    Media and Advertising                      Unemployed   \n",
       "4                   Others                      Unemployed   \n",
       "\n",
       "                                  Tags    City  \\\n",
       "0          Interested in other courses  Others   \n",
       "1                              Ringing  Others   \n",
       "2  Will revert after reading the email  Mumbai   \n",
       "3                              Ringing  Mumbai   \n",
       "4  Will revert after reading the email  Mumbai   \n",
       "\n",
       "  A free copy of Mastering The Interview Last Notable Activity  \n",
       "0                                     No              Modified  \n",
       "1                                     No          Email Opened  \n",
       "2                                    Yes          Email Opened  \n",
       "3                                     No              Modified  \n",
       "4                                     No              Modified  "
      ]
     },
     "execution_count": 100,
     "metadata": {},
     "output_type": "execute_result"
    }
   ],
   "source": [
    "leads_file1.head()"
   ]
  },
  {
   "cell_type": "code",
   "execution_count": 101,
   "id": "5a88e826",
   "metadata": {},
   "outputs": [
    {
     "name": "stdout",
     "output_type": "stream",
     "text": [
      "Lead Origin = 4\n",
      "Lead Source = 8\n",
      "Last Activity = 8\n",
      "Specialization = 16\n",
      "What is your current occupation = 3\n",
      "Tags = 5\n",
      "City = 3\n",
      "A free copy of Mastering The Interview = 2\n",
      "Last Notable Activity = 16\n"
     ]
    }
   ],
   "source": [
    "# finding Unique Value\n",
    "\n",
    "# determine unique values\n",
    "\n",
    "for k, v in leads_file1.select_dtypes(include='object').nunique().to_dict().items():\n",
    "    print('{} = {}'.format(k,v))"
   ]
  },
  {
   "cell_type": "markdown",
   "id": "d5482f4e",
   "metadata": {},
   "source": [
    "#### Creating dummy variable"
   ]
  },
  {
   "cell_type": "code",
   "execution_count": 102,
   "id": "e3b6a3c7",
   "metadata": {},
   "outputs": [
    {
     "data": {
      "text/plain": [
       "0    5918\n",
       "1    2444\n",
       "Name: A free copy of Mastering The Interview, dtype: int64"
      ]
     },
     "execution_count": 102,
     "metadata": {},
     "output_type": "execute_result"
    }
   ],
   "source": [
    "# Dummy Creation \n",
    "\n",
    "leads_file1['A free copy of Mastering The Interview'] = leads_file1['A free copy of Mastering The Interview'].map({'No':0,'Yes':1})\n",
    "leads_file1['A free copy of Mastering The Interview'].value_counts()"
   ]
  },
  {
   "cell_type": "code",
   "execution_count": 103,
   "id": "a46234e7",
   "metadata": {},
   "outputs": [
    {
     "data": {
      "text/plain": [
       "(8362, 13)"
      ]
     },
     "execution_count": 103,
     "metadata": {},
     "output_type": "execute_result"
    }
   ],
   "source": [
    "leads_file1.shape"
   ]
  },
  {
   "cell_type": "code",
   "execution_count": 104,
   "id": "de7ecc77",
   "metadata": {},
   "outputs": [
    {
     "data": {
      "text/html": [
       "<div>\n",
       "<style scoped>\n",
       "    .dataframe tbody tr th:only-of-type {\n",
       "        vertical-align: middle;\n",
       "    }\n",
       "\n",
       "    .dataframe tbody tr th {\n",
       "        vertical-align: top;\n",
       "    }\n",
       "\n",
       "    .dataframe thead th {\n",
       "        text-align: right;\n",
       "    }\n",
       "</style>\n",
       "<table border=\"1\" class=\"dataframe\">\n",
       "  <thead>\n",
       "    <tr style=\"text-align: right;\">\n",
       "      <th></th>\n",
       "      <th>Converted</th>\n",
       "      <th>TotalVisits</th>\n",
       "      <th>Total Time Spent on Website</th>\n",
       "      <th>Page Views Per Visit</th>\n",
       "      <th>A free copy of Mastering The Interview</th>\n",
       "      <th>Lead Origin_Landing Page Submission</th>\n",
       "      <th>Lead Origin_Lead Add Form</th>\n",
       "      <th>Lead Origin_Lead Import</th>\n",
       "      <th>Lead Source_Google</th>\n",
       "      <th>Lead Source_Olark Chat</th>\n",
       "      <th>...</th>\n",
       "      <th>Last Notable Activity_Form Submitted on Website</th>\n",
       "      <th>Last Notable Activity_Had a Phone Conversation</th>\n",
       "      <th>Last Notable Activity_Modified</th>\n",
       "      <th>Last Notable Activity_Olark Chat Conversation</th>\n",
       "      <th>Last Notable Activity_Page Visited on Website</th>\n",
       "      <th>Last Notable Activity_Resubscribed to emails</th>\n",
       "      <th>Last Notable Activity_SMS Sent</th>\n",
       "      <th>Last Notable Activity_Unreachable</th>\n",
       "      <th>Last Notable Activity_Unsubscribed</th>\n",
       "      <th>Last Notable Activity_View in browser link Clicked</th>\n",
       "    </tr>\n",
       "  </thead>\n",
       "  <tbody>\n",
       "    <tr>\n",
       "      <th>0</th>\n",
       "      <td>0</td>\n",
       "      <td>0</td>\n",
       "      <td>0</td>\n",
       "      <td>0.0</td>\n",
       "      <td>0</td>\n",
       "      <td>0</td>\n",
       "      <td>0</td>\n",
       "      <td>0</td>\n",
       "      <td>0</td>\n",
       "      <td>1</td>\n",
       "      <td>...</td>\n",
       "      <td>0</td>\n",
       "      <td>0</td>\n",
       "      <td>1</td>\n",
       "      <td>0</td>\n",
       "      <td>0</td>\n",
       "      <td>0</td>\n",
       "      <td>0</td>\n",
       "      <td>0</td>\n",
       "      <td>0</td>\n",
       "      <td>0</td>\n",
       "    </tr>\n",
       "    <tr>\n",
       "      <th>1</th>\n",
       "      <td>0</td>\n",
       "      <td>5</td>\n",
       "      <td>674</td>\n",
       "      <td>2.5</td>\n",
       "      <td>0</td>\n",
       "      <td>0</td>\n",
       "      <td>0</td>\n",
       "      <td>0</td>\n",
       "      <td>0</td>\n",
       "      <td>0</td>\n",
       "      <td>...</td>\n",
       "      <td>0</td>\n",
       "      <td>0</td>\n",
       "      <td>0</td>\n",
       "      <td>0</td>\n",
       "      <td>0</td>\n",
       "      <td>0</td>\n",
       "      <td>0</td>\n",
       "      <td>0</td>\n",
       "      <td>0</td>\n",
       "      <td>0</td>\n",
       "    </tr>\n",
       "    <tr>\n",
       "      <th>2</th>\n",
       "      <td>1</td>\n",
       "      <td>2</td>\n",
       "      <td>1532</td>\n",
       "      <td>2.0</td>\n",
       "      <td>1</td>\n",
       "      <td>1</td>\n",
       "      <td>0</td>\n",
       "      <td>0</td>\n",
       "      <td>0</td>\n",
       "      <td>0</td>\n",
       "      <td>...</td>\n",
       "      <td>0</td>\n",
       "      <td>0</td>\n",
       "      <td>0</td>\n",
       "      <td>0</td>\n",
       "      <td>0</td>\n",
       "      <td>0</td>\n",
       "      <td>0</td>\n",
       "      <td>0</td>\n",
       "      <td>0</td>\n",
       "      <td>0</td>\n",
       "    </tr>\n",
       "    <tr>\n",
       "      <th>3</th>\n",
       "      <td>0</td>\n",
       "      <td>1</td>\n",
       "      <td>305</td>\n",
       "      <td>1.0</td>\n",
       "      <td>0</td>\n",
       "      <td>1</td>\n",
       "      <td>0</td>\n",
       "      <td>0</td>\n",
       "      <td>0</td>\n",
       "      <td>0</td>\n",
       "      <td>...</td>\n",
       "      <td>0</td>\n",
       "      <td>0</td>\n",
       "      <td>1</td>\n",
       "      <td>0</td>\n",
       "      <td>0</td>\n",
       "      <td>0</td>\n",
       "      <td>0</td>\n",
       "      <td>0</td>\n",
       "      <td>0</td>\n",
       "      <td>0</td>\n",
       "    </tr>\n",
       "    <tr>\n",
       "      <th>4</th>\n",
       "      <td>1</td>\n",
       "      <td>2</td>\n",
       "      <td>1428</td>\n",
       "      <td>1.0</td>\n",
       "      <td>0</td>\n",
       "      <td>1</td>\n",
       "      <td>0</td>\n",
       "      <td>0</td>\n",
       "      <td>1</td>\n",
       "      <td>0</td>\n",
       "      <td>...</td>\n",
       "      <td>0</td>\n",
       "      <td>0</td>\n",
       "      <td>1</td>\n",
       "      <td>0</td>\n",
       "      <td>0</td>\n",
       "      <td>0</td>\n",
       "      <td>0</td>\n",
       "      <td>0</td>\n",
       "      <td>0</td>\n",
       "      <td>0</td>\n",
       "    </tr>\n",
       "  </tbody>\n",
       "</table>\n",
       "<p>5 rows × 60 columns</p>\n",
       "</div>"
      ],
      "text/plain": [
       "   Converted  TotalVisits  Total Time Spent on Website  Page Views Per Visit  \\\n",
       "0          0            0                            0                   0.0   \n",
       "1          0            5                          674                   2.5   \n",
       "2          1            2                         1532                   2.0   \n",
       "3          0            1                          305                   1.0   \n",
       "4          1            2                         1428                   1.0   \n",
       "\n",
       "   A free copy of Mastering The Interview  \\\n",
       "0                                       0   \n",
       "1                                       0   \n",
       "2                                       1   \n",
       "3                                       0   \n",
       "4                                       0   \n",
       "\n",
       "   Lead Origin_Landing Page Submission  Lead Origin_Lead Add Form  \\\n",
       "0                                    0                          0   \n",
       "1                                    0                          0   \n",
       "2                                    1                          0   \n",
       "3                                    1                          0   \n",
       "4                                    1                          0   \n",
       "\n",
       "   Lead Origin_Lead Import  Lead Source_Google  Lead Source_Olark Chat  ...  \\\n",
       "0                        0                   0                       1  ...   \n",
       "1                        0                   0                       0  ...   \n",
       "2                        0                   0                       0  ...   \n",
       "3                        0                   0                       0  ...   \n",
       "4                        0                   1                       0  ...   \n",
       "\n",
       "   Last Notable Activity_Form Submitted on Website  \\\n",
       "0                                                0   \n",
       "1                                                0   \n",
       "2                                                0   \n",
       "3                                                0   \n",
       "4                                                0   \n",
       "\n",
       "   Last Notable Activity_Had a Phone Conversation  \\\n",
       "0                                               0   \n",
       "1                                               0   \n",
       "2                                               0   \n",
       "3                                               0   \n",
       "4                                               0   \n",
       "\n",
       "   Last Notable Activity_Modified  \\\n",
       "0                               1   \n",
       "1                               0   \n",
       "2                               0   \n",
       "3                               1   \n",
       "4                               1   \n",
       "\n",
       "   Last Notable Activity_Olark Chat Conversation  \\\n",
       "0                                              0   \n",
       "1                                              0   \n",
       "2                                              0   \n",
       "3                                              0   \n",
       "4                                              0   \n",
       "\n",
       "   Last Notable Activity_Page Visited on Website  \\\n",
       "0                                              0   \n",
       "1                                              0   \n",
       "2                                              0   \n",
       "3                                              0   \n",
       "4                                              0   \n",
       "\n",
       "   Last Notable Activity_Resubscribed to emails  \\\n",
       "0                                             0   \n",
       "1                                             0   \n",
       "2                                             0   \n",
       "3                                             0   \n",
       "4                                             0   \n",
       "\n",
       "   Last Notable Activity_SMS Sent  Last Notable Activity_Unreachable  \\\n",
       "0                               0                                  0   \n",
       "1                               0                                  0   \n",
       "2                               0                                  0   \n",
       "3                               0                                  0   \n",
       "4                               0                                  0   \n",
       "\n",
       "   Last Notable Activity_Unsubscribed  \\\n",
       "0                                   0   \n",
       "1                                   0   \n",
       "2                                   0   \n",
       "3                                   0   \n",
       "4                                   0   \n",
       "\n",
       "   Last Notable Activity_View in browser link Clicked  \n",
       "0                                                  0   \n",
       "1                                                  0   \n",
       "2                                                  0   \n",
       "3                                                  0   \n",
       "4                                                  0   \n",
       "\n",
       "[5 rows x 60 columns]"
      ]
     },
     "execution_count": 104,
     "metadata": {},
     "output_type": "execute_result"
    }
   ],
   "source": [
    "# Creating a dummy variable for some of the categorical variables and dropping the first one.\n",
    "\n",
    "leads_file1 = pd.get_dummies(leads_file1, drop_first=True)\n",
    "leads_file1.head()"
   ]
  },
  {
   "cell_type": "code",
   "execution_count": 105,
   "id": "b45d7523",
   "metadata": {},
   "outputs": [
    {
     "name": "stdout",
     "output_type": "stream",
     "text": [
      "<class 'pandas.core.frame.DataFrame'>\n",
      "RangeIndex: 8362 entries, 0 to 8361\n",
      "Data columns (total 60 columns):\n",
      " #   Column                                                Non-Null Count  Dtype  \n",
      "---  ------                                                --------------  -----  \n",
      " 0   Converted                                             8362 non-null   int64  \n",
      " 1   TotalVisits                                           8362 non-null   int32  \n",
      " 2   Total Time Spent on Website                           8362 non-null   int64  \n",
      " 3   Page Views Per Visit                                  8362 non-null   float64\n",
      " 4   A free copy of Mastering The Interview                8362 non-null   int64  \n",
      " 5   Lead Origin_Landing Page Submission                   8362 non-null   uint8  \n",
      " 6   Lead Origin_Lead Add Form                             8362 non-null   uint8  \n",
      " 7   Lead Origin_Lead Import                               8362 non-null   uint8  \n",
      " 8   Lead Source_Google                                    8362 non-null   uint8  \n",
      " 9   Lead Source_Olark Chat                                8362 non-null   uint8  \n",
      " 10  Lead Source_Organic Search                            8362 non-null   uint8  \n",
      " 11  Lead Source_Others                                    8362 non-null   uint8  \n",
      " 12  Lead Source_Reference                                 8362 non-null   uint8  \n",
      " 13  Lead Source_Referral Sites                            8362 non-null   uint8  \n",
      " 14  Lead Source_Welingak Website                          8362 non-null   uint8  \n",
      " 15  Last Activity_Email Bounced                           8362 non-null   uint8  \n",
      " 16  Last Activity_Email Link Clicked                      8362 non-null   uint8  \n",
      " 17  Last Activity_Email Opened                            8362 non-null   uint8  \n",
      " 18  Last Activity_Olark Chat Conversation                 8362 non-null   uint8  \n",
      " 19  Last Activity_Others                                  8362 non-null   uint8  \n",
      " 20  Last Activity_Page Visited on Website                 8362 non-null   uint8  \n",
      " 21  Last Activity_SMS Sent                                8362 non-null   uint8  \n",
      " 22  Specialization_Business Administration                8362 non-null   uint8  \n",
      " 23  Specialization_E-COMMERCE                             8362 non-null   uint8  \n",
      " 24  Specialization_Finance Management                     8362 non-null   uint8  \n",
      " 25  Specialization_Healthcare Management                  8362 non-null   uint8  \n",
      " 26  Specialization_Hospitality Management                 8362 non-null   uint8  \n",
      " 27  Specialization_Human Resource Management              8362 non-null   uint8  \n",
      " 28  Specialization_IT Projects Management                 8362 non-null   uint8  \n",
      " 29  Specialization_International Business                 8362 non-null   uint8  \n",
      " 30  Specialization_Marketing Management                   8362 non-null   uint8  \n",
      " 31  Specialization_Media and Advertising                  8362 non-null   uint8  \n",
      " 32  Specialization_Operations Management                  8362 non-null   uint8  \n",
      " 33  Specialization_Others                                 8362 non-null   uint8  \n",
      " 34  Specialization_Retail Management                      8362 non-null   uint8  \n",
      " 35  Specialization_Supply Chain Management                8362 non-null   uint8  \n",
      " 36  Specialization_Travel and Tourism                     8362 non-null   uint8  \n",
      " 37  What is your current occupation_Unemployed            8362 non-null   uint8  \n",
      " 38  What is your current occupation_Working Professional  8362 non-null   uint8  \n",
      " 39  Tags_Interested in other courses                      8362 non-null   uint8  \n",
      " 40  Tags_Others                                           8362 non-null   uint8  \n",
      " 41  Tags_Ringing                                          8362 non-null   uint8  \n",
      " 42  Tags_Will revert after reading the email              8362 non-null   uint8  \n",
      " 43  City_Others                                           8362 non-null   uint8  \n",
      " 44  City_Thane & Outskirts                                8362 non-null   uint8  \n",
      " 45  Last Notable Activity_Email Bounced                   8362 non-null   uint8  \n",
      " 46  Last Notable Activity_Email Link Clicked              8362 non-null   uint8  \n",
      " 47  Last Notable Activity_Email Marked Spam               8362 non-null   uint8  \n",
      " 48  Last Notable Activity_Email Opened                    8362 non-null   uint8  \n",
      " 49  Last Notable Activity_Email Received                  8362 non-null   uint8  \n",
      " 50  Last Notable Activity_Form Submitted on Website       8362 non-null   uint8  \n",
      " 51  Last Notable Activity_Had a Phone Conversation        8362 non-null   uint8  \n",
      " 52  Last Notable Activity_Modified                        8362 non-null   uint8  \n",
      " 53  Last Notable Activity_Olark Chat Conversation         8362 non-null   uint8  \n",
      " 54  Last Notable Activity_Page Visited on Website         8362 non-null   uint8  \n",
      " 55  Last Notable Activity_Resubscribed to emails          8362 non-null   uint8  \n",
      " 56  Last Notable Activity_SMS Sent                        8362 non-null   uint8  \n",
      " 57  Last Notable Activity_Unreachable                     8362 non-null   uint8  \n",
      " 58  Last Notable Activity_Unsubscribed                    8362 non-null   uint8  \n",
      " 59  Last Notable Activity_View in browser link Clicked    8362 non-null   uint8  \n",
      "dtypes: float64(1), int32(1), int64(3), uint8(55)\n",
      "memory usage: 743.2 KB\n"
     ]
    }
   ],
   "source": [
    "leads_file1.info()"
   ]
  },
  {
   "cell_type": "markdown",
   "id": "c94c5f93",
   "metadata": {},
   "source": [
    "### Train-Test Split"
   ]
  },
  {
   "cell_type": "code",
   "execution_count": 106,
   "id": "36ddf1ec",
   "metadata": {},
   "outputs": [],
   "source": [
    "# importing libraries\n",
    "\n",
    "from sklearn.cluster import KMeans\n",
    "from sklearn.model_selection import train_test_split\n",
    "from sklearn.preprocessing import StandardScaler\n",
    "from sklearn.linear_model import LogisticRegression\n",
    "from sklearn.feature_selection import RFE"
   ]
  },
  {
   "cell_type": "code",
   "execution_count": 107,
   "id": "ecf39e32",
   "metadata": {},
   "outputs": [
    {
     "data": {
      "text/html": [
       "<div>\n",
       "<style scoped>\n",
       "    .dataframe tbody tr th:only-of-type {\n",
       "        vertical-align: middle;\n",
       "    }\n",
       "\n",
       "    .dataframe tbody tr th {\n",
       "        vertical-align: top;\n",
       "    }\n",
       "\n",
       "    .dataframe thead th {\n",
       "        text-align: right;\n",
       "    }\n",
       "</style>\n",
       "<table border=\"1\" class=\"dataframe\">\n",
       "  <thead>\n",
       "    <tr style=\"text-align: right;\">\n",
       "      <th></th>\n",
       "      <th>TotalVisits</th>\n",
       "      <th>Total Time Spent on Website</th>\n",
       "      <th>Page Views Per Visit</th>\n",
       "      <th>A free copy of Mastering The Interview</th>\n",
       "      <th>Lead Origin_Landing Page Submission</th>\n",
       "      <th>Lead Origin_Lead Add Form</th>\n",
       "      <th>Lead Origin_Lead Import</th>\n",
       "      <th>Lead Source_Google</th>\n",
       "      <th>Lead Source_Olark Chat</th>\n",
       "      <th>Lead Source_Organic Search</th>\n",
       "      <th>...</th>\n",
       "      <th>Last Notable Activity_Form Submitted on Website</th>\n",
       "      <th>Last Notable Activity_Had a Phone Conversation</th>\n",
       "      <th>Last Notable Activity_Modified</th>\n",
       "      <th>Last Notable Activity_Olark Chat Conversation</th>\n",
       "      <th>Last Notable Activity_Page Visited on Website</th>\n",
       "      <th>Last Notable Activity_Resubscribed to emails</th>\n",
       "      <th>Last Notable Activity_SMS Sent</th>\n",
       "      <th>Last Notable Activity_Unreachable</th>\n",
       "      <th>Last Notable Activity_Unsubscribed</th>\n",
       "      <th>Last Notable Activity_View in browser link Clicked</th>\n",
       "    </tr>\n",
       "  </thead>\n",
       "  <tbody>\n",
       "    <tr>\n",
       "      <th>0</th>\n",
       "      <td>0</td>\n",
       "      <td>0</td>\n",
       "      <td>0.0</td>\n",
       "      <td>0</td>\n",
       "      <td>0</td>\n",
       "      <td>0</td>\n",
       "      <td>0</td>\n",
       "      <td>0</td>\n",
       "      <td>1</td>\n",
       "      <td>0</td>\n",
       "      <td>...</td>\n",
       "      <td>0</td>\n",
       "      <td>0</td>\n",
       "      <td>1</td>\n",
       "      <td>0</td>\n",
       "      <td>0</td>\n",
       "      <td>0</td>\n",
       "      <td>0</td>\n",
       "      <td>0</td>\n",
       "      <td>0</td>\n",
       "      <td>0</td>\n",
       "    </tr>\n",
       "    <tr>\n",
       "      <th>1</th>\n",
       "      <td>5</td>\n",
       "      <td>674</td>\n",
       "      <td>2.5</td>\n",
       "      <td>0</td>\n",
       "      <td>0</td>\n",
       "      <td>0</td>\n",
       "      <td>0</td>\n",
       "      <td>0</td>\n",
       "      <td>0</td>\n",
       "      <td>1</td>\n",
       "      <td>...</td>\n",
       "      <td>0</td>\n",
       "      <td>0</td>\n",
       "      <td>0</td>\n",
       "      <td>0</td>\n",
       "      <td>0</td>\n",
       "      <td>0</td>\n",
       "      <td>0</td>\n",
       "      <td>0</td>\n",
       "      <td>0</td>\n",
       "      <td>0</td>\n",
       "    </tr>\n",
       "    <tr>\n",
       "      <th>2</th>\n",
       "      <td>2</td>\n",
       "      <td>1532</td>\n",
       "      <td>2.0</td>\n",
       "      <td>1</td>\n",
       "      <td>1</td>\n",
       "      <td>0</td>\n",
       "      <td>0</td>\n",
       "      <td>0</td>\n",
       "      <td>0</td>\n",
       "      <td>0</td>\n",
       "      <td>...</td>\n",
       "      <td>0</td>\n",
       "      <td>0</td>\n",
       "      <td>0</td>\n",
       "      <td>0</td>\n",
       "      <td>0</td>\n",
       "      <td>0</td>\n",
       "      <td>0</td>\n",
       "      <td>0</td>\n",
       "      <td>0</td>\n",
       "      <td>0</td>\n",
       "    </tr>\n",
       "    <tr>\n",
       "      <th>3</th>\n",
       "      <td>1</td>\n",
       "      <td>305</td>\n",
       "      <td>1.0</td>\n",
       "      <td>0</td>\n",
       "      <td>1</td>\n",
       "      <td>0</td>\n",
       "      <td>0</td>\n",
       "      <td>0</td>\n",
       "      <td>0</td>\n",
       "      <td>0</td>\n",
       "      <td>...</td>\n",
       "      <td>0</td>\n",
       "      <td>0</td>\n",
       "      <td>1</td>\n",
       "      <td>0</td>\n",
       "      <td>0</td>\n",
       "      <td>0</td>\n",
       "      <td>0</td>\n",
       "      <td>0</td>\n",
       "      <td>0</td>\n",
       "      <td>0</td>\n",
       "    </tr>\n",
       "    <tr>\n",
       "      <th>4</th>\n",
       "      <td>2</td>\n",
       "      <td>1428</td>\n",
       "      <td>1.0</td>\n",
       "      <td>0</td>\n",
       "      <td>1</td>\n",
       "      <td>0</td>\n",
       "      <td>0</td>\n",
       "      <td>1</td>\n",
       "      <td>0</td>\n",
       "      <td>0</td>\n",
       "      <td>...</td>\n",
       "      <td>0</td>\n",
       "      <td>0</td>\n",
       "      <td>1</td>\n",
       "      <td>0</td>\n",
       "      <td>0</td>\n",
       "      <td>0</td>\n",
       "      <td>0</td>\n",
       "      <td>0</td>\n",
       "      <td>0</td>\n",
       "      <td>0</td>\n",
       "    </tr>\n",
       "  </tbody>\n",
       "</table>\n",
       "<p>5 rows × 59 columns</p>\n",
       "</div>"
      ],
      "text/plain": [
       "   TotalVisits  Total Time Spent on Website  Page Views Per Visit  \\\n",
       "0            0                            0                   0.0   \n",
       "1            5                          674                   2.5   \n",
       "2            2                         1532                   2.0   \n",
       "3            1                          305                   1.0   \n",
       "4            2                         1428                   1.0   \n",
       "\n",
       "   A free copy of Mastering The Interview  \\\n",
       "0                                       0   \n",
       "1                                       0   \n",
       "2                                       1   \n",
       "3                                       0   \n",
       "4                                       0   \n",
       "\n",
       "   Lead Origin_Landing Page Submission  Lead Origin_Lead Add Form  \\\n",
       "0                                    0                          0   \n",
       "1                                    0                          0   \n",
       "2                                    1                          0   \n",
       "3                                    1                          0   \n",
       "4                                    1                          0   \n",
       "\n",
       "   Lead Origin_Lead Import  Lead Source_Google  Lead Source_Olark Chat  \\\n",
       "0                        0                   0                       1   \n",
       "1                        0                   0                       0   \n",
       "2                        0                   0                       0   \n",
       "3                        0                   0                       0   \n",
       "4                        0                   1                       0   \n",
       "\n",
       "   Lead Source_Organic Search  ...  \\\n",
       "0                           0  ...   \n",
       "1                           1  ...   \n",
       "2                           0  ...   \n",
       "3                           0  ...   \n",
       "4                           0  ...   \n",
       "\n",
       "   Last Notable Activity_Form Submitted on Website  \\\n",
       "0                                                0   \n",
       "1                                                0   \n",
       "2                                                0   \n",
       "3                                                0   \n",
       "4                                                0   \n",
       "\n",
       "   Last Notable Activity_Had a Phone Conversation  \\\n",
       "0                                               0   \n",
       "1                                               0   \n",
       "2                                               0   \n",
       "3                                               0   \n",
       "4                                               0   \n",
       "\n",
       "   Last Notable Activity_Modified  \\\n",
       "0                               1   \n",
       "1                               0   \n",
       "2                               0   \n",
       "3                               1   \n",
       "4                               1   \n",
       "\n",
       "   Last Notable Activity_Olark Chat Conversation  \\\n",
       "0                                              0   \n",
       "1                                              0   \n",
       "2                                              0   \n",
       "3                                              0   \n",
       "4                                              0   \n",
       "\n",
       "   Last Notable Activity_Page Visited on Website  \\\n",
       "0                                              0   \n",
       "1                                              0   \n",
       "2                                              0   \n",
       "3                                              0   \n",
       "4                                              0   \n",
       "\n",
       "   Last Notable Activity_Resubscribed to emails  \\\n",
       "0                                             0   \n",
       "1                                             0   \n",
       "2                                             0   \n",
       "3                                             0   \n",
       "4                                             0   \n",
       "\n",
       "   Last Notable Activity_SMS Sent  Last Notable Activity_Unreachable  \\\n",
       "0                               0                                  0   \n",
       "1                               0                                  0   \n",
       "2                               0                                  0   \n",
       "3                               0                                  0   \n",
       "4                               0                                  0   \n",
       "\n",
       "   Last Notable Activity_Unsubscribed  \\\n",
       "0                                   0   \n",
       "1                                   0   \n",
       "2                                   0   \n",
       "3                                   0   \n",
       "4                                   0   \n",
       "\n",
       "   Last Notable Activity_View in browser link Clicked  \n",
       "0                                                  0   \n",
       "1                                                  0   \n",
       "2                                                  0   \n",
       "3                                                  0   \n",
       "4                                                  0   \n",
       "\n",
       "[5 rows x 59 columns]"
      ]
     },
     "execution_count": 107,
     "metadata": {},
     "output_type": "execute_result"
    }
   ],
   "source": [
    "# Putting feature variable to X\n",
    "\n",
    "X = leads_file1.drop(['Converted'], 1)\n",
    "\n",
    "X.head()"
   ]
  },
  {
   "cell_type": "code",
   "execution_count": 108,
   "id": "396f162c",
   "metadata": {},
   "outputs": [
    {
     "data": {
      "text/plain": [
       "0    0\n",
       "1    0\n",
       "2    1\n",
       "3    0\n",
       "4    1\n",
       "Name: Converted, dtype: int64"
      ]
     },
     "execution_count": 108,
     "metadata": {},
     "output_type": "execute_result"
    }
   ],
   "source": [
    "# Put the target variable in y\n",
    "\n",
    "y = leads_file1['Converted']\n",
    "y.head()"
   ]
  },
  {
   "cell_type": "code",
   "execution_count": 109,
   "id": "e029c10d",
   "metadata": {},
   "outputs": [],
   "source": [
    "# Split Dataset to 70-30\n",
    "\n",
    "X_train, X_test, y_train, y_test = train_test_split(X, y, train_size=0.7, test_size=0.3, random_state=100)"
   ]
  },
  {
   "cell_type": "markdown",
   "id": "4b524811",
   "metadata": {},
   "source": [
    "### Scaling"
   ]
  },
  {
   "cell_type": "code",
   "execution_count": 110,
   "id": "b001b622",
   "metadata": {},
   "outputs": [
    {
     "data": {
      "text/html": [
       "<div>\n",
       "<style scoped>\n",
       "    .dataframe tbody tr th:only-of-type {\n",
       "        vertical-align: middle;\n",
       "    }\n",
       "\n",
       "    .dataframe tbody tr th {\n",
       "        vertical-align: top;\n",
       "    }\n",
       "\n",
       "    .dataframe thead th {\n",
       "        text-align: right;\n",
       "    }\n",
       "</style>\n",
       "<table border=\"1\" class=\"dataframe\">\n",
       "  <thead>\n",
       "    <tr style=\"text-align: right;\">\n",
       "      <th></th>\n",
       "      <th>TotalVisits</th>\n",
       "      <th>Total Time Spent on Website</th>\n",
       "      <th>Page Views Per Visit</th>\n",
       "      <th>A free copy of Mastering The Interview</th>\n",
       "      <th>Lead Origin_Landing Page Submission</th>\n",
       "      <th>Lead Origin_Lead Add Form</th>\n",
       "      <th>Lead Origin_Lead Import</th>\n",
       "      <th>Lead Source_Google</th>\n",
       "      <th>Lead Source_Olark Chat</th>\n",
       "      <th>Lead Source_Organic Search</th>\n",
       "      <th>...</th>\n",
       "      <th>Last Notable Activity_Form Submitted on Website</th>\n",
       "      <th>Last Notable Activity_Had a Phone Conversation</th>\n",
       "      <th>Last Notable Activity_Modified</th>\n",
       "      <th>Last Notable Activity_Olark Chat Conversation</th>\n",
       "      <th>Last Notable Activity_Page Visited on Website</th>\n",
       "      <th>Last Notable Activity_Resubscribed to emails</th>\n",
       "      <th>Last Notable Activity_SMS Sent</th>\n",
       "      <th>Last Notable Activity_Unreachable</th>\n",
       "      <th>Last Notable Activity_Unsubscribed</th>\n",
       "      <th>Last Notable Activity_View in browser link Clicked</th>\n",
       "    </tr>\n",
       "  </thead>\n",
       "  <tbody>\n",
       "    <tr>\n",
       "      <th>1262</th>\n",
       "      <td>0.2</td>\n",
       "      <td>0.001206</td>\n",
       "      <td>0.333333</td>\n",
       "      <td>1</td>\n",
       "      <td>1</td>\n",
       "      <td>0</td>\n",
       "      <td>0</td>\n",
       "      <td>0</td>\n",
       "      <td>0</td>\n",
       "      <td>0</td>\n",
       "      <td>...</td>\n",
       "      <td>0</td>\n",
       "      <td>0</td>\n",
       "      <td>1</td>\n",
       "      <td>0</td>\n",
       "      <td>0</td>\n",
       "      <td>0</td>\n",
       "      <td>0</td>\n",
       "      <td>0</td>\n",
       "      <td>0</td>\n",
       "      <td>0</td>\n",
       "    </tr>\n",
       "    <tr>\n",
       "      <th>800</th>\n",
       "      <td>0.4</td>\n",
       "      <td>0.007233</td>\n",
       "      <td>0.666667</td>\n",
       "      <td>0</td>\n",
       "      <td>1</td>\n",
       "      <td>0</td>\n",
       "      <td>0</td>\n",
       "      <td>1</td>\n",
       "      <td>0</td>\n",
       "      <td>0</td>\n",
       "      <td>...</td>\n",
       "      <td>0</td>\n",
       "      <td>0</td>\n",
       "      <td>1</td>\n",
       "      <td>0</td>\n",
       "      <td>0</td>\n",
       "      <td>0</td>\n",
       "      <td>0</td>\n",
       "      <td>0</td>\n",
       "      <td>0</td>\n",
       "      <td>0</td>\n",
       "    </tr>\n",
       "    <tr>\n",
       "      <th>221</th>\n",
       "      <td>0.1</td>\n",
       "      <td>0.738999</td>\n",
       "      <td>0.166667</td>\n",
       "      <td>1</td>\n",
       "      <td>1</td>\n",
       "      <td>0</td>\n",
       "      <td>0</td>\n",
       "      <td>0</td>\n",
       "      <td>0</td>\n",
       "      <td>0</td>\n",
       "      <td>...</td>\n",
       "      <td>0</td>\n",
       "      <td>0</td>\n",
       "      <td>1</td>\n",
       "      <td>0</td>\n",
       "      <td>0</td>\n",
       "      <td>0</td>\n",
       "      <td>0</td>\n",
       "      <td>0</td>\n",
       "      <td>0</td>\n",
       "      <td>0</td>\n",
       "    </tr>\n",
       "    <tr>\n",
       "      <th>6454</th>\n",
       "      <td>0.3</td>\n",
       "      <td>0.963834</td>\n",
       "      <td>0.250000</td>\n",
       "      <td>0</td>\n",
       "      <td>0</td>\n",
       "      <td>0</td>\n",
       "      <td>0</td>\n",
       "      <td>0</td>\n",
       "      <td>1</td>\n",
       "      <td>0</td>\n",
       "      <td>...</td>\n",
       "      <td>0</td>\n",
       "      <td>0</td>\n",
       "      <td>1</td>\n",
       "      <td>0</td>\n",
       "      <td>0</td>\n",
       "      <td>0</td>\n",
       "      <td>0</td>\n",
       "      <td>0</td>\n",
       "      <td>0</td>\n",
       "      <td>0</td>\n",
       "    </tr>\n",
       "    <tr>\n",
       "      <th>8200</th>\n",
       "      <td>0.6</td>\n",
       "      <td>0.214587</td>\n",
       "      <td>0.333333</td>\n",
       "      <td>0</td>\n",
       "      <td>0</td>\n",
       "      <td>0</td>\n",
       "      <td>0</td>\n",
       "      <td>0</td>\n",
       "      <td>0</td>\n",
       "      <td>1</td>\n",
       "      <td>...</td>\n",
       "      <td>0</td>\n",
       "      <td>0</td>\n",
       "      <td>0</td>\n",
       "      <td>0</td>\n",
       "      <td>0</td>\n",
       "      <td>0</td>\n",
       "      <td>0</td>\n",
       "      <td>0</td>\n",
       "      <td>0</td>\n",
       "      <td>0</td>\n",
       "    </tr>\n",
       "  </tbody>\n",
       "</table>\n",
       "<p>5 rows × 59 columns</p>\n",
       "</div>"
      ],
      "text/plain": [
       "      TotalVisits  Total Time Spent on Website  Page Views Per Visit  \\\n",
       "1262          0.2                     0.001206              0.333333   \n",
       "800           0.4                     0.007233              0.666667   \n",
       "221           0.1                     0.738999              0.166667   \n",
       "6454          0.3                     0.963834              0.250000   \n",
       "8200          0.6                     0.214587              0.333333   \n",
       "\n",
       "      A free copy of Mastering The Interview  \\\n",
       "1262                                       1   \n",
       "800                                        0   \n",
       "221                                        1   \n",
       "6454                                       0   \n",
       "8200                                       0   \n",
       "\n",
       "      Lead Origin_Landing Page Submission  Lead Origin_Lead Add Form  \\\n",
       "1262                                    1                          0   \n",
       "800                                     1                          0   \n",
       "221                                     1                          0   \n",
       "6454                                    0                          0   \n",
       "8200                                    0                          0   \n",
       "\n",
       "      Lead Origin_Lead Import  Lead Source_Google  Lead Source_Olark Chat  \\\n",
       "1262                        0                   0                       0   \n",
       "800                         0                   1                       0   \n",
       "221                         0                   0                       0   \n",
       "6454                        0                   0                       1   \n",
       "8200                        0                   0                       0   \n",
       "\n",
       "      Lead Source_Organic Search  ...  \\\n",
       "1262                           0  ...   \n",
       "800                            0  ...   \n",
       "221                            0  ...   \n",
       "6454                           0  ...   \n",
       "8200                           1  ...   \n",
       "\n",
       "      Last Notable Activity_Form Submitted on Website  \\\n",
       "1262                                                0   \n",
       "800                                                 0   \n",
       "221                                                 0   \n",
       "6454                                                0   \n",
       "8200                                                0   \n",
       "\n",
       "      Last Notable Activity_Had a Phone Conversation  \\\n",
       "1262                                               0   \n",
       "800                                                0   \n",
       "221                                                0   \n",
       "6454                                               0   \n",
       "8200                                               0   \n",
       "\n",
       "      Last Notable Activity_Modified  \\\n",
       "1262                               1   \n",
       "800                                1   \n",
       "221                                1   \n",
       "6454                               1   \n",
       "8200                               0   \n",
       "\n",
       "      Last Notable Activity_Olark Chat Conversation  \\\n",
       "1262                                              0   \n",
       "800                                               0   \n",
       "221                                               0   \n",
       "6454                                              0   \n",
       "8200                                              0   \n",
       "\n",
       "      Last Notable Activity_Page Visited on Website  \\\n",
       "1262                                              0   \n",
       "800                                               0   \n",
       "221                                               0   \n",
       "6454                                              0   \n",
       "8200                                              0   \n",
       "\n",
       "      Last Notable Activity_Resubscribed to emails  \\\n",
       "1262                                             0   \n",
       "800                                              0   \n",
       "221                                              0   \n",
       "6454                                             0   \n",
       "8200                                             0   \n",
       "\n",
       "      Last Notable Activity_SMS Sent  Last Notable Activity_Unreachable  \\\n",
       "1262                               0                                  0   \n",
       "800                                0                                  0   \n",
       "221                                0                                  0   \n",
       "6454                               0                                  0   \n",
       "8200                               0                                  0   \n",
       "\n",
       "      Last Notable Activity_Unsubscribed  \\\n",
       "1262                                   0   \n",
       "800                                    0   \n",
       "221                                    0   \n",
       "6454                                   0   \n",
       "8200                                   0   \n",
       "\n",
       "      Last Notable Activity_View in browser link Clicked  \n",
       "1262                                                  0   \n",
       "800                                                   0   \n",
       "221                                                   0   \n",
       "6454                                                  0   \n",
       "8200                                                  0   \n",
       "\n",
       "[5 rows x 59 columns]"
      ]
     },
     "execution_count": 110,
     "metadata": {},
     "output_type": "execute_result"
    }
   ],
   "source": [
    "# Import Library  and scaling\n",
    "\n",
    "from sklearn.preprocessing import MinMaxScaler\n",
    "\n",
    "scaler = MinMaxScaler()\n",
    "\n",
    "X_train[['TotalVisits', 'Page Views Per Visit', 'Total Time Spent on Website']] = scaler.fit_transform(X_train[['TotalVisits', 'Page Views Per Visit', 'Total Time Spent on Website']])\n",
    "\n",
    "X_train.head()"
   ]
  },
  {
   "cell_type": "markdown",
   "id": "70ee4b91",
   "metadata": {},
   "source": [
    "### Model Building"
   ]
  },
  {
   "cell_type": "code",
   "execution_count": 111,
   "id": "ff1b1156",
   "metadata": {},
   "outputs": [],
   "source": [
    "# Import Lib  'LogisticRegression'\n",
    "\n",
    "from sklearn.linear_model import LogisticRegression\n",
    "logreg = LogisticRegression()"
   ]
  },
  {
   "cell_type": "code",
   "execution_count": 112,
   "id": "69dbf1bd",
   "metadata": {},
   "outputs": [],
   "source": [
    "# Import RFE and Use 12 \n",
    "\n",
    "from sklearn.feature_selection import RFE\n",
    "rfe = RFE(logreg, 12)     \n",
    "rfe = rfe.fit(X_train, y_train)\n"
   ]
  },
  {
   "cell_type": "code",
   "execution_count": 113,
   "id": "1e84a44f",
   "metadata": {},
   "outputs": [
    {
     "data": {
      "text/plain": [
       "[('TotalVisits', False, 7),\n",
       " ('Total Time Spent on Website', True, 1),\n",
       " ('Page Views Per Visit', True, 1),\n",
       " ('A free copy of Mastering The Interview', False, 40),\n",
       " ('Lead Origin_Landing Page Submission', False, 21),\n",
       " ('Lead Origin_Lead Add Form', True, 1),\n",
       " ('Lead Origin_Lead Import', False, 18),\n",
       " ('Lead Source_Google', False, 26),\n",
       " ('Lead Source_Olark Chat', False, 5),\n",
       " ('Lead Source_Organic Search', False, 28),\n",
       " ('Lead Source_Others', False, 31),\n",
       " ('Lead Source_Reference', False, 4),\n",
       " ('Lead Source_Referral Sites', False, 39),\n",
       " ('Lead Source_Welingak Website', True, 1),\n",
       " ('Last Activity_Email Bounced', True, 1),\n",
       " ('Last Activity_Email Link Clicked', False, 9),\n",
       " ('Last Activity_Email Opened', True, 1),\n",
       " ('Last Activity_Olark Chat Conversation', False, 20),\n",
       " ('Last Activity_Others', False, 13),\n",
       " ('Last Activity_Page Visited on Website', False, 30),\n",
       " ('Last Activity_SMS Sent', True, 1),\n",
       " ('Specialization_Business Administration', False, 37),\n",
       " ('Specialization_E-COMMERCE', False, 35),\n",
       " ('Specialization_Finance Management', False, 36),\n",
       " ('Specialization_Healthcare Management', False, 29),\n",
       " ('Specialization_Hospitality Management', False, 22),\n",
       " ('Specialization_Human Resource Management', False, 32),\n",
       " ('Specialization_IT Projects Management', False, 25),\n",
       " ('Specialization_International Business', False, 24),\n",
       " ('Specialization_Marketing Management', False, 33),\n",
       " ('Specialization_Media and Advertising', False, 11),\n",
       " ('Specialization_Operations Management', False, 46),\n",
       " ('Specialization_Others', False, 43),\n",
       " ('Specialization_Retail Management', False, 16),\n",
       " ('Specialization_Supply Chain Management', False, 45),\n",
       " ('Specialization_Travel and Tourism', False, 17),\n",
       " ('What is your current occupation_Unemployed', True, 1),\n",
       " ('What is your current occupation_Working Professional', True, 1),\n",
       " ('Tags_Interested in other courses', False, 19),\n",
       " ('Tags_Others', True, 1),\n",
       " ('Tags_Ringing', True, 1),\n",
       " ('Tags_Will revert after reading the email', True, 1),\n",
       " ('City_Others', False, 38),\n",
       " ('City_Thane & Outskirts', False, 42),\n",
       " ('Last Notable Activity_Email Bounced', False, 14),\n",
       " ('Last Notable Activity_Email Link Clicked', False, 8),\n",
       " ('Last Notable Activity_Email Marked Spam', False, 47),\n",
       " ('Last Notable Activity_Email Opened', False, 2),\n",
       " ('Last Notable Activity_Email Received', False, 44),\n",
       " ('Last Notable Activity_Form Submitted on Website', False, 48),\n",
       " ('Last Notable Activity_Had a Phone Conversation', False, 34),\n",
       " ('Last Notable Activity_Modified', False, 3),\n",
       " ('Last Notable Activity_Olark Chat Conversation', False, 6),\n",
       " ('Last Notable Activity_Page Visited on Website', False, 27),\n",
       " ('Last Notable Activity_Resubscribed to emails', False, 10),\n",
       " ('Last Notable Activity_SMS Sent', False, 15),\n",
       " ('Last Notable Activity_Unreachable', False, 23),\n",
       " ('Last Notable Activity_Unsubscribed', False, 12),\n",
       " ('Last Notable Activity_View in browser link Clicked', False, 41)]"
      ]
     },
     "execution_count": 113,
     "metadata": {},
     "output_type": "execute_result"
    }
   ],
   "source": [
    "list(zip(X_train.columns, rfe.support_, rfe.ranking_))"
   ]
  },
  {
   "cell_type": "code",
   "execution_count": 114,
   "id": "4cd91258",
   "metadata": {},
   "outputs": [
    {
     "data": {
      "text/html": [
       "<div>\n",
       "<style scoped>\n",
       "    .dataframe tbody tr th:only-of-type {\n",
       "        vertical-align: middle;\n",
       "    }\n",
       "\n",
       "    .dataframe tbody tr th {\n",
       "        vertical-align: top;\n",
       "    }\n",
       "\n",
       "    .dataframe thead th {\n",
       "        text-align: right;\n",
       "    }\n",
       "</style>\n",
       "<table border=\"1\" class=\"dataframe\">\n",
       "  <thead>\n",
       "    <tr style=\"text-align: right;\">\n",
       "      <th></th>\n",
       "      <th>Total Time Spent on Website</th>\n",
       "      <th>Page Views Per Visit</th>\n",
       "      <th>Lead Origin_Lead Add Form</th>\n",
       "      <th>Lead Source_Welingak Website</th>\n",
       "      <th>Last Activity_Email Bounced</th>\n",
       "      <th>Last Activity_Email Opened</th>\n",
       "      <th>Last Activity_SMS Sent</th>\n",
       "      <th>What is your current occupation_Unemployed</th>\n",
       "      <th>What is your current occupation_Working Professional</th>\n",
       "      <th>Tags_Others</th>\n",
       "      <th>Tags_Ringing</th>\n",
       "      <th>Tags_Will revert after reading the email</th>\n",
       "    </tr>\n",
       "  </thead>\n",
       "  <tbody>\n",
       "    <tr>\n",
       "      <th>1262</th>\n",
       "      <td>0.001206</td>\n",
       "      <td>0.333333</td>\n",
       "      <td>0</td>\n",
       "      <td>0</td>\n",
       "      <td>0</td>\n",
       "      <td>0</td>\n",
       "      <td>1</td>\n",
       "      <td>1</td>\n",
       "      <td>0</td>\n",
       "      <td>1</td>\n",
       "      <td>0</td>\n",
       "      <td>0</td>\n",
       "    </tr>\n",
       "    <tr>\n",
       "      <th>800</th>\n",
       "      <td>0.007233</td>\n",
       "      <td>0.666667</td>\n",
       "      <td>0</td>\n",
       "      <td>0</td>\n",
       "      <td>0</td>\n",
       "      <td>0</td>\n",
       "      <td>0</td>\n",
       "      <td>0</td>\n",
       "      <td>0</td>\n",
       "      <td>1</td>\n",
       "      <td>0</td>\n",
       "      <td>0</td>\n",
       "    </tr>\n",
       "    <tr>\n",
       "      <th>221</th>\n",
       "      <td>0.738999</td>\n",
       "      <td>0.166667</td>\n",
       "      <td>0</td>\n",
       "      <td>0</td>\n",
       "      <td>0</td>\n",
       "      <td>0</td>\n",
       "      <td>0</td>\n",
       "      <td>1</td>\n",
       "      <td>0</td>\n",
       "      <td>1</td>\n",
       "      <td>0</td>\n",
       "      <td>0</td>\n",
       "    </tr>\n",
       "    <tr>\n",
       "      <th>6454</th>\n",
       "      <td>0.963834</td>\n",
       "      <td>0.250000</td>\n",
       "      <td>0</td>\n",
       "      <td>0</td>\n",
       "      <td>0</td>\n",
       "      <td>0</td>\n",
       "      <td>0</td>\n",
       "      <td>1</td>\n",
       "      <td>0</td>\n",
       "      <td>0</td>\n",
       "      <td>1</td>\n",
       "      <td>0</td>\n",
       "    </tr>\n",
       "    <tr>\n",
       "      <th>8200</th>\n",
       "      <td>0.214587</td>\n",
       "      <td>0.333333</td>\n",
       "      <td>0</td>\n",
       "      <td>0</td>\n",
       "      <td>0</td>\n",
       "      <td>1</td>\n",
       "      <td>0</td>\n",
       "      <td>0</td>\n",
       "      <td>0</td>\n",
       "      <td>1</td>\n",
       "      <td>0</td>\n",
       "      <td>0</td>\n",
       "    </tr>\n",
       "    <tr>\n",
       "      <th>...</th>\n",
       "      <td>...</td>\n",
       "      <td>...</td>\n",
       "      <td>...</td>\n",
       "      <td>...</td>\n",
       "      <td>...</td>\n",
       "      <td>...</td>\n",
       "      <td>...</td>\n",
       "      <td>...</td>\n",
       "      <td>...</td>\n",
       "      <td>...</td>\n",
       "      <td>...</td>\n",
       "      <td>...</td>\n",
       "    </tr>\n",
       "    <tr>\n",
       "      <th>350</th>\n",
       "      <td>0.000000</td>\n",
       "      <td>0.000000</td>\n",
       "      <td>0</td>\n",
       "      <td>0</td>\n",
       "      <td>0</td>\n",
       "      <td>0</td>\n",
       "      <td>0</td>\n",
       "      <td>0</td>\n",
       "      <td>0</td>\n",
       "      <td>1</td>\n",
       "      <td>0</td>\n",
       "      <td>0</td>\n",
       "    </tr>\n",
       "    <tr>\n",
       "      <th>79</th>\n",
       "      <td>0.606992</td>\n",
       "      <td>0.333333</td>\n",
       "      <td>1</td>\n",
       "      <td>0</td>\n",
       "      <td>0</td>\n",
       "      <td>0</td>\n",
       "      <td>0</td>\n",
       "      <td>1</td>\n",
       "      <td>0</td>\n",
       "      <td>1</td>\n",
       "      <td>0</td>\n",
       "      <td>0</td>\n",
       "    </tr>\n",
       "    <tr>\n",
       "      <th>8039</th>\n",
       "      <td>0.807715</td>\n",
       "      <td>0.333333</td>\n",
       "      <td>0</td>\n",
       "      <td>0</td>\n",
       "      <td>0</td>\n",
       "      <td>0</td>\n",
       "      <td>0</td>\n",
       "      <td>1</td>\n",
       "      <td>0</td>\n",
       "      <td>0</td>\n",
       "      <td>0</td>\n",
       "      <td>0</td>\n",
       "    </tr>\n",
       "    <tr>\n",
       "      <th>6936</th>\n",
       "      <td>0.000000</td>\n",
       "      <td>0.000000</td>\n",
       "      <td>0</td>\n",
       "      <td>0</td>\n",
       "      <td>0</td>\n",
       "      <td>0</td>\n",
       "      <td>0</td>\n",
       "      <td>0</td>\n",
       "      <td>0</td>\n",
       "      <td>1</td>\n",
       "      <td>0</td>\n",
       "      <td>0</td>\n",
       "    </tr>\n",
       "    <tr>\n",
       "      <th>5640</th>\n",
       "      <td>0.134418</td>\n",
       "      <td>0.416667</td>\n",
       "      <td>0</td>\n",
       "      <td>0</td>\n",
       "      <td>0</td>\n",
       "      <td>1</td>\n",
       "      <td>0</td>\n",
       "      <td>0</td>\n",
       "      <td>0</td>\n",
       "      <td>1</td>\n",
       "      <td>0</td>\n",
       "      <td>0</td>\n",
       "    </tr>\n",
       "  </tbody>\n",
       "</table>\n",
       "<p>5853 rows × 12 columns</p>\n",
       "</div>"
      ],
      "text/plain": [
       "      Total Time Spent on Website  Page Views Per Visit  \\\n",
       "1262                     0.001206              0.333333   \n",
       "800                      0.007233              0.666667   \n",
       "221                      0.738999              0.166667   \n",
       "6454                     0.963834              0.250000   \n",
       "8200                     0.214587              0.333333   \n",
       "...                           ...                   ...   \n",
       "350                      0.000000              0.000000   \n",
       "79                       0.606992              0.333333   \n",
       "8039                     0.807715              0.333333   \n",
       "6936                     0.000000              0.000000   \n",
       "5640                     0.134418              0.416667   \n",
       "\n",
       "      Lead Origin_Lead Add Form  Lead Source_Welingak Website  \\\n",
       "1262                          0                             0   \n",
       "800                           0                             0   \n",
       "221                           0                             0   \n",
       "6454                          0                             0   \n",
       "8200                          0                             0   \n",
       "...                         ...                           ...   \n",
       "350                           0                             0   \n",
       "79                            1                             0   \n",
       "8039                          0                             0   \n",
       "6936                          0                             0   \n",
       "5640                          0                             0   \n",
       "\n",
       "      Last Activity_Email Bounced  Last Activity_Email Opened  \\\n",
       "1262                            0                           0   \n",
       "800                             0                           0   \n",
       "221                             0                           0   \n",
       "6454                            0                           0   \n",
       "8200                            0                           1   \n",
       "...                           ...                         ...   \n",
       "350                             0                           0   \n",
       "79                              0                           0   \n",
       "8039                            0                           0   \n",
       "6936                            0                           0   \n",
       "5640                            0                           1   \n",
       "\n",
       "      Last Activity_SMS Sent  What is your current occupation_Unemployed  \\\n",
       "1262                       1                                           1   \n",
       "800                        0                                           0   \n",
       "221                        0                                           1   \n",
       "6454                       0                                           1   \n",
       "8200                       0                                           0   \n",
       "...                      ...                                         ...   \n",
       "350                        0                                           0   \n",
       "79                         0                                           1   \n",
       "8039                       0                                           1   \n",
       "6936                       0                                           0   \n",
       "5640                       0                                           0   \n",
       "\n",
       "      What is your current occupation_Working Professional  Tags_Others  \\\n",
       "1262                                                  0               1   \n",
       "800                                                   0               1   \n",
       "221                                                   0               1   \n",
       "6454                                                  0               0   \n",
       "8200                                                  0               1   \n",
       "...                                                 ...             ...   \n",
       "350                                                   0               1   \n",
       "79                                                    0               1   \n",
       "8039                                                  0               0   \n",
       "6936                                                  0               1   \n",
       "5640                                                  0               1   \n",
       "\n",
       "      Tags_Ringing  Tags_Will revert after reading the email  \n",
       "1262             0                                         0  \n",
       "800              0                                         0  \n",
       "221              0                                         0  \n",
       "6454             1                                         0  \n",
       "8200             0                                         0  \n",
       "...            ...                                       ...  \n",
       "350              0                                         0  \n",
       "79               0                                         0  \n",
       "8039             0                                         0  \n",
       "6936             0                                         0  \n",
       "5640             0                                         0  \n",
       "\n",
       "[5853 rows x 12 columns]"
      ]
     },
     "execution_count": 114,
     "metadata": {},
     "output_type": "execute_result"
    }
   ],
   "source": [
    "X_train_12_col = X_train.columns[rfe.support_]\n",
    "X_train_12 = X_train[X_train_12_col]\n",
    "X_train_12"
   ]
  },
  {
   "cell_type": "code",
   "execution_count": 115,
   "id": "fb41e205",
   "metadata": {},
   "outputs": [
    {
     "data": {
      "text/html": [
       "<div>\n",
       "<style scoped>\n",
       "    .dataframe tbody tr th:only-of-type {\n",
       "        vertical-align: middle;\n",
       "    }\n",
       "\n",
       "    .dataframe tbody tr th {\n",
       "        vertical-align: top;\n",
       "    }\n",
       "\n",
       "    .dataframe thead th {\n",
       "        text-align: right;\n",
       "    }\n",
       "</style>\n",
       "<table border=\"1\" class=\"dataframe\">\n",
       "  <thead>\n",
       "    <tr style=\"text-align: right;\">\n",
       "      <th></th>\n",
       "      <th>const</th>\n",
       "      <th>Total Time Spent on Website</th>\n",
       "      <th>Page Views Per Visit</th>\n",
       "      <th>Lead Origin_Lead Add Form</th>\n",
       "      <th>Lead Source_Welingak Website</th>\n",
       "      <th>Last Activity_Email Bounced</th>\n",
       "      <th>Last Activity_Email Opened</th>\n",
       "      <th>Last Activity_SMS Sent</th>\n",
       "      <th>What is your current occupation_Unemployed</th>\n",
       "      <th>What is your current occupation_Working Professional</th>\n",
       "      <th>Tags_Others</th>\n",
       "      <th>Tags_Ringing</th>\n",
       "      <th>Tags_Will revert after reading the email</th>\n",
       "    </tr>\n",
       "  </thead>\n",
       "  <tbody>\n",
       "    <tr>\n",
       "      <th>1262</th>\n",
       "      <td>1.0</td>\n",
       "      <td>0.001206</td>\n",
       "      <td>0.333333</td>\n",
       "      <td>0</td>\n",
       "      <td>0</td>\n",
       "      <td>0</td>\n",
       "      <td>0</td>\n",
       "      <td>1</td>\n",
       "      <td>1</td>\n",
       "      <td>0</td>\n",
       "      <td>1</td>\n",
       "      <td>0</td>\n",
       "      <td>0</td>\n",
       "    </tr>\n",
       "    <tr>\n",
       "      <th>800</th>\n",
       "      <td>1.0</td>\n",
       "      <td>0.007233</td>\n",
       "      <td>0.666667</td>\n",
       "      <td>0</td>\n",
       "      <td>0</td>\n",
       "      <td>0</td>\n",
       "      <td>0</td>\n",
       "      <td>0</td>\n",
       "      <td>0</td>\n",
       "      <td>0</td>\n",
       "      <td>1</td>\n",
       "      <td>0</td>\n",
       "      <td>0</td>\n",
       "    </tr>\n",
       "    <tr>\n",
       "      <th>221</th>\n",
       "      <td>1.0</td>\n",
       "      <td>0.738999</td>\n",
       "      <td>0.166667</td>\n",
       "      <td>0</td>\n",
       "      <td>0</td>\n",
       "      <td>0</td>\n",
       "      <td>0</td>\n",
       "      <td>0</td>\n",
       "      <td>1</td>\n",
       "      <td>0</td>\n",
       "      <td>1</td>\n",
       "      <td>0</td>\n",
       "      <td>0</td>\n",
       "    </tr>\n",
       "    <tr>\n",
       "      <th>6454</th>\n",
       "      <td>1.0</td>\n",
       "      <td>0.963834</td>\n",
       "      <td>0.250000</td>\n",
       "      <td>0</td>\n",
       "      <td>0</td>\n",
       "      <td>0</td>\n",
       "      <td>0</td>\n",
       "      <td>0</td>\n",
       "      <td>1</td>\n",
       "      <td>0</td>\n",
       "      <td>0</td>\n",
       "      <td>1</td>\n",
       "      <td>0</td>\n",
       "    </tr>\n",
       "    <tr>\n",
       "      <th>8200</th>\n",
       "      <td>1.0</td>\n",
       "      <td>0.214587</td>\n",
       "      <td>0.333333</td>\n",
       "      <td>0</td>\n",
       "      <td>0</td>\n",
       "      <td>0</td>\n",
       "      <td>1</td>\n",
       "      <td>0</td>\n",
       "      <td>0</td>\n",
       "      <td>0</td>\n",
       "      <td>1</td>\n",
       "      <td>0</td>\n",
       "      <td>0</td>\n",
       "    </tr>\n",
       "    <tr>\n",
       "      <th>...</th>\n",
       "      <td>...</td>\n",
       "      <td>...</td>\n",
       "      <td>...</td>\n",
       "      <td>...</td>\n",
       "      <td>...</td>\n",
       "      <td>...</td>\n",
       "      <td>...</td>\n",
       "      <td>...</td>\n",
       "      <td>...</td>\n",
       "      <td>...</td>\n",
       "      <td>...</td>\n",
       "      <td>...</td>\n",
       "      <td>...</td>\n",
       "    </tr>\n",
       "    <tr>\n",
       "      <th>350</th>\n",
       "      <td>1.0</td>\n",
       "      <td>0.000000</td>\n",
       "      <td>0.000000</td>\n",
       "      <td>0</td>\n",
       "      <td>0</td>\n",
       "      <td>0</td>\n",
       "      <td>0</td>\n",
       "      <td>0</td>\n",
       "      <td>0</td>\n",
       "      <td>0</td>\n",
       "      <td>1</td>\n",
       "      <td>0</td>\n",
       "      <td>0</td>\n",
       "    </tr>\n",
       "    <tr>\n",
       "      <th>79</th>\n",
       "      <td>1.0</td>\n",
       "      <td>0.606992</td>\n",
       "      <td>0.333333</td>\n",
       "      <td>1</td>\n",
       "      <td>0</td>\n",
       "      <td>0</td>\n",
       "      <td>0</td>\n",
       "      <td>0</td>\n",
       "      <td>1</td>\n",
       "      <td>0</td>\n",
       "      <td>1</td>\n",
       "      <td>0</td>\n",
       "      <td>0</td>\n",
       "    </tr>\n",
       "    <tr>\n",
       "      <th>8039</th>\n",
       "      <td>1.0</td>\n",
       "      <td>0.807715</td>\n",
       "      <td>0.333333</td>\n",
       "      <td>0</td>\n",
       "      <td>0</td>\n",
       "      <td>0</td>\n",
       "      <td>0</td>\n",
       "      <td>0</td>\n",
       "      <td>1</td>\n",
       "      <td>0</td>\n",
       "      <td>0</td>\n",
       "      <td>0</td>\n",
       "      <td>0</td>\n",
       "    </tr>\n",
       "    <tr>\n",
       "      <th>6936</th>\n",
       "      <td>1.0</td>\n",
       "      <td>0.000000</td>\n",
       "      <td>0.000000</td>\n",
       "      <td>0</td>\n",
       "      <td>0</td>\n",
       "      <td>0</td>\n",
       "      <td>0</td>\n",
       "      <td>0</td>\n",
       "      <td>0</td>\n",
       "      <td>0</td>\n",
       "      <td>1</td>\n",
       "      <td>0</td>\n",
       "      <td>0</td>\n",
       "    </tr>\n",
       "    <tr>\n",
       "      <th>5640</th>\n",
       "      <td>1.0</td>\n",
       "      <td>0.134418</td>\n",
       "      <td>0.416667</td>\n",
       "      <td>0</td>\n",
       "      <td>0</td>\n",
       "      <td>0</td>\n",
       "      <td>1</td>\n",
       "      <td>0</td>\n",
       "      <td>0</td>\n",
       "      <td>0</td>\n",
       "      <td>1</td>\n",
       "      <td>0</td>\n",
       "      <td>0</td>\n",
       "    </tr>\n",
       "  </tbody>\n",
       "</table>\n",
       "<p>5853 rows × 13 columns</p>\n",
       "</div>"
      ],
      "text/plain": [
       "      const  Total Time Spent on Website  Page Views Per Visit  \\\n",
       "1262    1.0                     0.001206              0.333333   \n",
       "800     1.0                     0.007233              0.666667   \n",
       "221     1.0                     0.738999              0.166667   \n",
       "6454    1.0                     0.963834              0.250000   \n",
       "8200    1.0                     0.214587              0.333333   \n",
       "...     ...                          ...                   ...   \n",
       "350     1.0                     0.000000              0.000000   \n",
       "79      1.0                     0.606992              0.333333   \n",
       "8039    1.0                     0.807715              0.333333   \n",
       "6936    1.0                     0.000000              0.000000   \n",
       "5640    1.0                     0.134418              0.416667   \n",
       "\n",
       "      Lead Origin_Lead Add Form  Lead Source_Welingak Website  \\\n",
       "1262                          0                             0   \n",
       "800                           0                             0   \n",
       "221                           0                             0   \n",
       "6454                          0                             0   \n",
       "8200                          0                             0   \n",
       "...                         ...                           ...   \n",
       "350                           0                             0   \n",
       "79                            1                             0   \n",
       "8039                          0                             0   \n",
       "6936                          0                             0   \n",
       "5640                          0                             0   \n",
       "\n",
       "      Last Activity_Email Bounced  Last Activity_Email Opened  \\\n",
       "1262                            0                           0   \n",
       "800                             0                           0   \n",
       "221                             0                           0   \n",
       "6454                            0                           0   \n",
       "8200                            0                           1   \n",
       "...                           ...                         ...   \n",
       "350                             0                           0   \n",
       "79                              0                           0   \n",
       "8039                            0                           0   \n",
       "6936                            0                           0   \n",
       "5640                            0                           1   \n",
       "\n",
       "      Last Activity_SMS Sent  What is your current occupation_Unemployed  \\\n",
       "1262                       1                                           1   \n",
       "800                        0                                           0   \n",
       "221                        0                                           1   \n",
       "6454                       0                                           1   \n",
       "8200                       0                                           0   \n",
       "...                      ...                                         ...   \n",
       "350                        0                                           0   \n",
       "79                         0                                           1   \n",
       "8039                       0                                           1   \n",
       "6936                       0                                           0   \n",
       "5640                       0                                           0   \n",
       "\n",
       "      What is your current occupation_Working Professional  Tags_Others  \\\n",
       "1262                                                  0               1   \n",
       "800                                                   0               1   \n",
       "221                                                   0               1   \n",
       "6454                                                  0               0   \n",
       "8200                                                  0               1   \n",
       "...                                                 ...             ...   \n",
       "350                                                   0               1   \n",
       "79                                                    0               1   \n",
       "8039                                                  0               0   \n",
       "6936                                                  0               1   \n",
       "5640                                                  0               1   \n",
       "\n",
       "      Tags_Ringing  Tags_Will revert after reading the email  \n",
       "1262             0                                         0  \n",
       "800              0                                         0  \n",
       "221              0                                         0  \n",
       "6454             1                                         0  \n",
       "8200             0                                         0  \n",
       "...            ...                                       ...  \n",
       "350              0                                         0  \n",
       "79               0                                         0  \n",
       "8039             0                                         0  \n",
       "6936             0                                         0  \n",
       "5640             0                                         0  \n",
       "\n",
       "[5853 rows x 13 columns]"
      ]
     },
     "execution_count": 115,
     "metadata": {},
     "output_type": "execute_result"
    }
   ],
   "source": [
    "# Adding a constant Variable\n",
    "\n",
    "X_train_s = sm.add_constant(X_train_12)\n",
    "X_train_s"
   ]
  },
  {
   "cell_type": "code",
   "execution_count": 116,
   "id": "bb1aa7b7",
   "metadata": {},
   "outputs": [
    {
     "data": {
      "text/html": [
       "<table class=\"simpletable\">\n",
       "<caption>Generalized Linear Model Regression Results</caption>\n",
       "<tr>\n",
       "  <th>Dep. Variable:</th>       <td>Converted</td>    <th>  No. Observations:  </th>  <td>  5853</td> \n",
       "</tr>\n",
       "<tr>\n",
       "  <th>Model:</th>                  <td>GLM</td>       <th>  Df Residuals:      </th>  <td>  5840</td> \n",
       "</tr>\n",
       "<tr>\n",
       "  <th>Model Family:</th>        <td>Binomial</td>     <th>  Df Model:          </th>  <td>    12</td> \n",
       "</tr>\n",
       "<tr>\n",
       "  <th>Link Function:</th>         <td>logit</td>      <th>  Scale:             </th> <td>  1.0000</td>\n",
       "</tr>\n",
       "<tr>\n",
       "  <th>Method:</th>                <td>IRLS</td>       <th>  Log-Likelihood:    </th> <td> -1489.7</td>\n",
       "</tr>\n",
       "<tr>\n",
       "  <th>Date:</th>            <td>Tue, 09 Aug 2022</td> <th>  Deviance:          </th> <td>  2979.4</td>\n",
       "</tr>\n",
       "<tr>\n",
       "  <th>Time:</th>                <td>14:23:17</td>     <th>  Pearson chi2:      </th> <td>7.48e+03</td>\n",
       "</tr>\n",
       "<tr>\n",
       "  <th>No. Iterations:</th>          <td>7</td>        <th>                     </th>     <td> </td>   \n",
       "</tr>\n",
       "<tr>\n",
       "  <th>Covariance Type:</th>     <td>nonrobust</td>    <th>                     </th>     <td> </td>   \n",
       "</tr>\n",
       "</table>\n",
       "<table class=\"simpletable\">\n",
       "<tr>\n",
       "                            <td></td>                              <th>coef</th>     <th>std err</th>      <th>z</th>      <th>P>|z|</th>  <th>[0.025</th>    <th>0.975]</th>  \n",
       "</tr>\n",
       "<tr>\n",
       "  <th>const</th>                                                <td>   -6.4084</td> <td>    0.339</td> <td>  -18.888</td> <td> 0.000</td> <td>   -7.073</td> <td>   -5.743</td>\n",
       "</tr>\n",
       "<tr>\n",
       "  <th>Total Time Spent on Website</th>                          <td>    3.4705</td> <td>    0.171</td> <td>   20.321</td> <td> 0.000</td> <td>    3.136</td> <td>    3.805</td>\n",
       "</tr>\n",
       "<tr>\n",
       "  <th>Page Views Per Visit</th>                                 <td>   -2.2135</td> <td>    0.213</td> <td>  -10.394</td> <td> 0.000</td> <td>   -2.631</td> <td>   -1.796</td>\n",
       "</tr>\n",
       "<tr>\n",
       "  <th>Lead Origin_Lead Add Form</th>                            <td>    2.3522</td> <td>    0.252</td> <td>    9.333</td> <td> 0.000</td> <td>    1.858</td> <td>    2.846</td>\n",
       "</tr>\n",
       "<tr>\n",
       "  <th>Lead Source_Welingak Website</th>                         <td>    2.3599</td> <td>    1.051</td> <td>    2.244</td> <td> 0.025</td> <td>    0.299</td> <td>    4.421</td>\n",
       "</tr>\n",
       "<tr>\n",
       "  <th>Last Activity_Email Bounced</th>                          <td>   -1.5019</td> <td>    0.397</td> <td>   -3.779</td> <td> 0.000</td> <td>   -2.281</td> <td>   -0.723</td>\n",
       "</tr>\n",
       "<tr>\n",
       "  <th>Last Activity_Email Opened</th>                           <td>    0.9682</td> <td>    0.122</td> <td>    7.909</td> <td> 0.000</td> <td>    0.728</td> <td>    1.208</td>\n",
       "</tr>\n",
       "<tr>\n",
       "  <th>Last Activity_SMS Sent</th>                               <td>    2.0963</td> <td>    0.131</td> <td>   15.998</td> <td> 0.000</td> <td>    1.839</td> <td>    2.353</td>\n",
       "</tr>\n",
       "<tr>\n",
       "  <th>What is your current occupation_Unemployed</th>           <td>    1.4375</td> <td>    0.104</td> <td>   13.816</td> <td> 0.000</td> <td>    1.234</td> <td>    1.641</td>\n",
       "</tr>\n",
       "<tr>\n",
       "  <th>What is your current occupation_Working Professional</th> <td>    2.3262</td> <td>    0.280</td> <td>    8.303</td> <td> 0.000</td> <td>    1.777</td> <td>    2.875</td>\n",
       "</tr>\n",
       "<tr>\n",
       "  <th>Tags_Others</th>                                          <td>    3.3331</td> <td>    0.311</td> <td>   10.726</td> <td> 0.000</td> <td>    2.724</td> <td>    3.942</td>\n",
       "</tr>\n",
       "<tr>\n",
       "  <th>Tags_Ringing</th>                                         <td>   -0.4731</td> <td>    0.386</td> <td>   -1.225</td> <td> 0.221</td> <td>   -1.230</td> <td>    0.284</td>\n",
       "</tr>\n",
       "<tr>\n",
       "  <th>Tags_Will revert after reading the email</th>             <td>    6.7543</td> <td>    0.348</td> <td>   19.400</td> <td> 0.000</td> <td>    6.072</td> <td>    7.437</td>\n",
       "</tr>\n",
       "</table>"
      ],
      "text/plain": [
       "<class 'statsmodels.iolib.summary.Summary'>\n",
       "\"\"\"\n",
       "                 Generalized Linear Model Regression Results                  \n",
       "==============================================================================\n",
       "Dep. Variable:              Converted   No. Observations:                 5853\n",
       "Model:                            GLM   Df Residuals:                     5840\n",
       "Model Family:                Binomial   Df Model:                           12\n",
       "Link Function:                  logit   Scale:                          1.0000\n",
       "Method:                          IRLS   Log-Likelihood:                -1489.7\n",
       "Date:                Tue, 09 Aug 2022   Deviance:                       2979.4\n",
       "Time:                        14:23:17   Pearson chi2:                 7.48e+03\n",
       "No. Iterations:                     7                                         \n",
       "Covariance Type:            nonrobust                                         \n",
       "========================================================================================================================\n",
       "                                                           coef    std err          z      P>|z|      [0.025      0.975]\n",
       "------------------------------------------------------------------------------------------------------------------------\n",
       "const                                                   -6.4084      0.339    -18.888      0.000      -7.073      -5.743\n",
       "Total Time Spent on Website                              3.4705      0.171     20.321      0.000       3.136       3.805\n",
       "Page Views Per Visit                                    -2.2135      0.213    -10.394      0.000      -2.631      -1.796\n",
       "Lead Origin_Lead Add Form                                2.3522      0.252      9.333      0.000       1.858       2.846\n",
       "Lead Source_Welingak Website                             2.3599      1.051      2.244      0.025       0.299       4.421\n",
       "Last Activity_Email Bounced                             -1.5019      0.397     -3.779      0.000      -2.281      -0.723\n",
       "Last Activity_Email Opened                               0.9682      0.122      7.909      0.000       0.728       1.208\n",
       "Last Activity_SMS Sent                                   2.0963      0.131     15.998      0.000       1.839       2.353\n",
       "What is your current occupation_Unemployed               1.4375      0.104     13.816      0.000       1.234       1.641\n",
       "What is your current occupation_Working Professional     2.3262      0.280      8.303      0.000       1.777       2.875\n",
       "Tags_Others                                              3.3331      0.311     10.726      0.000       2.724       3.942\n",
       "Tags_Ringing                                            -0.4731      0.386     -1.225      0.221      -1.230       0.284\n",
       "Tags_Will revert after reading the email                 6.7543      0.348     19.400      0.000       6.072       7.437\n",
       "========================================================================================================================\n",
       "\"\"\""
      ]
     },
     "execution_count": 116,
     "metadata": {},
     "output_type": "execute_result"
    }
   ],
   "source": [
    "#Logististic reg . Create a first fitted model\n",
    "\n",
    "logm = sm.GLM(y_train, X_train_s, family = sm.families.Binomial())\n",
    "res = logm.fit()\n",
    "res.summary()"
   ]
  },
  {
   "cell_type": "code",
   "execution_count": 117,
   "id": "c878851d",
   "metadata": {},
   "outputs": [
    {
     "data": {
      "text/html": [
       "<div>\n",
       "<style scoped>\n",
       "    .dataframe tbody tr th:only-of-type {\n",
       "        vertical-align: middle;\n",
       "    }\n",
       "\n",
       "    .dataframe tbody tr th {\n",
       "        vertical-align: top;\n",
       "    }\n",
       "\n",
       "    .dataframe thead th {\n",
       "        text-align: right;\n",
       "    }\n",
       "</style>\n",
       "<table border=\"1\" class=\"dataframe\">\n",
       "  <thead>\n",
       "    <tr style=\"text-align: right;\">\n",
       "      <th></th>\n",
       "      <th>Features</th>\n",
       "      <th>VIF</th>\n",
       "    </tr>\n",
       "  </thead>\n",
       "  <tbody>\n",
       "    <tr>\n",
       "      <th>1</th>\n",
       "      <td>Page Views Per Visit</td>\n",
       "      <td>3.25</td>\n",
       "    </tr>\n",
       "    <tr>\n",
       "      <th>7</th>\n",
       "      <td>What is your current occupation_Unemployed</td>\n",
       "      <td>3.04</td>\n",
       "    </tr>\n",
       "    <tr>\n",
       "      <th>11</th>\n",
       "      <td>Tags_Will revert after reading the email</td>\n",
       "      <td>2.88</td>\n",
       "    </tr>\n",
       "    <tr>\n",
       "      <th>9</th>\n",
       "      <td>Tags_Others</td>\n",
       "      <td>2.65</td>\n",
       "    </tr>\n",
       "    <tr>\n",
       "      <th>6</th>\n",
       "      <td>Last Activity_SMS Sent</td>\n",
       "      <td>2.28</td>\n",
       "    </tr>\n",
       "    <tr>\n",
       "      <th>0</th>\n",
       "      <td>Total Time Spent on Website</td>\n",
       "      <td>2.25</td>\n",
       "    </tr>\n",
       "    <tr>\n",
       "      <th>5</th>\n",
       "      <td>Last Activity_Email Opened</td>\n",
       "      <td>2.22</td>\n",
       "    </tr>\n",
       "    <tr>\n",
       "      <th>10</th>\n",
       "      <td>Tags_Ringing</td>\n",
       "      <td>1.85</td>\n",
       "    </tr>\n",
       "    <tr>\n",
       "      <th>2</th>\n",
       "      <td>Lead Origin_Lead Add Form</td>\n",
       "      <td>1.65</td>\n",
       "    </tr>\n",
       "    <tr>\n",
       "      <th>8</th>\n",
       "      <td>What is your current occupation_Working Profes...</td>\n",
       "      <td>1.60</td>\n",
       "    </tr>\n",
       "    <tr>\n",
       "      <th>3</th>\n",
       "      <td>Lead Source_Welingak Website</td>\n",
       "      <td>1.28</td>\n",
       "    </tr>\n",
       "    <tr>\n",
       "      <th>4</th>\n",
       "      <td>Last Activity_Email Bounced</td>\n",
       "      <td>1.11</td>\n",
       "    </tr>\n",
       "  </tbody>\n",
       "</table>\n",
       "</div>"
      ],
      "text/plain": [
       "                                             Features   VIF\n",
       "1                                Page Views Per Visit  3.25\n",
       "7          What is your current occupation_Unemployed  3.04\n",
       "11           Tags_Will revert after reading the email  2.88\n",
       "9                                         Tags_Others  2.65\n",
       "6                              Last Activity_SMS Sent  2.28\n",
       "0                         Total Time Spent on Website  2.25\n",
       "5                          Last Activity_Email Opened  2.22\n",
       "10                                       Tags_Ringing  1.85\n",
       "2                           Lead Origin_Lead Add Form  1.65\n",
       "8   What is your current occupation_Working Profes...  1.60\n",
       "3                        Lead Source_Welingak Website  1.28\n",
       "4                         Last Activity_Email Bounced  1.11"
      ]
     },
     "execution_count": 117,
     "metadata": {},
     "output_type": "execute_result"
    }
   ],
   "source": [
    "#Checking  VIF\n",
    "\n",
    "vif = pd.DataFrame()\n",
    "vif['Features'] = X_train_12.columns\n",
    "vif['VIF'] = [variance_inflation_factor(X_train_12.values, i) for i in range(X_train_12.shape[1])]\n",
    "vif['VIF'] = round(vif['VIF'], 2)\n",
    "vif = vif.sort_values(by = \"VIF\", ascending = False)\n",
    "vif"
   ]
  },
  {
   "cell_type": "code",
   "execution_count": 118,
   "id": "1fd4c408",
   "metadata": {},
   "outputs": [],
   "source": [
    "# Drop Tags_Ringing with high P Value\n",
    "\n",
    "X_train_11 = X_train_12.drop([\"Tags_Ringing\"],axis=1)"
   ]
  },
  {
   "cell_type": "code",
   "execution_count": 119,
   "id": "ff9dbdc4",
   "metadata": {},
   "outputs": [
    {
     "data": {
      "text/html": [
       "<table class=\"simpletable\">\n",
       "<caption>Generalized Linear Model Regression Results</caption>\n",
       "<tr>\n",
       "  <th>Dep. Variable:</th>       <td>Converted</td>    <th>  No. Observations:  </th>  <td>  5853</td> \n",
       "</tr>\n",
       "<tr>\n",
       "  <th>Model:</th>                  <td>GLM</td>       <th>  Df Residuals:      </th>  <td>  5841</td> \n",
       "</tr>\n",
       "<tr>\n",
       "  <th>Model Family:</th>        <td>Binomial</td>     <th>  Df Model:          </th>  <td>    11</td> \n",
       "</tr>\n",
       "<tr>\n",
       "  <th>Link Function:</th>         <td>logit</td>      <th>  Scale:             </th> <td>  1.0000</td>\n",
       "</tr>\n",
       "<tr>\n",
       "  <th>Method:</th>                <td>IRLS</td>       <th>  Log-Likelihood:    </th> <td> -1490.4</td>\n",
       "</tr>\n",
       "<tr>\n",
       "  <th>Date:</th>            <td>Tue, 09 Aug 2022</td> <th>  Deviance:          </th> <td>  2980.9</td>\n",
       "</tr>\n",
       "<tr>\n",
       "  <th>Time:</th>                <td>14:24:09</td>     <th>  Pearson chi2:      </th> <td>7.32e+03</td>\n",
       "</tr>\n",
       "<tr>\n",
       "  <th>No. Iterations:</th>          <td>7</td>        <th>                     </th>     <td> </td>   \n",
       "</tr>\n",
       "<tr>\n",
       "  <th>Covariance Type:</th>     <td>nonrobust</td>    <th>                     </th>     <td> </td>   \n",
       "</tr>\n",
       "</table>\n",
       "<table class=\"simpletable\">\n",
       "<tr>\n",
       "                            <td></td>                              <th>coef</th>     <th>std err</th>      <th>z</th>      <th>P>|z|</th>  <th>[0.025</th>    <th>0.975]</th>  \n",
       "</tr>\n",
       "<tr>\n",
       "  <th>const</th>                                                <td>   -6.7107</td> <td>    0.252</td> <td>  -26.590</td> <td> 0.000</td> <td>   -7.205</td> <td>   -6.216</td>\n",
       "</tr>\n",
       "<tr>\n",
       "  <th>Total Time Spent on Website</th>                          <td>    3.4684</td> <td>    0.171</td> <td>   20.317</td> <td> 0.000</td> <td>    3.134</td> <td>    3.803</td>\n",
       "</tr>\n",
       "<tr>\n",
       "  <th>Page Views Per Visit</th>                                 <td>   -2.2168</td> <td>    0.213</td> <td>  -10.419</td> <td> 0.000</td> <td>   -2.634</td> <td>   -1.800</td>\n",
       "</tr>\n",
       "<tr>\n",
       "  <th>Lead Origin_Lead Add Form</th>                            <td>    2.3310</td> <td>    0.250</td> <td>    9.320</td> <td> 0.000</td> <td>    1.841</td> <td>    2.821</td>\n",
       "</tr>\n",
       "<tr>\n",
       "  <th>Lead Source_Welingak Website</th>                         <td>    2.3793</td> <td>    1.051</td> <td>    2.264</td> <td> 0.024</td> <td>    0.320</td> <td>    4.439</td>\n",
       "</tr>\n",
       "<tr>\n",
       "  <th>Last Activity_Email Bounced</th>                          <td>   -1.5017</td> <td>    0.397</td> <td>   -3.780</td> <td> 0.000</td> <td>   -2.280</td> <td>   -0.723</td>\n",
       "</tr>\n",
       "<tr>\n",
       "  <th>Last Activity_Email Opened</th>                           <td>    0.9660</td> <td>    0.123</td> <td>    7.885</td> <td> 0.000</td> <td>    0.726</td> <td>    1.206</td>\n",
       "</tr>\n",
       "<tr>\n",
       "  <th>Last Activity_SMS Sent</th>                               <td>    2.0801</td> <td>    0.130</td> <td>   15.966</td> <td> 0.000</td> <td>    1.825</td> <td>    2.335</td>\n",
       "</tr>\n",
       "<tr>\n",
       "  <th>What is your current occupation_Unemployed</th>           <td>    1.4354</td> <td>    0.104</td> <td>   13.805</td> <td> 0.000</td> <td>    1.232</td> <td>    1.639</td>\n",
       "</tr>\n",
       "<tr>\n",
       "  <th>What is your current occupation_Working Professional</th> <td>    2.3400</td> <td>    0.281</td> <td>    8.314</td> <td> 0.000</td> <td>    1.788</td> <td>    2.892</td>\n",
       "</tr>\n",
       "<tr>\n",
       "  <th>Tags_Others</th>                                          <td>    3.6450</td> <td>    0.201</td> <td>   18.096</td> <td> 0.000</td> <td>    3.250</td> <td>    4.040</td>\n",
       "</tr>\n",
       "<tr>\n",
       "  <th>Tags_Will revert after reading the email</th>             <td>    7.0637</td> <td>    0.258</td> <td>   27.431</td> <td> 0.000</td> <td>    6.559</td> <td>    7.568</td>\n",
       "</tr>\n",
       "</table>"
      ],
      "text/plain": [
       "<class 'statsmodels.iolib.summary.Summary'>\n",
       "\"\"\"\n",
       "                 Generalized Linear Model Regression Results                  \n",
       "==============================================================================\n",
       "Dep. Variable:              Converted   No. Observations:                 5853\n",
       "Model:                            GLM   Df Residuals:                     5841\n",
       "Model Family:                Binomial   Df Model:                           11\n",
       "Link Function:                  logit   Scale:                          1.0000\n",
       "Method:                          IRLS   Log-Likelihood:                -1490.4\n",
       "Date:                Tue, 09 Aug 2022   Deviance:                       2980.9\n",
       "Time:                        14:24:09   Pearson chi2:                 7.32e+03\n",
       "No. Iterations:                     7                                         \n",
       "Covariance Type:            nonrobust                                         \n",
       "========================================================================================================================\n",
       "                                                           coef    std err          z      P>|z|      [0.025      0.975]\n",
       "------------------------------------------------------------------------------------------------------------------------\n",
       "const                                                   -6.7107      0.252    -26.590      0.000      -7.205      -6.216\n",
       "Total Time Spent on Website                              3.4684      0.171     20.317      0.000       3.134       3.803\n",
       "Page Views Per Visit                                    -2.2168      0.213    -10.419      0.000      -2.634      -1.800\n",
       "Lead Origin_Lead Add Form                                2.3310      0.250      9.320      0.000       1.841       2.821\n",
       "Lead Source_Welingak Website                             2.3793      1.051      2.264      0.024       0.320       4.439\n",
       "Last Activity_Email Bounced                             -1.5017      0.397     -3.780      0.000      -2.280      -0.723\n",
       "Last Activity_Email Opened                               0.9660      0.123      7.885      0.000       0.726       1.206\n",
       "Last Activity_SMS Sent                                   2.0801      0.130     15.966      0.000       1.825       2.335\n",
       "What is your current occupation_Unemployed               1.4354      0.104     13.805      0.000       1.232       1.639\n",
       "What is your current occupation_Working Professional     2.3400      0.281      8.314      0.000       1.788       2.892\n",
       "Tags_Others                                              3.6450      0.201     18.096      0.000       3.250       4.040\n",
       "Tags_Will revert after reading the email                 7.0637      0.258     27.431      0.000       6.559       7.568\n",
       "========================================================================================================================\n",
       "\"\"\""
      ]
     },
     "execution_count": 119,
     "metadata": {},
     "output_type": "execute_result"
    }
   ],
   "source": [
    "# Refit the model \n",
    "\n",
    "logm_1 = sm.GLM(y_train,(sm.add_constant(X_train_11)), family = sm.families.Binomial())\n",
    "res2 = logm_1.fit()\n",
    "\n",
    "res2.summary()"
   ]
  },
  {
   "cell_type": "code",
   "execution_count": 120,
   "id": "2f2e63dd",
   "metadata": {},
   "outputs": [
    {
     "data": {
      "text/html": [
       "<div>\n",
       "<style scoped>\n",
       "    .dataframe tbody tr th:only-of-type {\n",
       "        vertical-align: middle;\n",
       "    }\n",
       "\n",
       "    .dataframe tbody tr th {\n",
       "        vertical-align: top;\n",
       "    }\n",
       "\n",
       "    .dataframe thead th {\n",
       "        text-align: right;\n",
       "    }\n",
       "</style>\n",
       "<table border=\"1\" class=\"dataframe\">\n",
       "  <thead>\n",
       "    <tr style=\"text-align: right;\">\n",
       "      <th></th>\n",
       "      <th>Features</th>\n",
       "      <th>VIF</th>\n",
       "    </tr>\n",
       "  </thead>\n",
       "  <tbody>\n",
       "    <tr>\n",
       "      <th>1</th>\n",
       "      <td>Page Views Per Visit</td>\n",
       "      <td>3.09</td>\n",
       "    </tr>\n",
       "    <tr>\n",
       "      <th>7</th>\n",
       "      <td>What is your current occupation_Unemployed</td>\n",
       "      <td>2.60</td>\n",
       "    </tr>\n",
       "    <tr>\n",
       "      <th>10</th>\n",
       "      <td>Tags_Will revert after reading the email</td>\n",
       "      <td>2.26</td>\n",
       "    </tr>\n",
       "    <tr>\n",
       "      <th>0</th>\n",
       "      <td>Total Time Spent on Website</td>\n",
       "      <td>2.25</td>\n",
       "    </tr>\n",
       "    <tr>\n",
       "      <th>6</th>\n",
       "      <td>Last Activity_SMS Sent</td>\n",
       "      <td>2.13</td>\n",
       "    </tr>\n",
       "    <tr>\n",
       "      <th>5</th>\n",
       "      <td>Last Activity_Email Opened</td>\n",
       "      <td>2.09</td>\n",
       "    </tr>\n",
       "    <tr>\n",
       "      <th>9</th>\n",
       "      <td>Tags_Others</td>\n",
       "      <td>2.05</td>\n",
       "    </tr>\n",
       "    <tr>\n",
       "      <th>2</th>\n",
       "      <td>Lead Origin_Lead Add Form</td>\n",
       "      <td>1.65</td>\n",
       "    </tr>\n",
       "    <tr>\n",
       "      <th>8</th>\n",
       "      <td>What is your current occupation_Working Profes...</td>\n",
       "      <td>1.57</td>\n",
       "    </tr>\n",
       "    <tr>\n",
       "      <th>3</th>\n",
       "      <td>Lead Source_Welingak Website</td>\n",
       "      <td>1.28</td>\n",
       "    </tr>\n",
       "    <tr>\n",
       "      <th>4</th>\n",
       "      <td>Last Activity_Email Bounced</td>\n",
       "      <td>1.10</td>\n",
       "    </tr>\n",
       "  </tbody>\n",
       "</table>\n",
       "</div>"
      ],
      "text/plain": [
       "                                             Features   VIF\n",
       "1                                Page Views Per Visit  3.09\n",
       "7          What is your current occupation_Unemployed  2.60\n",
       "10           Tags_Will revert after reading the email  2.26\n",
       "0                         Total Time Spent on Website  2.25\n",
       "6                              Last Activity_SMS Sent  2.13\n",
       "5                          Last Activity_Email Opened  2.09\n",
       "9                                         Tags_Others  2.05\n",
       "2                           Lead Origin_Lead Add Form  1.65\n",
       "8   What is your current occupation_Working Profes...  1.57\n",
       "3                        Lead Source_Welingak Website  1.28\n",
       "4                         Last Activity_Email Bounced  1.10"
      ]
     },
     "execution_count": 120,
     "metadata": {},
     "output_type": "execute_result"
    }
   ],
   "source": [
    "#Checking  VIF\n",
    "\n",
    "vif = pd.DataFrame()\n",
    "vif['Features'] = X_train_11.columns\n",
    "vif['VIF'] = [variance_inflation_factor(X_train_11.values, i) for i in range(X_train_11.shape[1])]\n",
    "vif['VIF'] = round(vif['VIF'], 2)\n",
    "vif = vif.sort_values(by = \"VIF\", ascending = False)\n",
    "vif"
   ]
  },
  {
   "cell_type": "markdown",
   "id": "037e8100",
   "metadata": {},
   "source": [
    "Observation :\n",
    "    \n",
    "    The P-Value seems good for all variable. So we will use this feature as final set"
   ]
  },
  {
   "cell_type": "markdown",
   "id": "fd4c9821",
   "metadata": {},
   "source": [
    "### Model Evaluation"
   ]
  },
  {
   "cell_type": "code",
   "execution_count": 121,
   "id": "dd32bc18",
   "metadata": {},
   "outputs": [
    {
     "data": {
      "text/plain": [
       "1262    0.429261\n",
       "800     0.010788\n",
       "221     0.637245\n",
       "6454    0.076814\n",
       "8200    0.109646\n",
       "1731    0.099765\n",
       "4270    0.225873\n",
       "1165    0.183066\n",
       "3355    0.050729\n",
       "271     0.049263\n",
       "dtype: float64"
      ]
     },
     "execution_count": 121,
     "metadata": {},
     "output_type": "execute_result"
    }
   ],
   "source": [
    "# Probablity Predicton\n",
    "\n",
    "y_train_prediction = res2.predict(sm.add_constant(X_train_11))\n",
    "y_train_prediction[:10]"
   ]
  },
  {
   "cell_type": "code",
   "execution_count": 122,
   "id": "7769dfa8",
   "metadata": {},
   "outputs": [
    {
     "data": {
      "text/plain": [
       "array([0.42926141, 0.0107882 , 0.63724508, 0.07681377, 0.10964614,\n",
       "       0.09976493, 0.22587267, 0.18306573, 0.05072894, 0.04926307])"
      ]
     },
     "execution_count": 122,
     "metadata": {},
     "output_type": "execute_result"
    }
   ],
   "source": [
    "# Reshape\n",
    "\n",
    "y_train_prediction = y_train_prediction.values.reshape(-1)\n",
    "y_train_prediction[:10]"
   ]
  },
  {
   "cell_type": "code",
   "execution_count": 124,
   "id": "49afa831",
   "metadata": {},
   "outputs": [
    {
     "data": {
      "text/html": [
       "<div>\n",
       "<style scoped>\n",
       "    .dataframe tbody tr th:only-of-type {\n",
       "        vertical-align: middle;\n",
       "    }\n",
       "\n",
       "    .dataframe tbody tr th {\n",
       "        vertical-align: top;\n",
       "    }\n",
       "\n",
       "    .dataframe thead th {\n",
       "        text-align: right;\n",
       "    }\n",
       "</style>\n",
       "<table border=\"1\" class=\"dataframe\">\n",
       "  <thead>\n",
       "    <tr style=\"text-align: right;\">\n",
       "      <th></th>\n",
       "      <th>Converted</th>\n",
       "      <th>Conversion_Prob</th>\n",
       "    </tr>\n",
       "  </thead>\n",
       "  <tbody>\n",
       "    <tr>\n",
       "      <th>0</th>\n",
       "      <td>0</td>\n",
       "      <td>0.429261</td>\n",
       "    </tr>\n",
       "    <tr>\n",
       "      <th>1</th>\n",
       "      <td>0</td>\n",
       "      <td>0.010788</td>\n",
       "    </tr>\n",
       "    <tr>\n",
       "      <th>2</th>\n",
       "      <td>0</td>\n",
       "      <td>0.637245</td>\n",
       "    </tr>\n",
       "    <tr>\n",
       "      <th>3</th>\n",
       "      <td>0</td>\n",
       "      <td>0.076814</td>\n",
       "    </tr>\n",
       "    <tr>\n",
       "      <th>4</th>\n",
       "      <td>1</td>\n",
       "      <td>0.109646</td>\n",
       "    </tr>\n",
       "  </tbody>\n",
       "</table>\n",
       "</div>"
      ],
      "text/plain": [
       "   Converted  Conversion_Prob\n",
       "0          0         0.429261\n",
       "1          0         0.010788\n",
       "2          0         0.637245\n",
       "3          0         0.076814\n",
       "4          1         0.109646"
      ]
     },
     "execution_count": 124,
     "metadata": {},
     "output_type": "execute_result"
    }
   ],
   "source": [
    "y_train_prediction_final = pd.DataFrame({'Converted':y_train.values, 'Conversion_Prob':y_train_prediction})\n",
    "y_train_prediction_final.head()"
   ]
  },
  {
   "cell_type": "code",
   "execution_count": 125,
   "id": "1de5abab",
   "metadata": {},
   "outputs": [
    {
     "data": {
      "text/html": [
       "<div>\n",
       "<style scoped>\n",
       "    .dataframe tbody tr th:only-of-type {\n",
       "        vertical-align: middle;\n",
       "    }\n",
       "\n",
       "    .dataframe tbody tr th {\n",
       "        vertical-align: top;\n",
       "    }\n",
       "\n",
       "    .dataframe thead th {\n",
       "        text-align: right;\n",
       "    }\n",
       "</style>\n",
       "<table border=\"1\" class=\"dataframe\">\n",
       "  <thead>\n",
       "    <tr style=\"text-align: right;\">\n",
       "      <th></th>\n",
       "      <th>Converted</th>\n",
       "      <th>Conversion_Prob</th>\n",
       "      <th>Predicted</th>\n",
       "    </tr>\n",
       "  </thead>\n",
       "  <tbody>\n",
       "    <tr>\n",
       "      <th>0</th>\n",
       "      <td>0</td>\n",
       "      <td>0.429261</td>\n",
       "      <td>0</td>\n",
       "    </tr>\n",
       "    <tr>\n",
       "      <th>1</th>\n",
       "      <td>0</td>\n",
       "      <td>0.010788</td>\n",
       "      <td>0</td>\n",
       "    </tr>\n",
       "    <tr>\n",
       "      <th>2</th>\n",
       "      <td>0</td>\n",
       "      <td>0.637245</td>\n",
       "      <td>1</td>\n",
       "    </tr>\n",
       "    <tr>\n",
       "      <th>3</th>\n",
       "      <td>0</td>\n",
       "      <td>0.076814</td>\n",
       "      <td>0</td>\n",
       "    </tr>\n",
       "    <tr>\n",
       "      <th>4</th>\n",
       "      <td>1</td>\n",
       "      <td>0.109646</td>\n",
       "      <td>0</td>\n",
       "    </tr>\n",
       "  </tbody>\n",
       "</table>\n",
       "</div>"
      ],
      "text/plain": [
       "   Converted  Conversion_Prob  Predicted\n",
       "0          0         0.429261          0\n",
       "1          0         0.010788          0\n",
       "2          0         0.637245          1\n",
       "3          0         0.076814          0\n",
       "4          1         0.109646          0"
      ]
     },
     "execution_count": 125,
     "metadata": {},
     "output_type": "execute_result"
    }
   ],
   "source": [
    "y_train_prediction_final['Predicted'] = y_train_prediction_final.Conversion_Prob.map(lambda x: 1 if x > 0.5 else 0)\n",
    "\n",
    "y_train_prediction_final.head()"
   ]
  },
  {
   "cell_type": "code",
   "execution_count": 126,
   "id": "49d2184f",
   "metadata": {},
   "outputs": [],
   "source": [
    "# Import sklearn evaluation \n",
    "\n",
    "from sklearn import metrics"
   ]
  },
  {
   "cell_type": "code",
   "execution_count": 127,
   "id": "a936888f",
   "metadata": {},
   "outputs": [
    {
     "name": "stdout",
     "output_type": "stream",
     "text": [
      "0.8962924995728686\n"
     ]
    }
   ],
   "source": [
    "#checking Accuracy\n",
    "\n",
    "print(metrics.accuracy_score(y_train_prediction_final.Converted, y_train_prediction_final.Predicted))"
   ]
  },
  {
   "cell_type": "markdown",
   "id": "b0b1fdfc",
   "metadata": {},
   "source": [
    "### Plotting ROC"
   ]
  },
  {
   "cell_type": "code",
   "execution_count": 128,
   "id": "265dc9ee",
   "metadata": {},
   "outputs": [],
   "source": [
    "\n",
    "\n",
    "def draw_roc( actual, probs ):\n",
    "    fpr, tpr, thresholds = metrics.roc_curve( actual, probs,\n",
    "                                              drop_intermediate = False )\n",
    "    auc_score = metrics.roc_auc_score( actual, probs )\n",
    "    plt.figure(figsize=(5, 5))\n",
    "    plt.plot( fpr, tpr, label='ROC curve (area = %0.2f)' % auc_score )\n",
    "    plt.plot([0, 1], [0, 1], 'k--')\n",
    "    plt.xlim([0.0, 1.0])\n",
    "    plt.ylim([0.0, 1.05])\n",
    "    plt.xlabel('False Positive Rate or [1 - True Negative Rate]')\n",
    "    plt.ylabel('True Positive Rate')\n",
    "    plt.title('Receiver operating characteristic example')\n",
    "    plt.legend(loc=\"lower right\")\n",
    "    plt.show()\n",
    "\n",
    "    return None"
   ]
  },
  {
   "cell_type": "code",
   "execution_count": 130,
   "id": "276bbb02",
   "metadata": {},
   "outputs": [
    {
     "data": {
      "image/png": "[encoded data removed]",
      "text/plain": [
       "<Figure size 360x360 with 1 Axes>"
      ]
     },
     "metadata": {
      "needs_background": "light"
     },
     "output_type": "display_data"
    }
   ],
   "source": [
    "fpr, tpr, thresholds = metrics.roc_curve( y_train_prediction_final.Converted, y_train_prediction_final.Conversion_Prob, drop_intermediate = False )\n",
    "draw_roc(y_train_prediction_final.Converted, y_train_prediction_final.Conversion_Prob)"
   ]
  },
  {
   "cell_type": "markdown",
   "id": "b4a74f61",
   "metadata": {},
   "source": [
    "The ROC is 0.96 which is Good."
   ]
  },
  {
   "cell_type": "code",
   "execution_count": 131,
   "id": "3a9aead9",
   "metadata": {},
   "outputs": [
    {
     "data": {
      "text/html": [
       "<div>\n",
       "<style scoped>\n",
       "    .dataframe tbody tr th:only-of-type {\n",
       "        vertical-align: middle;\n",
       "    }\n",
       "\n",
       "    .dataframe tbody tr th {\n",
       "        vertical-align: top;\n",
       "    }\n",
       "\n",
       "    .dataframe thead th {\n",
       "        text-align: right;\n",
       "    }\n",
       "</style>\n",
       "<table border=\"1\" class=\"dataframe\">\n",
       "  <thead>\n",
       "    <tr style=\"text-align: right;\">\n",
       "      <th></th>\n",
       "      <th>Converted</th>\n",
       "      <th>Conversion_Prob</th>\n",
       "      <th>Predicted</th>\n",
       "      <th>0.0</th>\n",
       "      <th>0.1</th>\n",
       "      <th>0.2</th>\n",
       "      <th>0.3</th>\n",
       "      <th>0.4</th>\n",
       "      <th>0.5</th>\n",
       "      <th>0.6</th>\n",
       "      <th>0.7</th>\n",
       "      <th>0.8</th>\n",
       "      <th>0.9</th>\n",
       "    </tr>\n",
       "  </thead>\n",
       "  <tbody>\n",
       "    <tr>\n",
       "      <th>0</th>\n",
       "      <td>0</td>\n",
       "      <td>0.429261</td>\n",
       "      <td>0</td>\n",
       "      <td>1</td>\n",
       "      <td>1</td>\n",
       "      <td>1</td>\n",
       "      <td>1</td>\n",
       "      <td>1</td>\n",
       "      <td>0</td>\n",
       "      <td>0</td>\n",
       "      <td>0</td>\n",
       "      <td>0</td>\n",
       "      <td>0</td>\n",
       "    </tr>\n",
       "    <tr>\n",
       "      <th>1</th>\n",
       "      <td>0</td>\n",
       "      <td>0.010788</td>\n",
       "      <td>0</td>\n",
       "      <td>1</td>\n",
       "      <td>0</td>\n",
       "      <td>0</td>\n",
       "      <td>0</td>\n",
       "      <td>0</td>\n",
       "      <td>0</td>\n",
       "      <td>0</td>\n",
       "      <td>0</td>\n",
       "      <td>0</td>\n",
       "      <td>0</td>\n",
       "    </tr>\n",
       "    <tr>\n",
       "      <th>2</th>\n",
       "      <td>0</td>\n",
       "      <td>0.637245</td>\n",
       "      <td>1</td>\n",
       "      <td>1</td>\n",
       "      <td>1</td>\n",
       "      <td>1</td>\n",
       "      <td>1</td>\n",
       "      <td>1</td>\n",
       "      <td>1</td>\n",
       "      <td>1</td>\n",
       "      <td>0</td>\n",
       "      <td>0</td>\n",
       "      <td>0</td>\n",
       "    </tr>\n",
       "    <tr>\n",
       "      <th>3</th>\n",
       "      <td>0</td>\n",
       "      <td>0.076814</td>\n",
       "      <td>0</td>\n",
       "      <td>1</td>\n",
       "      <td>0</td>\n",
       "      <td>0</td>\n",
       "      <td>0</td>\n",
       "      <td>0</td>\n",
       "      <td>0</td>\n",
       "      <td>0</td>\n",
       "      <td>0</td>\n",
       "      <td>0</td>\n",
       "      <td>0</td>\n",
       "    </tr>\n",
       "    <tr>\n",
       "      <th>4</th>\n",
       "      <td>1</td>\n",
       "      <td>0.109646</td>\n",
       "      <td>0</td>\n",
       "      <td>1</td>\n",
       "      <td>1</td>\n",
       "      <td>0</td>\n",
       "      <td>0</td>\n",
       "      <td>0</td>\n",
       "      <td>0</td>\n",
       "      <td>0</td>\n",
       "      <td>0</td>\n",
       "      <td>0</td>\n",
       "      <td>0</td>\n",
       "    </tr>\n",
       "  </tbody>\n",
       "</table>\n",
       "</div>"
      ],
      "text/plain": [
       "   Converted  Conversion_Prob  Predicted  0.0  0.1  0.2  0.3  0.4  0.5  0.6  \\\n",
       "0          0         0.429261          0    1    1    1    1    1    0    0   \n",
       "1          0         0.010788          0    1    0    0    0    0    0    0   \n",
       "2          0         0.637245          1    1    1    1    1    1    1    1   \n",
       "3          0         0.076814          0    1    0    0    0    0    0    0   \n",
       "4          1         0.109646          0    1    1    0    0    0    0    0   \n",
       "\n",
       "   0.7  0.8  0.9  \n",
       "0    0    0    0  \n",
       "1    0    0    0  \n",
       "2    0    0    0  \n",
       "3    0    0    0  \n",
       "4    0    0    0  "
      ]
     },
     "execution_count": 131,
     "metadata": {},
     "output_type": "execute_result"
    }
   ],
   "source": [
    "# Column with  Probablity Cutoff\n",
    "\n",
    "numbers123 = [float(x)/10 for x in range(10)]\n",
    "for i in numbers123:\n",
    "    y_train_prediction_final[i]= y_train_prediction_final.Conversion_Prob.map(lambda x: 1 if x > i else 0)\n",
    "y_train_prediction_final.head()"
   ]
  },
  {
   "cell_type": "code",
   "execution_count": 132,
   "id": "be955897",
   "metadata": {},
   "outputs": [
    {
     "name": "stdout",
     "output_type": "stream",
     "text": [
      "     prob  accuracy     sensi     speci\n",
      "0.0   0.0  0.377926  1.000000  0.000000\n",
      "0.1   0.1  0.780796  0.974684  0.663005\n",
      "0.2   0.2  0.861780  0.939421  0.814611\n",
      "0.3   0.3  0.889288  0.905967  0.879154\n",
      "0.4   0.4  0.891850  0.853978  0.914859\n",
      "0.5   0.5  0.896292  0.828210  0.937654\n",
      "0.6   0.6  0.893901  0.790687  0.956605\n",
      "0.7   0.7  0.878866  0.728300  0.970338\n",
      "0.8   0.8  0.866222  0.681284  0.978577\n",
      "0.9   0.9  0.842303  0.602622  0.987915\n"
     ]
    }
   ],
   "source": [
    "\n",
    "cutoff_file1 = pd.DataFrame( columns = ['prob','accuracy','sensi','speci'])\n",
    "from sklearn.metrics import confusion_matrix\n",
    "\n",
    "num1 = [0.0,0.1,0.2,0.3,0.4,0.5,0.6,0.7,0.8,0.9]\n",
    "for i in num1:\n",
    "    cm1 = metrics.confusion_matrix(y_train_prediction_final.Converted, y_train_prediction_final[i] )\n",
    "    total1=sum(sum(cm1))\n",
    "    accuracy = (cm1[0,0]+cm1[1,1])/total1\n",
    "    \n",
    "    speci = cm1[0,0]/(cm1[0,0]+cm1[0,1])\n",
    "    sensi = cm1[1,1]/(cm1[1,0]+cm1[1,1])\n",
    "    cutoff_file1.loc[i] =[ i ,accuracy,sensi,speci]\n",
    "print(cutoff_file1)"
   ]
  },
  {
   "cell_type": "code",
   "execution_count": 133,
   "id": "c39911ea",
   "metadata": {},
   "outputs": [
    {
     "data": {
      "image/png": "[encoded data removed]",
      "text/plain": [
       "<Figure size 432x288 with 1 Axes>"
      ]
     },
     "metadata": {
      "needs_background": "light"
     },
     "output_type": "display_data"
    }
   ],
   "source": [
    "# Cut Off Plot \n",
    "\n",
    "cutoff_file1.plot.line(x='prob', y=['accuracy','sensi','speci'])\n",
    "plt.show()"
   ]
  },
  {
   "cell_type": "markdown",
   "id": "41873beb",
   "metadata": {},
   "source": [
    "1. The 0.34 is out cutoff\n",
    "\n",
    "2. Accuracy dosent change after 0.3"
   ]
  },
  {
   "cell_type": "code",
   "execution_count": 134,
   "id": "2844eeaa",
   "metadata": {},
   "outputs": [
    {
     "data": {
      "text/html": [
       "<div>\n",
       "<style scoped>\n",
       "    .dataframe tbody tr th:only-of-type {\n",
       "        vertical-align: middle;\n",
       "    }\n",
       "\n",
       "    .dataframe tbody tr th {\n",
       "        vertical-align: top;\n",
       "    }\n",
       "\n",
       "    .dataframe thead th {\n",
       "        text-align: right;\n",
       "    }\n",
       "</style>\n",
       "<table border=\"1\" class=\"dataframe\">\n",
       "  <thead>\n",
       "    <tr style=\"text-align: right;\">\n",
       "      <th></th>\n",
       "      <th>Converted</th>\n",
       "      <th>Conversion_Prob</th>\n",
       "      <th>Predicted</th>\n",
       "      <th>0.0</th>\n",
       "      <th>0.1</th>\n",
       "      <th>0.2</th>\n",
       "      <th>0.3</th>\n",
       "      <th>0.4</th>\n",
       "      <th>0.5</th>\n",
       "      <th>0.6</th>\n",
       "      <th>0.7</th>\n",
       "      <th>0.8</th>\n",
       "      <th>0.9</th>\n",
       "      <th>final_predicted</th>\n",
       "    </tr>\n",
       "  </thead>\n",
       "  <tbody>\n",
       "    <tr>\n",
       "      <th>0</th>\n",
       "      <td>0</td>\n",
       "      <td>0.429261</td>\n",
       "      <td>0</td>\n",
       "      <td>1</td>\n",
       "      <td>1</td>\n",
       "      <td>1</td>\n",
       "      <td>1</td>\n",
       "      <td>1</td>\n",
       "      <td>0</td>\n",
       "      <td>0</td>\n",
       "      <td>0</td>\n",
       "      <td>0</td>\n",
       "      <td>0</td>\n",
       "      <td>1</td>\n",
       "    </tr>\n",
       "    <tr>\n",
       "      <th>1</th>\n",
       "      <td>0</td>\n",
       "      <td>0.010788</td>\n",
       "      <td>0</td>\n",
       "      <td>1</td>\n",
       "      <td>0</td>\n",
       "      <td>0</td>\n",
       "      <td>0</td>\n",
       "      <td>0</td>\n",
       "      <td>0</td>\n",
       "      <td>0</td>\n",
       "      <td>0</td>\n",
       "      <td>0</td>\n",
       "      <td>0</td>\n",
       "      <td>0</td>\n",
       "    </tr>\n",
       "    <tr>\n",
       "      <th>2</th>\n",
       "      <td>0</td>\n",
       "      <td>0.637245</td>\n",
       "      <td>1</td>\n",
       "      <td>1</td>\n",
       "      <td>1</td>\n",
       "      <td>1</td>\n",
       "      <td>1</td>\n",
       "      <td>1</td>\n",
       "      <td>1</td>\n",
       "      <td>1</td>\n",
       "      <td>0</td>\n",
       "      <td>0</td>\n",
       "      <td>0</td>\n",
       "      <td>1</td>\n",
       "    </tr>\n",
       "    <tr>\n",
       "      <th>3</th>\n",
       "      <td>0</td>\n",
       "      <td>0.076814</td>\n",
       "      <td>0</td>\n",
       "      <td>1</td>\n",
       "      <td>0</td>\n",
       "      <td>0</td>\n",
       "      <td>0</td>\n",
       "      <td>0</td>\n",
       "      <td>0</td>\n",
       "      <td>0</td>\n",
       "      <td>0</td>\n",
       "      <td>0</td>\n",
       "      <td>0</td>\n",
       "      <td>0</td>\n",
       "    </tr>\n",
       "    <tr>\n",
       "      <th>4</th>\n",
       "      <td>1</td>\n",
       "      <td>0.109646</td>\n",
       "      <td>0</td>\n",
       "      <td>1</td>\n",
       "      <td>1</td>\n",
       "      <td>0</td>\n",
       "      <td>0</td>\n",
       "      <td>0</td>\n",
       "      <td>0</td>\n",
       "      <td>0</td>\n",
       "      <td>0</td>\n",
       "      <td>0</td>\n",
       "      <td>0</td>\n",
       "      <td>0</td>\n",
       "    </tr>\n",
       "  </tbody>\n",
       "</table>\n",
       "</div>"
      ],
      "text/plain": [
       "   Converted  Conversion_Prob  Predicted  0.0  0.1  0.2  0.3  0.4  0.5  0.6  \\\n",
       "0          0         0.429261          0    1    1    1    1    1    0    0   \n",
       "1          0         0.010788          0    1    0    0    0    0    0    0   \n",
       "2          0         0.637245          1    1    1    1    1    1    1    1   \n",
       "3          0         0.076814          0    1    0    0    0    0    0    0   \n",
       "4          1         0.109646          0    1    1    0    0    0    0    0   \n",
       "\n",
       "   0.7  0.8  0.9  final_predicted  \n",
       "0    0    0    0                1  \n",
       "1    0    0    0                0  \n",
       "2    0    0    0                1  \n",
       "3    0    0    0                0  \n",
       "4    0    0    0                0  "
      ]
     },
     "execution_count": 134,
     "metadata": {},
     "output_type": "execute_result"
    }
   ],
   "source": [
    "y_train_prediction_final['final_predicted'] = y_train_prediction_final.Conversion_Prob.map( lambda x: 1 if x > 0.34 else 0)\n",
    "\n",
    "y_train_prediction_final.head()"
   ]
  },
  {
   "cell_type": "code",
   "execution_count": 136,
   "id": "2f7b2a3c",
   "metadata": {},
   "outputs": [
    {
     "name": "stdout",
     "output_type": "stream",
     "text": [
      "Accuracy = 0.8884332820775671\n"
     ]
    }
   ],
   "source": [
    "#Accuracy Check\n",
    "\n",
    "Accuracy1 = metrics.accuracy_score(y_train_prediction_final.Converted, y_train_prediction_final.final_predicted)\n",
    "print('Accuracy = ' + str(Accuracy1))"
   ]
  },
  {
   "cell_type": "code",
   "execution_count": 137,
   "id": "ba3d19a5",
   "metadata": {},
   "outputs": [
    {
     "data": {
      "text/plain": [
       "array([[3278,  363],\n",
       "       [ 290, 1922]], dtype=int64)"
      ]
     },
     "execution_count": 137,
     "metadata": {},
     "output_type": "execute_result"
    }
   ],
   "source": [
    "#confusion matrix\n",
    "\n",
    "confusion = metrics.confusion_matrix(y_train_prediction_final.Converted, y_train_prediction_final.final_predicted )\n",
    "confusion"
   ]
  },
  {
   "cell_type": "code",
   "execution_count": 138,
   "id": "edffc23a",
   "metadata": {},
   "outputs": [],
   "source": [
    "# Substituting the value of true positive\n",
    "TP = confusion[1,1]\n",
    "\n",
    "# Substituting the value of true negatives\n",
    "TN = confusion[0,0]\n",
    "\n",
    "# Substituting the value of false positives\n",
    "FP = confusion[0,1] \n",
    "\n",
    "# Substituting the value of false negatives\n",
    "FN = confusion[1,0]"
   ]
  },
  {
   "cell_type": "code",
   "execution_count": 139,
   "id": "b53ef66a",
   "metadata": {},
   "outputs": [
    {
     "name": "stdout",
     "output_type": "stream",
     "text": [
      "Accuracy = 0.8884332820775671\n",
      "sensitivity = 0.8688969258589512\n",
      "specificity = 0.9003021148036254\n"
     ]
    }
   ],
   "source": [
    "print('Accuracy = ' + str(Accuracy1))\n",
    "\n",
    "# sensitivity\n",
    "sensitivity = TP/(TP+FN)\n",
    "print('sensitivity = ' + str(sensitivity))\n",
    "\n",
    "\n",
    "#specificity\n",
    "specificity = TN/(TN+FP)\n",
    "print('specificity = ' + str(specificity))"
   ]
  },
  {
   "cell_type": "markdown",
   "id": "3e200aef",
   "metadata": {},
   "source": [
    "Observation:\n",
    "    As a result, \n",
    "    Accuracy (0.888)\n",
    "    Sensitivity ( 0.8688969258589512 ) \n",
    "    Specificity ( 0.9003021148036254) \n",
    "    \n",
    "    are good since the Cutoff point is good."
   ]
  },
  {
   "cell_type": "markdown",
   "id": "5476c664",
   "metadata": {},
   "source": [
    "### Test Set"
   ]
  },
  {
   "cell_type": "code",
   "execution_count": 140,
   "id": "7dab6bb1",
   "metadata": {},
   "outputs": [],
   "source": [
    "X_test[['TotalVisits', 'Page Views Per Visit', 'Total Time Spent on Website']] = scaler.transform(X_test[['TotalVisits', 'Page Views Per Visit', 'Total Time Spent on Website']])"
   ]
  },
  {
   "cell_type": "code",
   "execution_count": 141,
   "id": "2f0ac2e6",
   "metadata": {},
   "outputs": [
    {
     "data": {
      "text/html": [
       "<div>\n",
       "<style scoped>\n",
       "    .dataframe tbody tr th:only-of-type {\n",
       "        vertical-align: middle;\n",
       "    }\n",
       "\n",
       "    .dataframe tbody tr th {\n",
       "        vertical-align: top;\n",
       "    }\n",
       "\n",
       "    .dataframe thead th {\n",
       "        text-align: right;\n",
       "    }\n",
       "</style>\n",
       "<table border=\"1\" class=\"dataframe\">\n",
       "  <thead>\n",
       "    <tr style=\"text-align: right;\">\n",
       "      <th></th>\n",
       "      <th>const</th>\n",
       "      <th>Total Time Spent on Website</th>\n",
       "      <th>Page Views Per Visit</th>\n",
       "      <th>Lead Origin_Lead Add Form</th>\n",
       "      <th>Lead Source_Welingak Website</th>\n",
       "      <th>Last Activity_Email Bounced</th>\n",
       "      <th>Last Activity_Email Opened</th>\n",
       "      <th>Last Activity_SMS Sent</th>\n",
       "      <th>What is your current occupation_Unemployed</th>\n",
       "      <th>What is your current occupation_Working Professional</th>\n",
       "      <th>Tags_Others</th>\n",
       "      <th>Tags_Will revert after reading the email</th>\n",
       "    </tr>\n",
       "  </thead>\n",
       "  <tbody>\n",
       "    <tr>\n",
       "      <th>7000</th>\n",
       "      <td>1.0</td>\n",
       "      <td>0.428571</td>\n",
       "      <td>0.500000</td>\n",
       "      <td>0</td>\n",
       "      <td>0</td>\n",
       "      <td>0</td>\n",
       "      <td>0</td>\n",
       "      <td>1</td>\n",
       "      <td>1</td>\n",
       "      <td>0</td>\n",
       "      <td>1</td>\n",
       "      <td>0</td>\n",
       "    </tr>\n",
       "    <tr>\n",
       "      <th>2633</th>\n",
       "      <td>1.0</td>\n",
       "      <td>0.164557</td>\n",
       "      <td>0.333333</td>\n",
       "      <td>0</td>\n",
       "      <td>0</td>\n",
       "      <td>0</td>\n",
       "      <td>0</td>\n",
       "      <td>0</td>\n",
       "      <td>1</td>\n",
       "      <td>0</td>\n",
       "      <td>1</td>\n",
       "      <td>0</td>\n",
       "    </tr>\n",
       "    <tr>\n",
       "      <th>1135</th>\n",
       "      <td>1.0</td>\n",
       "      <td>0.110910</td>\n",
       "      <td>0.250000</td>\n",
       "      <td>0</td>\n",
       "      <td>0</td>\n",
       "      <td>0</td>\n",
       "      <td>1</td>\n",
       "      <td>0</td>\n",
       "      <td>0</td>\n",
       "      <td>0</td>\n",
       "      <td>0</td>\n",
       "      <td>0</td>\n",
       "    </tr>\n",
       "    <tr>\n",
       "      <th>3919</th>\n",
       "      <td>1.0</td>\n",
       "      <td>0.867993</td>\n",
       "      <td>0.333333</td>\n",
       "      <td>0</td>\n",
       "      <td>0</td>\n",
       "      <td>0</td>\n",
       "      <td>0</td>\n",
       "      <td>1</td>\n",
       "      <td>1</td>\n",
       "      <td>0</td>\n",
       "      <td>0</td>\n",
       "      <td>0</td>\n",
       "    </tr>\n",
       "    <tr>\n",
       "      <th>2794</th>\n",
       "      <td>1.0</td>\n",
       "      <td>0.215793</td>\n",
       "      <td>0.333333</td>\n",
       "      <td>0</td>\n",
       "      <td>0</td>\n",
       "      <td>0</td>\n",
       "      <td>0</td>\n",
       "      <td>0</td>\n",
       "      <td>0</td>\n",
       "      <td>0</td>\n",
       "      <td>1</td>\n",
       "      <td>0</td>\n",
       "    </tr>\n",
       "    <tr>\n",
       "      <th>...</th>\n",
       "      <td>...</td>\n",
       "      <td>...</td>\n",
       "      <td>...</td>\n",
       "      <td>...</td>\n",
       "      <td>...</td>\n",
       "      <td>...</td>\n",
       "      <td>...</td>\n",
       "      <td>...</td>\n",
       "      <td>...</td>\n",
       "      <td>...</td>\n",
       "      <td>...</td>\n",
       "      <td>...</td>\n",
       "    </tr>\n",
       "    <tr>\n",
       "      <th>1923</th>\n",
       "      <td>1.0</td>\n",
       "      <td>0.261001</td>\n",
       "      <td>0.333333</td>\n",
       "      <td>0</td>\n",
       "      <td>0</td>\n",
       "      <td>0</td>\n",
       "      <td>1</td>\n",
       "      <td>0</td>\n",
       "      <td>0</td>\n",
       "      <td>0</td>\n",
       "      <td>1</td>\n",
       "      <td>0</td>\n",
       "    </tr>\n",
       "    <tr>\n",
       "      <th>7630</th>\n",
       "      <td>1.0</td>\n",
       "      <td>0.115732</td>\n",
       "      <td>1.000000</td>\n",
       "      <td>0</td>\n",
       "      <td>0</td>\n",
       "      <td>0</td>\n",
       "      <td>0</td>\n",
       "      <td>1</td>\n",
       "      <td>1</td>\n",
       "      <td>0</td>\n",
       "      <td>1</td>\n",
       "      <td>0</td>\n",
       "    </tr>\n",
       "    <tr>\n",
       "      <th>7590</th>\n",
       "      <td>1.0</td>\n",
       "      <td>0.076552</td>\n",
       "      <td>0.166667</td>\n",
       "      <td>0</td>\n",
       "      <td>0</td>\n",
       "      <td>0</td>\n",
       "      <td>0</td>\n",
       "      <td>0</td>\n",
       "      <td>1</td>\n",
       "      <td>0</td>\n",
       "      <td>0</td>\n",
       "      <td>0</td>\n",
       "    </tr>\n",
       "    <tr>\n",
       "      <th>2062</th>\n",
       "      <td>1.0</td>\n",
       "      <td>0.716697</td>\n",
       "      <td>1.000000</td>\n",
       "      <td>0</td>\n",
       "      <td>0</td>\n",
       "      <td>0</td>\n",
       "      <td>1</td>\n",
       "      <td>0</td>\n",
       "      <td>1</td>\n",
       "      <td>0</td>\n",
       "      <td>0</td>\n",
       "      <td>0</td>\n",
       "    </tr>\n",
       "    <tr>\n",
       "      <th>159</th>\n",
       "      <td>1.0</td>\n",
       "      <td>0.747438</td>\n",
       "      <td>0.333333</td>\n",
       "      <td>1</td>\n",
       "      <td>1</td>\n",
       "      <td>0</td>\n",
       "      <td>0</td>\n",
       "      <td>0</td>\n",
       "      <td>1</td>\n",
       "      <td>0</td>\n",
       "      <td>1</td>\n",
       "      <td>0</td>\n",
       "    </tr>\n",
       "  </tbody>\n",
       "</table>\n",
       "<p>2509 rows × 12 columns</p>\n",
       "</div>"
      ],
      "text/plain": [
       "      const  Total Time Spent on Website  Page Views Per Visit  \\\n",
       "7000    1.0                     0.428571              0.500000   \n",
       "2633    1.0                     0.164557              0.333333   \n",
       "1135    1.0                     0.110910              0.250000   \n",
       "3919    1.0                     0.867993              0.333333   \n",
       "2794    1.0                     0.215793              0.333333   \n",
       "...     ...                          ...                   ...   \n",
       "1923    1.0                     0.261001              0.333333   \n",
       "7630    1.0                     0.115732              1.000000   \n",
       "7590    1.0                     0.076552              0.166667   \n",
       "2062    1.0                     0.716697              1.000000   \n",
       "159     1.0                     0.747438              0.333333   \n",
       "\n",
       "      Lead Origin_Lead Add Form  Lead Source_Welingak Website  \\\n",
       "7000                          0                             0   \n",
       "2633                          0                             0   \n",
       "1135                          0                             0   \n",
       "3919                          0                             0   \n",
       "2794                          0                             0   \n",
       "...                         ...                           ...   \n",
       "1923                          0                             0   \n",
       "7630                          0                             0   \n",
       "7590                          0                             0   \n",
       "2062                          0                             0   \n",
       "159                           1                             1   \n",
       "\n",
       "      Last Activity_Email Bounced  Last Activity_Email Opened  \\\n",
       "7000                            0                           0   \n",
       "2633                            0                           0   \n",
       "1135                            0                           1   \n",
       "3919                            0                           0   \n",
       "2794                            0                           0   \n",
       "...                           ...                         ...   \n",
       "1923                            0                           1   \n",
       "7630                            0                           0   \n",
       "7590                            0                           0   \n",
       "2062                            0                           1   \n",
       "159                             0                           0   \n",
       "\n",
       "      Last Activity_SMS Sent  What is your current occupation_Unemployed  \\\n",
       "7000                       1                                           1   \n",
       "2633                       0                                           1   \n",
       "1135                       0                                           0   \n",
       "3919                       1                                           1   \n",
       "2794                       0                                           0   \n",
       "...                      ...                                         ...   \n",
       "1923                       0                                           0   \n",
       "7630                       1                                           1   \n",
       "7590                       0                                           1   \n",
       "2062                       0                                           1   \n",
       "159                        0                                           1   \n",
       "\n",
       "      What is your current occupation_Working Professional  Tags_Others  \\\n",
       "7000                                                  0               1   \n",
       "2633                                                  0               1   \n",
       "1135                                                  0               0   \n",
       "3919                                                  0               0   \n",
       "2794                                                  0               1   \n",
       "...                                                 ...             ...   \n",
       "1923                                                  0               1   \n",
       "7630                                                  0               1   \n",
       "7590                                                  0               0   \n",
       "2062                                                  0               0   \n",
       "159                                                   0               1   \n",
       "\n",
       "      Tags_Will revert after reading the email  \n",
       "7000                                         0  \n",
       "2633                                         0  \n",
       "1135                                         0  \n",
       "3919                                         0  \n",
       "2794                                         0  \n",
       "...                                        ...  \n",
       "1923                                         0  \n",
       "7630                                         0  \n",
       "7590                                         0  \n",
       "2062                                         0  \n",
       "159                                          0  \n",
       "\n",
       "[2509 rows x 12 columns]"
      ]
     },
     "execution_count": 141,
     "metadata": {},
     "output_type": "execute_result"
    }
   ],
   "source": [
    "col = X_train_11.columns \n",
    "\n",
    "# Select the columns in X_train for X_test as well\n",
    "X_test = X_test[col]\n",
    "# Add a constant to X_test\n",
    "X_test_sm = sm.add_constant(X_test[col])\n",
    "X_test_sm"
   ]
  },
  {
   "cell_type": "code",
   "execution_count": 142,
   "id": "fcbf91bf",
   "metadata": {},
   "outputs": [],
   "source": [
    "\n",
    "y_test_prediction = res2.predict(X_test_sm)\n",
    "\n",
    "# Converting to df\n",
    "y_prediction_file1 = pd.DataFrame(y_test_prediction)\n",
    "\n",
    "# Converting y_test to df\n",
    "y_test_file1 = pd.DataFrame(y_test)"
   ]
  },
  {
   "cell_type": "code",
   "execution_count": 143,
   "id": "5e7533da",
   "metadata": {},
   "outputs": [],
   "source": [
    "# Remove index and Append for both dataframes \n",
    "\n",
    "y_prediction_file1.reset_index(drop=True, inplace=True)\n",
    "y_test_file1.reset_index(drop=True, inplace=True)"
   ]
  },
  {
   "cell_type": "code",
   "execution_count": 144,
   "id": "5ac41d26",
   "metadata": {},
   "outputs": [
    {
     "data": {
      "text/html": [
       "<div>\n",
       "<style scoped>\n",
       "    .dataframe tbody tr th:only-of-type {\n",
       "        vertical-align: middle;\n",
       "    }\n",
       "\n",
       "    .dataframe tbody tr th {\n",
       "        vertical-align: top;\n",
       "    }\n",
       "\n",
       "    .dataframe thead th {\n",
       "        text-align: right;\n",
       "    }\n",
       "</style>\n",
       "<table border=\"1\" class=\"dataframe\">\n",
       "  <thead>\n",
       "    <tr style=\"text-align: right;\">\n",
       "      <th></th>\n",
       "      <th>Converted</th>\n",
       "      <th>0</th>\n",
       "    </tr>\n",
       "  </thead>\n",
       "  <tbody>\n",
       "    <tr>\n",
       "      <th>0</th>\n",
       "      <td>0</td>\n",
       "      <td>0.695921</td>\n",
       "    </tr>\n",
       "    <tr>\n",
       "      <th>1</th>\n",
       "      <td>1</td>\n",
       "      <td>0.142042</td>\n",
       "    </tr>\n",
       "    <tr>\n",
       "      <th>2</th>\n",
       "      <td>0</td>\n",
       "      <td>0.002694</td>\n",
       "    </tr>\n",
       "    <tr>\n",
       "      <th>3</th>\n",
       "      <td>0</td>\n",
       "      <td>0.284254</td>\n",
       "    </tr>\n",
       "    <tr>\n",
       "      <th>4</th>\n",
       "      <td>0</td>\n",
       "      <td>0.044952</td>\n",
       "    </tr>\n",
       "  </tbody>\n",
       "</table>\n",
       "</div>"
      ],
      "text/plain": [
       "   Converted         0\n",
       "0          0  0.695921\n",
       "1          1  0.142042\n",
       "2          0  0.002694\n",
       "3          0  0.284254\n",
       "4          0  0.044952"
      ]
     },
     "execution_count": 144,
     "metadata": {},
     "output_type": "execute_result"
    }
   ],
   "source": [
    "\n",
    "y_prediction_final = pd.concat([y_test_file1, y_prediction_file1],axis=1)\n",
    "y_prediction_final.head()"
   ]
  },
  {
   "cell_type": "code",
   "execution_count": 145,
   "id": "dd0bc6fc",
   "metadata": {},
   "outputs": [
    {
     "data": {
      "text/html": [
       "<div>\n",
       "<style scoped>\n",
       "    .dataframe tbody tr th:only-of-type {\n",
       "        vertical-align: middle;\n",
       "    }\n",
       "\n",
       "    .dataframe tbody tr th {\n",
       "        vertical-align: top;\n",
       "    }\n",
       "\n",
       "    .dataframe thead th {\n",
       "        text-align: right;\n",
       "    }\n",
       "</style>\n",
       "<table border=\"1\" class=\"dataframe\">\n",
       "  <thead>\n",
       "    <tr style=\"text-align: right;\">\n",
       "      <th></th>\n",
       "      <th>Converted</th>\n",
       "      <th>Conversion_Prob</th>\n",
       "    </tr>\n",
       "  </thead>\n",
       "  <tbody>\n",
       "    <tr>\n",
       "      <th>0</th>\n",
       "      <td>0</td>\n",
       "      <td>0.695921</td>\n",
       "    </tr>\n",
       "    <tr>\n",
       "      <th>1</th>\n",
       "      <td>1</td>\n",
       "      <td>0.142042</td>\n",
       "    </tr>\n",
       "    <tr>\n",
       "      <th>2</th>\n",
       "      <td>0</td>\n",
       "      <td>0.002694</td>\n",
       "    </tr>\n",
       "    <tr>\n",
       "      <th>3</th>\n",
       "      <td>0</td>\n",
       "      <td>0.284254</td>\n",
       "    </tr>\n",
       "    <tr>\n",
       "      <th>4</th>\n",
       "      <td>0</td>\n",
       "      <td>0.044952</td>\n",
       "    </tr>\n",
       "  </tbody>\n",
       "</table>\n",
       "</div>"
      ],
      "text/plain": [
       "   Converted  Conversion_Prob\n",
       "0          0         0.695921\n",
       "1          1         0.142042\n",
       "2          0         0.002694\n",
       "3          0         0.284254\n",
       "4          0         0.044952"
      ]
     },
     "execution_count": 145,
     "metadata": {},
     "output_type": "execute_result"
    }
   ],
   "source": [
    "# Renaming column \n",
    "\n",
    "y_prediction_final= y_prediction_final.rename(columns = {0 : 'Conversion_Prob'})\n",
    "y_prediction_final.head()"
   ]
  },
  {
   "cell_type": "code",
   "execution_count": 146,
   "id": "1cfbcd82",
   "metadata": {},
   "outputs": [
    {
     "data": {
      "text/html": [
       "<div>\n",
       "<style scoped>\n",
       "    .dataframe tbody tr th:only-of-type {\n",
       "        vertical-align: middle;\n",
       "    }\n",
       "\n",
       "    .dataframe tbody tr th {\n",
       "        vertical-align: top;\n",
       "    }\n",
       "\n",
       "    .dataframe thead th {\n",
       "        text-align: right;\n",
       "    }\n",
       "</style>\n",
       "<table border=\"1\" class=\"dataframe\">\n",
       "  <thead>\n",
       "    <tr style=\"text-align: right;\">\n",
       "      <th></th>\n",
       "      <th>Converted</th>\n",
       "      <th>Conversion_Prob</th>\n",
       "      <th>final_predicted</th>\n",
       "    </tr>\n",
       "  </thead>\n",
       "  <tbody>\n",
       "    <tr>\n",
       "      <th>0</th>\n",
       "      <td>0</td>\n",
       "      <td>0.695921</td>\n",
       "      <td>1</td>\n",
       "    </tr>\n",
       "    <tr>\n",
       "      <th>1</th>\n",
       "      <td>1</td>\n",
       "      <td>0.142042</td>\n",
       "      <td>0</td>\n",
       "    </tr>\n",
       "    <tr>\n",
       "      <th>2</th>\n",
       "      <td>0</td>\n",
       "      <td>0.002694</td>\n",
       "      <td>0</td>\n",
       "    </tr>\n",
       "    <tr>\n",
       "      <th>3</th>\n",
       "      <td>0</td>\n",
       "      <td>0.284254</td>\n",
       "      <td>0</td>\n",
       "    </tr>\n",
       "    <tr>\n",
       "      <th>4</th>\n",
       "      <td>0</td>\n",
       "      <td>0.044952</td>\n",
       "      <td>0</td>\n",
       "    </tr>\n",
       "    <tr>\n",
       "      <th>...</th>\n",
       "      <td>...</td>\n",
       "      <td>...</td>\n",
       "      <td>...</td>\n",
       "    </tr>\n",
       "    <tr>\n",
       "      <th>2504</th>\n",
       "      <td>0</td>\n",
       "      <td>0.126377</td>\n",
       "      <td>0</td>\n",
       "    </tr>\n",
       "    <tr>\n",
       "      <th>2505</th>\n",
       "      <td>0</td>\n",
       "      <td>0.203349</td>\n",
       "      <td>0</td>\n",
       "    </tr>\n",
       "    <tr>\n",
       "      <th>2506</th>\n",
       "      <td>0</td>\n",
       "      <td>0.004591</td>\n",
       "      <td>0</td>\n",
       "    </tr>\n",
       "    <tr>\n",
       "      <th>2507</th>\n",
       "      <td>0</td>\n",
       "      <td>0.017290</td>\n",
       "      <td>0</td>\n",
       "    </tr>\n",
       "    <tr>\n",
       "      <th>2508</th>\n",
       "      <td>1</td>\n",
       "      <td>0.992850</td>\n",
       "      <td>1</td>\n",
       "    </tr>\n",
       "  </tbody>\n",
       "</table>\n",
       "<p>2509 rows × 3 columns</p>\n",
       "</div>"
      ],
      "text/plain": [
       "      Converted  Conversion_Prob  final_predicted\n",
       "0             0         0.695921                1\n",
       "1             1         0.142042                0\n",
       "2             0         0.002694                0\n",
       "3             0         0.284254                0\n",
       "4             0         0.044952                0\n",
       "...         ...              ...              ...\n",
       "2504          0         0.126377                0\n",
       "2505          0         0.203349                0\n",
       "2506          0         0.004591                0\n",
       "2507          0         0.017290                0\n",
       "2508          1         0.992850                1\n",
       "\n",
       "[2509 rows x 3 columns]"
      ]
     },
     "execution_count": 146,
     "metadata": {},
     "output_type": "execute_result"
    }
   ],
   "source": [
    "#Using cut off 0.34 for Prediction\n",
    "\n",
    "y_prediction_final['final_predicted'] = y_prediction_final.Conversion_Prob.map(lambda x: 1 if x > 0.34 else 0)\n",
    "y_prediction_final"
   ]
  },
  {
   "cell_type": "code",
   "execution_count": 148,
   "id": "22d55e70",
   "metadata": {},
   "outputs": [
    {
     "name": "stdout",
     "output_type": "stream",
     "text": [
      "Accuracy = 0.8888003188521323\n"
     ]
    }
   ],
   "source": [
    "# Overall accuracy\n",
    "Accuracy1 =metrics.accuracy_score(y_prediction_final['Converted'], y_prediction_final.final_predicted)\n",
    "print('Accuracy = ' + str(Accuracy1))"
   ]
  },
  {
   "cell_type": "code",
   "execution_count": 149,
   "id": "1ba43357",
   "metadata": {},
   "outputs": [
    {
     "data": {
      "text/plain": [
       "array([[1445,  155],\n",
       "       [ 124,  785]], dtype=int64)"
      ]
     },
     "execution_count": 149,
     "metadata": {},
     "output_type": "execute_result"
    }
   ],
   "source": [
    "# confusion matrix \n",
    "\n",
    "confusion1 = metrics.confusion_matrix(y_prediction_final['Converted'], y_prediction_final.final_predicted )\n",
    "confusion1"
   ]
  },
  {
   "cell_type": "code",
   "execution_count": 150,
   "id": "a7896786",
   "metadata": {},
   "outputs": [],
   "source": [
    "# Substituting the value of true positive\n",
    "TP = confusion1[1,1]\n",
    "\n",
    "# Substituting the value of true negatives\n",
    "TN = confusion1[0,0]\n",
    "\n",
    "# Substituting the value of false positives\n",
    "FP = confusion1[0,1] \n",
    "\n",
    "# Substituting the value of false negatives\n",
    "FN = confusion1[1,0]"
   ]
  },
  {
   "cell_type": "code",
   "execution_count": 151,
   "id": "95fcd9f9",
   "metadata": {},
   "outputs": [
    {
     "name": "stdout",
     "output_type": "stream",
     "text": [
      "Accuracy = 0.8888003188521323\n",
      "sensitivity = 0.8635863586358636\n",
      "specificity = 0.903125\n"
     ]
    }
   ],
   "source": [
    "print('Accuracy = ' + str(Accuracy1))\n",
    "\n",
    "# Calculating the sensitivity\n",
    "sensitivity = TP/(TP+FN)\n",
    "print('sensitivity = ' + str(sensitivity))\n",
    "\n",
    "# specificity\n",
    "specificity = TN/(TN+FP)\n",
    "print('specificity = ' + str(specificity))"
   ]
  },
  {
   "cell_type": "markdown",
   "id": "5e8512f7",
   "metadata": {},
   "source": [
    "THE TRAINED and TEST (accuracy ,sensitivity,specificity ) are almost same. Which is Good"
   ]
  },
  {
   "cell_type": "markdown",
   "id": "471a0072",
   "metadata": {},
   "source": [
    "### Precision Recall"
   ]
  },
  {
   "cell_type": "code",
   "execution_count": 152,
   "id": "20528a93",
   "metadata": {},
   "outputs": [
    {
     "data": {
      "text/plain": [
       "array([[3414,  227],\n",
       "       [ 380, 1832]], dtype=int64)"
      ]
     },
     "execution_count": 152,
     "metadata": {},
     "output_type": "execute_result"
    }
   ],
   "source": [
    "\n",
    "confusion = metrics.confusion_matrix(y_train_prediction_final.Converted, y_train_prediction_final.Predicted )\n",
    "confusion"
   ]
  },
  {
   "cell_type": "code",
   "execution_count": 153,
   "id": "b75a2b36",
   "metadata": {},
   "outputs": [
    {
     "data": {
      "text/plain": [
       "0.889752306945119"
      ]
     },
     "execution_count": 153,
     "metadata": {},
     "output_type": "execute_result"
    }
   ],
   "source": [
    "#Precision \n",
    "\n",
    "confusion[1,1]/(confusion[0,1]+confusion[1,1])"
   ]
  },
  {
   "cell_type": "code",
   "execution_count": 154,
   "id": "c0521734",
   "metadata": {},
   "outputs": [
    {
     "data": {
      "text/plain": [
       "0.8282097649186256"
      ]
     },
     "execution_count": 154,
     "metadata": {},
     "output_type": "execute_result"
    }
   ],
   "source": [
    "#Recall\n",
    "\n",
    "confusion[1,1]/(confusion[1,0]+confusion[1,1])"
   ]
  },
  {
   "cell_type": "markdown",
   "id": "3f95fc2d",
   "metadata": {},
   "source": [
    "### TradeOff"
   ]
  },
  {
   "cell_type": "code",
   "execution_count": 155,
   "id": "6163ac33",
   "metadata": {},
   "outputs": [],
   "source": [
    "from sklearn.metrics import precision_recall_curve"
   ]
  },
  {
   "cell_type": "code",
   "execution_count": 156,
   "id": "72d10a59",
   "metadata": {},
   "outputs": [
    {
     "data": {
      "text/plain": [
       "(0       0\n",
       " 1       0\n",
       " 2       0\n",
       " 3       0\n",
       " 4       1\n",
       "        ..\n",
       " 5848    0\n",
       " 5849    1\n",
       " 5850    1\n",
       " 5851    0\n",
       " 5852    0\n",
       " Name: Converted, Length: 5853, dtype: int64,\n",
       " 0       0\n",
       " 1       0\n",
       " 2       1\n",
       " 3       0\n",
       " 4       0\n",
       "        ..\n",
       " 5848    0\n",
       " 5849    1\n",
       " 5850    0\n",
       " 5851    0\n",
       " 5852    0\n",
       " Name: Predicted, Length: 5853, dtype: int64)"
      ]
     },
     "execution_count": 156,
     "metadata": {},
     "output_type": "execute_result"
    }
   ],
   "source": [
    "y_train_prediction_final.Converted, y_train_prediction_final.Predicted"
   ]
  },
  {
   "cell_type": "code",
   "execution_count": 157,
   "id": "93650c61",
   "metadata": {},
   "outputs": [],
   "source": [
    "p, r, thresholds = precision_recall_curve(y_train_prediction_final.Converted, y_train_prediction_final.Conversion_Prob)"
   ]
  },
  {
   "cell_type": "code",
   "execution_count": 158,
   "id": "0b78ac57",
   "metadata": {},
   "outputs": [
    {
     "data": {
      "image/png": "[encoded data removed]",
      "text/plain": [
       "<Figure size 432x288 with 1 Axes>"
      ]
     },
     "metadata": {
      "needs_background": "light"
     },
     "output_type": "display_data"
    }
   ],
   "source": [
    "plt.plot(thresholds, p[:-1], \"g-\")\n",
    "plt.plot(thresholds, r[:-1], \"r-\")\n",
    "plt.show()"
   ]
  },
  {
   "cell_type": "markdown",
   "id": "52d4d6eb",
   "metadata": {},
   "source": [
    "Cutoff is 0.39"
   ]
  },
  {
   "cell_type": "code",
   "execution_count": 159,
   "id": "0d431c41",
   "metadata": {},
   "outputs": [
    {
     "data": {
      "text/html": [
       "<div>\n",
       "<style scoped>\n",
       "    .dataframe tbody tr th:only-of-type {\n",
       "        vertical-align: middle;\n",
       "    }\n",
       "\n",
       "    .dataframe tbody tr th {\n",
       "        vertical-align: top;\n",
       "    }\n",
       "\n",
       "    .dataframe thead th {\n",
       "        text-align: right;\n",
       "    }\n",
       "</style>\n",
       "<table border=\"1\" class=\"dataframe\">\n",
       "  <thead>\n",
       "    <tr style=\"text-align: right;\">\n",
       "      <th></th>\n",
       "      <th>Converted</th>\n",
       "      <th>Conversion_Prob</th>\n",
       "      <th>Predicted</th>\n",
       "      <th>0.0</th>\n",
       "      <th>0.1</th>\n",
       "      <th>0.2</th>\n",
       "      <th>0.3</th>\n",
       "      <th>0.4</th>\n",
       "      <th>0.5</th>\n",
       "      <th>0.6</th>\n",
       "      <th>0.7</th>\n",
       "      <th>0.8</th>\n",
       "      <th>0.9</th>\n",
       "      <th>final_predicted</th>\n",
       "    </tr>\n",
       "  </thead>\n",
       "  <tbody>\n",
       "    <tr>\n",
       "      <th>0</th>\n",
       "      <td>0</td>\n",
       "      <td>0.429261</td>\n",
       "      <td>0</td>\n",
       "      <td>1</td>\n",
       "      <td>1</td>\n",
       "      <td>1</td>\n",
       "      <td>1</td>\n",
       "      <td>1</td>\n",
       "      <td>0</td>\n",
       "      <td>0</td>\n",
       "      <td>0</td>\n",
       "      <td>0</td>\n",
       "      <td>0</td>\n",
       "      <td>1</td>\n",
       "    </tr>\n",
       "    <tr>\n",
       "      <th>1</th>\n",
       "      <td>0</td>\n",
       "      <td>0.010788</td>\n",
       "      <td>0</td>\n",
       "      <td>1</td>\n",
       "      <td>0</td>\n",
       "      <td>0</td>\n",
       "      <td>0</td>\n",
       "      <td>0</td>\n",
       "      <td>0</td>\n",
       "      <td>0</td>\n",
       "      <td>0</td>\n",
       "      <td>0</td>\n",
       "      <td>0</td>\n",
       "      <td>0</td>\n",
       "    </tr>\n",
       "    <tr>\n",
       "      <th>2</th>\n",
       "      <td>0</td>\n",
       "      <td>0.637245</td>\n",
       "      <td>1</td>\n",
       "      <td>1</td>\n",
       "      <td>1</td>\n",
       "      <td>1</td>\n",
       "      <td>1</td>\n",
       "      <td>1</td>\n",
       "      <td>1</td>\n",
       "      <td>1</td>\n",
       "      <td>0</td>\n",
       "      <td>0</td>\n",
       "      <td>0</td>\n",
       "      <td>1</td>\n",
       "    </tr>\n",
       "    <tr>\n",
       "      <th>3</th>\n",
       "      <td>0</td>\n",
       "      <td>0.076814</td>\n",
       "      <td>0</td>\n",
       "      <td>1</td>\n",
       "      <td>0</td>\n",
       "      <td>0</td>\n",
       "      <td>0</td>\n",
       "      <td>0</td>\n",
       "      <td>0</td>\n",
       "      <td>0</td>\n",
       "      <td>0</td>\n",
       "      <td>0</td>\n",
       "      <td>0</td>\n",
       "      <td>0</td>\n",
       "    </tr>\n",
       "    <tr>\n",
       "      <th>4</th>\n",
       "      <td>1</td>\n",
       "      <td>0.109646</td>\n",
       "      <td>0</td>\n",
       "      <td>1</td>\n",
       "      <td>1</td>\n",
       "      <td>0</td>\n",
       "      <td>0</td>\n",
       "      <td>0</td>\n",
       "      <td>0</td>\n",
       "      <td>0</td>\n",
       "      <td>0</td>\n",
       "      <td>0</td>\n",
       "      <td>0</td>\n",
       "      <td>0</td>\n",
       "    </tr>\n",
       "  </tbody>\n",
       "</table>\n",
       "</div>"
      ],
      "text/plain": [
       "   Converted  Conversion_Prob  Predicted  0.0  0.1  0.2  0.3  0.4  0.5  0.6  \\\n",
       "0          0         0.429261          0    1    1    1    1    1    0    0   \n",
       "1          0         0.010788          0    1    0    0    0    0    0    0   \n",
       "2          0         0.637245          1    1    1    1    1    1    1    1   \n",
       "3          0         0.076814          0    1    0    0    0    0    0    0   \n",
       "4          1         0.109646          0    1    1    0    0    0    0    0   \n",
       "\n",
       "   0.7  0.8  0.9  final_predicted  \n",
       "0    0    0    0                1  \n",
       "1    0    0    0                0  \n",
       "2    0    0    0                1  \n",
       "3    0    0    0                0  \n",
       "4    0    0    0                0  "
      ]
     },
     "execution_count": 159,
     "metadata": {},
     "output_type": "execute_result"
    }
   ],
   "source": [
    "y_train_prediction_final['final_predicted'] = y_train_prediction_final.Conversion_Prob.map(lambda x: 1 if x > 0.39 else 0)\n",
    "\n",
    "y_train_prediction_final.head()"
   ]
  },
  {
   "cell_type": "code",
   "execution_count": 160,
   "id": "b6297d45",
   "metadata": {},
   "outputs": [
    {
     "name": "stdout",
     "output_type": "stream",
     "text": [
      "Accuracy_Train = 0.8916794806082351\n"
     ]
    }
   ],
   "source": [
    "# Accuracy\n",
    "accuracy_train= metrics.accuracy_score(y_train_prediction_final.Converted, y_train_prediction_final.final_predicted)\n",
    "\n",
    "print('Accuracy_Train = ' + str(accuracy_train))"
   ]
  },
  {
   "cell_type": "code",
   "execution_count": 161,
   "id": "95cfb7d3",
   "metadata": {},
   "outputs": [
    {
     "data": {
      "text/plain": [
       "array([[3327,  314],\n",
       "       [ 320, 1892]], dtype=int64)"
      ]
     },
     "execution_count": 161,
     "metadata": {},
     "output_type": "execute_result"
    }
   ],
   "source": [
    "# confusion matrix again\n",
    "\n",
    "confusion_1 = metrics.confusion_matrix(y_train_prediction_final.Converted, y_train_prediction_final.final_predicted )\n",
    "confusion_1"
   ]
  },
  {
   "cell_type": "code",
   "execution_count": 162,
   "id": "42951982",
   "metadata": {},
   "outputs": [],
   "source": [
    "# Substituting the value of true positive\n",
    "TP = confusion_1[1,1]\n",
    "\n",
    "# Substituting the value of true negatives\n",
    "TN = confusion_1[0,0]\n",
    "\n",
    "# Substituting the value of false positives\n",
    "FP = confusion_1[0,1] \n",
    "\n",
    "# Substituting the value of false negatives\n",
    "FN = confusion_1[1,0]"
   ]
  },
  {
   "cell_type": "code",
   "execution_count": 163,
   "id": "04d94e0c",
   "metadata": {},
   "outputs": [
    {
     "name": "stdout",
     "output_type": "stream",
     "text": [
      "Accuracy_Train = 0.8916794806082351\n",
      "Precision_Train = 0.85766092475068\n",
      "Recall_Train = 0.8553345388788427\n"
     ]
    }
   ],
   "source": [
    "print('Accuracy_Train = ' + str(accuracy_train))\n",
    "\n",
    "# Precision \n",
    "Precision_Train = TP/(TP+FP)\n",
    "print('Precision_Train = ' + str(Precision_Train))\n",
    "\n",
    "#Recall\n",
    "Recall_Train = TP/(TP+FN)\n",
    "print('Recall_Train = ' + str(Recall_Train))"
   ]
  },
  {
   "cell_type": "markdown",
   "id": "35b5e82f",
   "metadata": {},
   "source": [
    "### Test Set"
   ]
  },
  {
   "cell_type": "code",
   "execution_count": 164,
   "id": "028d90cd",
   "metadata": {},
   "outputs": [],
   "source": [
    "y_test_prediction = res2.predict(X_test_sm)\n",
    "\n",
    "# Coverting it to df\n",
    "y_prediction_file1 = pd.DataFrame(y_test_prediction)\n",
    "\n",
    "# Converting y_test to df\n",
    "y_test_file1 = pd.DataFrame(y_test)"
   ]
  },
  {
   "cell_type": "code",
   "execution_count": 166,
   "id": "c6fe404a",
   "metadata": {},
   "outputs": [
    {
     "data": {
      "text/html": [
       "<div>\n",
       "<style scoped>\n",
       "    .dataframe tbody tr th:only-of-type {\n",
       "        vertical-align: middle;\n",
       "    }\n",
       "\n",
       "    .dataframe tbody tr th {\n",
       "        vertical-align: top;\n",
       "    }\n",
       "\n",
       "    .dataframe thead th {\n",
       "        text-align: right;\n",
       "    }\n",
       "</style>\n",
       "<table border=\"1\" class=\"dataframe\">\n",
       "  <thead>\n",
       "    <tr style=\"text-align: right;\">\n",
       "      <th></th>\n",
       "      <th>Converted</th>\n",
       "      <th>0</th>\n",
       "    </tr>\n",
       "  </thead>\n",
       "  <tbody>\n",
       "    <tr>\n",
       "      <th>0</th>\n",
       "      <td>0</td>\n",
       "      <td>0.695921</td>\n",
       "    </tr>\n",
       "    <tr>\n",
       "      <th>1</th>\n",
       "      <td>1</td>\n",
       "      <td>0.142042</td>\n",
       "    </tr>\n",
       "    <tr>\n",
       "      <th>2</th>\n",
       "      <td>0</td>\n",
       "      <td>0.002694</td>\n",
       "    </tr>\n",
       "    <tr>\n",
       "      <th>3</th>\n",
       "      <td>0</td>\n",
       "      <td>0.284254</td>\n",
       "    </tr>\n",
       "    <tr>\n",
       "      <th>4</th>\n",
       "      <td>0</td>\n",
       "      <td>0.044952</td>\n",
       "    </tr>\n",
       "  </tbody>\n",
       "</table>\n",
       "</div>"
      ],
      "text/plain": [
       "   Converted         0\n",
       "0          0  0.695921\n",
       "1          1  0.142042\n",
       "2          0  0.002694\n",
       "3          0  0.284254\n",
       "4          0  0.044952"
      ]
     },
     "execution_count": 166,
     "metadata": {},
     "output_type": "execute_result"
    }
   ],
   "source": [
    "# Remove and append index for both df \n",
    "y_prediction_file1.reset_index(drop=True, inplace=True)\n",
    "y_test_file1.reset_index(drop=True, inplace=True)\n",
    "\n",
    "# Append y_test_df and y_pred_df\n",
    "y_prediction_final = pd.concat([y_test_file1, y_prediction_file1],axis=1)\n",
    "y_prediction_final.head()"
   ]
  },
  {
   "cell_type": "code",
   "execution_count": 167,
   "id": "4dc2f40c",
   "metadata": {},
   "outputs": [
    {
     "data": {
      "text/html": [
       "<div>\n",
       "<style scoped>\n",
       "    .dataframe tbody tr th:only-of-type {\n",
       "        vertical-align: middle;\n",
       "    }\n",
       "\n",
       "    .dataframe tbody tr th {\n",
       "        vertical-align: top;\n",
       "    }\n",
       "\n",
       "    .dataframe thead th {\n",
       "        text-align: right;\n",
       "    }\n",
       "</style>\n",
       "<table border=\"1\" class=\"dataframe\">\n",
       "  <thead>\n",
       "    <tr style=\"text-align: right;\">\n",
       "      <th></th>\n",
       "      <th>Converted</th>\n",
       "      <th>Conversion_Prob</th>\n",
       "    </tr>\n",
       "  </thead>\n",
       "  <tbody>\n",
       "    <tr>\n",
       "      <th>0</th>\n",
       "      <td>0</td>\n",
       "      <td>0.695921</td>\n",
       "    </tr>\n",
       "    <tr>\n",
       "      <th>1</th>\n",
       "      <td>1</td>\n",
       "      <td>0.142042</td>\n",
       "    </tr>\n",
       "    <tr>\n",
       "      <th>2</th>\n",
       "      <td>0</td>\n",
       "      <td>0.002694</td>\n",
       "    </tr>\n",
       "    <tr>\n",
       "      <th>3</th>\n",
       "      <td>0</td>\n",
       "      <td>0.284254</td>\n",
       "    </tr>\n",
       "    <tr>\n",
       "      <th>4</th>\n",
       "      <td>0</td>\n",
       "      <td>0.044952</td>\n",
       "    </tr>\n",
       "  </tbody>\n",
       "</table>\n",
       "</div>"
      ],
      "text/plain": [
       "   Converted  Conversion_Prob\n",
       "0          0         0.695921\n",
       "1          1         0.142042\n",
       "2          0         0.002694\n",
       "3          0         0.284254\n",
       "4          0         0.044952"
      ]
     },
     "execution_count": 167,
     "metadata": {},
     "output_type": "execute_result"
    }
   ],
   "source": [
    "# Renaming column \n",
    "\n",
    "y_prediction_final= y_prediction_final.rename(columns = {0 : 'Conversion_Prob'})\n",
    "y_prediction_final.head()"
   ]
  },
  {
   "cell_type": "code",
   "execution_count": 168,
   "id": "d78c62f1",
   "metadata": {},
   "outputs": [
    {
     "data": {
      "text/html": [
       "<div>\n",
       "<style scoped>\n",
       "    .dataframe tbody tr th:only-of-type {\n",
       "        vertical-align: middle;\n",
       "    }\n",
       "\n",
       "    .dataframe tbody tr th {\n",
       "        vertical-align: top;\n",
       "    }\n",
       "\n",
       "    .dataframe thead th {\n",
       "        text-align: right;\n",
       "    }\n",
       "</style>\n",
       "<table border=\"1\" class=\"dataframe\">\n",
       "  <thead>\n",
       "    <tr style=\"text-align: right;\">\n",
       "      <th></th>\n",
       "      <th>Converted</th>\n",
       "      <th>Conversion_Prob</th>\n",
       "      <th>final_predicted</th>\n",
       "    </tr>\n",
       "  </thead>\n",
       "  <tbody>\n",
       "    <tr>\n",
       "      <th>0</th>\n",
       "      <td>0</td>\n",
       "      <td>0.695921</td>\n",
       "      <td>1</td>\n",
       "    </tr>\n",
       "    <tr>\n",
       "      <th>1</th>\n",
       "      <td>1</td>\n",
       "      <td>0.142042</td>\n",
       "      <td>0</td>\n",
       "    </tr>\n",
       "    <tr>\n",
       "      <th>2</th>\n",
       "      <td>0</td>\n",
       "      <td>0.002694</td>\n",
       "      <td>0</td>\n",
       "    </tr>\n",
       "    <tr>\n",
       "      <th>3</th>\n",
       "      <td>0</td>\n",
       "      <td>0.284254</td>\n",
       "      <td>0</td>\n",
       "    </tr>\n",
       "    <tr>\n",
       "      <th>4</th>\n",
       "      <td>0</td>\n",
       "      <td>0.044952</td>\n",
       "      <td>0</td>\n",
       "    </tr>\n",
       "    <tr>\n",
       "      <th>...</th>\n",
       "      <td>...</td>\n",
       "      <td>...</td>\n",
       "      <td>...</td>\n",
       "    </tr>\n",
       "    <tr>\n",
       "      <th>2504</th>\n",
       "      <td>0</td>\n",
       "      <td>0.126377</td>\n",
       "      <td>0</td>\n",
       "    </tr>\n",
       "    <tr>\n",
       "      <th>2505</th>\n",
       "      <td>0</td>\n",
       "      <td>0.203349</td>\n",
       "      <td>0</td>\n",
       "    </tr>\n",
       "    <tr>\n",
       "      <th>2506</th>\n",
       "      <td>0</td>\n",
       "      <td>0.004591</td>\n",
       "      <td>0</td>\n",
       "    </tr>\n",
       "    <tr>\n",
       "      <th>2507</th>\n",
       "      <td>0</td>\n",
       "      <td>0.017290</td>\n",
       "      <td>0</td>\n",
       "    </tr>\n",
       "    <tr>\n",
       "      <th>2508</th>\n",
       "      <td>1</td>\n",
       "      <td>0.992850</td>\n",
       "      <td>1</td>\n",
       "    </tr>\n",
       "  </tbody>\n",
       "</table>\n",
       "<p>2509 rows × 3 columns</p>\n",
       "</div>"
      ],
      "text/plain": [
       "      Converted  Conversion_Prob  final_predicted\n",
       "0             0         0.695921                1\n",
       "1             1         0.142042                0\n",
       "2             0         0.002694                0\n",
       "3             0         0.284254                0\n",
       "4             0         0.044952                0\n",
       "...         ...              ...              ...\n",
       "2504          0         0.126377                0\n",
       "2505          0         0.203349                0\n",
       "2506          0         0.004591                0\n",
       "2507          0         0.017290                0\n",
       "2508          1         0.992850                1\n",
       "\n",
       "[2509 rows x 3 columns]"
      ]
     },
     "execution_count": 168,
     "metadata": {},
     "output_type": "execute_result"
    }
   ],
   "source": [
    "# using cut off 0.39 for prediction\n",
    "\n",
    "y_prediction_final['final_predicted'] = y_prediction_final.Conversion_Prob.map(lambda x: 1 if x > 0.39 else 0)\n",
    "y_prediction_final"
   ]
  },
  {
   "cell_type": "code",
   "execution_count": 169,
   "id": "be5a7934",
   "metadata": {},
   "outputs": [
    {
     "name": "stdout",
     "output_type": "stream",
     "text": [
      "Accuracy_Test = 0.8911917098445595\n"
     ]
    }
   ],
   "source": [
    "# Accuracy\n",
    "\n",
    "accuracy_test = metrics.accuracy_score(y_prediction_final['Converted'], y_prediction_final.final_predicted)\n",
    "print('Accuracy_Test = ' + str(accuracy_test))"
   ]
  },
  {
   "cell_type": "code",
   "execution_count": 170,
   "id": "3479d1f7",
   "metadata": {},
   "outputs": [
    {
     "data": {
      "text/plain": [
       "array([[1460,  140],\n",
       "       [ 133,  776]], dtype=int64)"
      ]
     },
     "execution_count": 170,
     "metadata": {},
     "output_type": "execute_result"
    }
   ],
   "source": [
    "#confusion matrix \n",
    "\n",
    "confusion_2 = metrics.confusion_matrix(y_prediction_final['Converted'], y_prediction_final.final_predicted )\n",
    "confusion_2"
   ]
  },
  {
   "cell_type": "code",
   "execution_count": 171,
   "id": "b1bbf5e7",
   "metadata": {},
   "outputs": [],
   "source": [
    "# Substituting the value of true positive\n",
    "TP = confusion1[1,1]\n",
    "\n",
    "# Substituting the value of true negatives\n",
    "TN = confusion1[0,0]\n",
    "\n",
    "# Substituting the value of false positives\n",
    "FP = confusion1[0,1] \n",
    "\n",
    "# Substituting the value of false negatives\n",
    "FN = confusion1[1,0]"
   ]
  },
  {
   "cell_type": "code",
   "execution_count": 172,
   "id": "0f81cd50",
   "metadata": {},
   "outputs": [
    {
     "name": "stdout",
     "output_type": "stream",
     "text": [
      "Accuracy_Test = 0.8423030924312318\n",
      "Precision_Test = 0.8351063829787234\n",
      "Recall_Test = 0.8635863586358636\n"
     ]
    }
   ],
   "source": [
    "print('Accuracy_Test = ' + str(accuracy))\n",
    "\n",
    "# Precision\n",
    "Precision_Test =TP/(TP+FP)\n",
    "print('Precision_Test = ' + str(Precision_Test))\n",
    "\n",
    "#Recall \n",
    "Recall_Test =TP/(TP+FN)\n",
    "\n",
    "print('Recall_Test = ' + str(Recall_Test))"
   ]
  },
  {
   "cell_type": "markdown",
   "id": "64746bd2",
   "metadata": {},
   "source": [
    "THE TRAINED and TEST (accuracy ,Precision,Recall ) are almost same. Which is Good"
   ]
  },
  {
   "cell_type": "markdown",
   "id": "5e666a5d",
   "metadata": {},
   "source": [
    "### Conclusion : "
   ]
  },
  {
   "cell_type": "markdown",
   "id": "68f7deb3",
   "metadata": {},
   "source": [
    "That is, there is above 80% chance that our predicted leads will be converted\n",
    "\n",
    "When compared to the model we derived, our Logistic Regression Model is decent and accurate enough with approx 88% Accuracy on Test Set, 85 % Sensitivity and 90 % Specificity\n",
    "\n",
    "We can adjust these parameters by changing the cut-off value, and predict leads.\n",
    "\n",
    "Increasing total visits through advertising, etc. will result in a higher conversion rate\n",
    "\n",
    "In order to increase conversions, websites should increase engagement with users"
   ]
  },
  {
   "cell_type": "code",
   "execution_count": null,
   "id": "af7ac92b",
   "metadata": {},
   "outputs": [],
   "source": []
  }
 ],
 "metadata": {
  "kernelspec": {
   "display_name": "Python 3 (ipykernel)",
   "language": "python",
   "name": "python3"
  },
  "language_info": {
   "codemirror_mode": {
    "name": "ipython",
    "version": 3
   },
   "file_extension": ".py",
   "mimetype": "text/x-python",
   "name": "python",
   "nbconvert_exporter": "python",
   "pygments_lexer": "ipython3",
   "version": "3.9.7"
  }
 },
 "nbformat": 4,
 "nbformat_minor": 5
}
